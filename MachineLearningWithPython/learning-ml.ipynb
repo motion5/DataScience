{
 "cells": [
  {
   "cell_type": "markdown",
   "metadata": {},
   "source": [
    "# Walkthrough learning Machine learning technqiues with pyTorch\n",
    "Will attempt to use some sort of financial concept \n",
    "\n",
    "- Will document the process as a whole pipeline from \n",
    "  1. Defining my question\n",
    "  2. Data selection & cleaning\n",
    "  3. Algorithm selection\n",
    "  4. Training the model\n",
    "  5. Tesing the model"
   ]
  },
  {
   "cell_type": "markdown",
   "metadata": {},
   "source": [
    "# Defining my question\n",
    "\n"
   ]
  },
  {
   "cell_type": "markdown",
   "metadata": {},
   "source": [
    "# Import Libraries"
   ]
  },
  {
   "cell_type": "code",
   "execution_count": 18,
   "metadata": {},
   "outputs": [],
   "source": [
    "import pandas as pd\n",
    "import matplotlib.pyplot as plt\n",
    "import numpy as np\n",
    "import math\n",
    "\n",
    "# do plotting inline instead of seperate window\n",
    "%matplotlib inline"
   ]
  },
  {
   "cell_type": "markdown",
   "metadata": {},
   "source": [
    "## Load and review data\n"
   ]
  },
  {
   "cell_type": "code",
   "execution_count": 19,
   "metadata": {},
   "outputs": [],
   "source": [
    "df = pd.read_csv(\"./data/pima-data.csv\")"
   ]
  },
  {
   "cell_type": "markdown",
   "metadata": {},
   "source": [
    "## Splitting the data\n",
    "70% for training, 30% for testing"
   ]
  },
  {
   "cell_type": "markdown",
   "metadata": {},
   "source": []
  },
  {
   "cell_type": "code",
   "execution_count": 30,
   "metadata": {},
   "outputs": [
    {
     "name": "stdout",
     "output_type": "stream",
     "text": [
      "Open      float64\n",
      "High      float64\n",
      "Low       float64\n",
      "Close     float64\n",
      "Volume      int64\n",
      "dtype: object\n",
      "DatetimeIndex(['2021-08-31', '2021-09-01', '2021-09-02', '2021-09-03',\n",
      "               '2021-09-07', '2021-09-08', '2021-09-09', '2021-09-10',\n",
      "               '2021-09-13', '2021-09-14',\n",
      "               ...\n",
      "               '2022-08-17', '2022-08-18', '2022-08-19', '2022-08-22',\n",
      "               '2022-08-23', '2022-08-24', '2022-08-25', '2022-08-26',\n",
      "               '2022-08-29', '2022-08-30'],\n",
      "              dtype='datetime64[ns]', name='Date', length=252, freq=None)\n"
     ]
    }
   ],
   "source": [
    "from datetime import datetime\n",
    "import yfinance as yf\n",
    "\n",
    "spy = yf.Ticker(\"^GSPC\")\n",
    "\n",
    "df_spy = spy.history(period=\"1y\", interval=\"1d\", actions=False)\n",
    "# valid periods: 1d,5d,1mo,3mo,6mo,1y,2y,5y,10y,ytd,max\n",
    "# valid intervals: 1m,2m,5m,15m,30m,60m,90m,1h,1d,5d,1wk,1mo,3mo\n",
    "\n",
    "#df_spy['Date'] = pd.to_datetime(df_spy['Date'], format=\"Y-m-d\") \n",
    "print (df_spy.dtypes)\n",
    "print (df_spy.index)\n",
    "\n"
   ]
  },
  {
   "cell_type": "markdown",
   "metadata": {},
   "source": [
    "## Setup and plot the data\n"
   ]
  },
  {
   "cell_type": "code",
   "execution_count": 2,
   "metadata": {},
   "outputs": [
    {
     "ename": "NameError",
     "evalue": "name 'pd' is not defined",
     "output_type": "error",
     "traceback": [
      "\u001b[0;31m---------------------------------------------------------------------------\u001b[0m",
      "\u001b[0;31mNameError\u001b[0m                                 Traceback (most recent call last)",
      "\u001b[1;32m/Users/rob/code/MachineLearning/MachineLearningWithPython/learning-ml.ipynb Cell 11\u001b[0m in \u001b[0;36m<cell line: 5>\u001b[0;34m()\u001b[0m\n\u001b[1;32m      <a href='vscode-notebook-cell:/Users/rob/code/MachineLearning/MachineLearningWithPython/learning-ml.ipynb#X13sZmlsZQ%3D%3D?line=0'>1</a>\u001b[0m \u001b[39mimport\u001b[39;00m \u001b[39mplotly\u001b[39;00m\u001b[39m.\u001b[39;00m\u001b[39mgraph_objects\u001b[39;00m \u001b[39mas\u001b[39;00m \u001b[39mgo\u001b[39;00m\n\u001b[1;32m      <a href='vscode-notebook-cell:/Users/rob/code/MachineLearning/MachineLearningWithPython/learning-ml.ipynb#X13sZmlsZQ%3D%3D?line=2'>3</a>\u001b[0m \u001b[39mfrom\u001b[39;00m \u001b[39mdatetime\u001b[39;00m \u001b[39mimport\u001b[39;00m datetime\n\u001b[0;32m----> <a href='vscode-notebook-cell:/Users/rob/code/MachineLearning/MachineLearningWithPython/learning-ml.ipynb#X13sZmlsZQ%3D%3D?line=4'>5</a>\u001b[0m df \u001b[39m=\u001b[39m pd\u001b[39m.\u001b[39mread_csv(\n\u001b[1;32m      <a href='vscode-notebook-cell:/Users/rob/code/MachineLearning/MachineLearningWithPython/learning-ml.ipynb#X13sZmlsZQ%3D%3D?line=5'>6</a>\u001b[0m     \u001b[39m'\u001b[39m\u001b[39mhttps://raw.githubusercontent.com/plotly/datasets/master/finance-charts-apple.csv\u001b[39m\u001b[39m'\u001b[39m)\n\u001b[1;32m      <a href='vscode-notebook-cell:/Users/rob/code/MachineLearning/MachineLearningWithPython/learning-ml.ipynb#X13sZmlsZQ%3D%3D?line=7'>8</a>\u001b[0m fig \u001b[39m=\u001b[39m go\u001b[39m.\u001b[39mFigure(data\u001b[39m=\u001b[39m[go\u001b[39m.\u001b[39mCandlestick(x\u001b[39m=\u001b[39mdf_spy\u001b[39m.\u001b[39mindex,\n\u001b[1;32m      <a href='vscode-notebook-cell:/Users/rob/code/MachineLearning/MachineLearningWithPython/learning-ml.ipynb#X13sZmlsZQ%3D%3D?line=8'>9</a>\u001b[0m                 \u001b[39mopen\u001b[39m\u001b[39m=\u001b[39mdf_spy[\u001b[39m'\u001b[39m\u001b[39mOpen\u001b[39m\u001b[39m'\u001b[39m],\n\u001b[1;32m     <a href='vscode-notebook-cell:/Users/rob/code/MachineLearning/MachineLearningWithPython/learning-ml.ipynb#X13sZmlsZQ%3D%3D?line=9'>10</a>\u001b[0m                 high\u001b[39m=\u001b[39mdf_spy[\u001b[39m'\u001b[39m\u001b[39mHigh\u001b[39m\u001b[39m'\u001b[39m],\n\u001b[1;32m     <a href='vscode-notebook-cell:/Users/rob/code/MachineLearning/MachineLearningWithPython/learning-ml.ipynb#X13sZmlsZQ%3D%3D?line=10'>11</a>\u001b[0m                 low\u001b[39m=\u001b[39mdf_spy[\u001b[39m'\u001b[39m\u001b[39mLow\u001b[39m\u001b[39m'\u001b[39m],\n\u001b[1;32m     <a href='vscode-notebook-cell:/Users/rob/code/MachineLearning/MachineLearningWithPython/learning-ml.ipynb#X13sZmlsZQ%3D%3D?line=11'>12</a>\u001b[0m                 close\u001b[39m=\u001b[39mdf_spy[\u001b[39m'\u001b[39m\u001b[39mClose\u001b[39m\u001b[39m'\u001b[39m])])\n\u001b[1;32m     <a href='vscode-notebook-cell:/Users/rob/code/MachineLearning/MachineLearningWithPython/learning-ml.ipynb#X13sZmlsZQ%3D%3D?line=13'>14</a>\u001b[0m fig\u001b[39m.\u001b[39mupdate_layout(\n\u001b[1;32m     <a href='vscode-notebook-cell:/Users/rob/code/MachineLearning/MachineLearningWithPython/learning-ml.ipynb#X13sZmlsZQ%3D%3D?line=14'>15</a>\u001b[0m     title\u001b[39m=\u001b[39m\u001b[39m'\u001b[39m\u001b[39m'\u001b[39m,\n\u001b[1;32m     <a href='vscode-notebook-cell:/Users/rob/code/MachineLearning/MachineLearningWithPython/learning-ml.ipynb#X13sZmlsZQ%3D%3D?line=15'>16</a>\u001b[0m     yaxis_title\u001b[39m=\u001b[39m\u001b[39m'\u001b[39m\u001b[39mAAPL Stock\u001b[39m\u001b[39m'\u001b[39m,\n\u001b[0;32m   (...)\u001b[0m\n\u001b[1;32m     <a href='vscode-notebook-cell:/Users/rob/code/MachineLearning/MachineLearningWithPython/learning-ml.ipynb#X13sZmlsZQ%3D%3D?line=21'>22</a>\u001b[0m         showarrow\u001b[39m=\u001b[39m\u001b[39mFalse\u001b[39;00m, xanchor\u001b[39m=\u001b[39m\u001b[39m'\u001b[39m\u001b[39mleft\u001b[39m\u001b[39m'\u001b[39m, text\u001b[39m=\u001b[39m\u001b[39m'\u001b[39m\u001b[39mIncrease Period Begins\u001b[39m\u001b[39m'\u001b[39m)]\n\u001b[1;32m     <a href='vscode-notebook-cell:/Users/rob/code/MachineLearning/MachineLearningWithPython/learning-ml.ipynb#X13sZmlsZQ%3D%3D?line=22'>23</a>\u001b[0m )\n",
      "\u001b[0;31mNameError\u001b[0m: name 'pd' is not defined"
     ]
    }
   ],
   "source": [
    "import plotly.graph_objects as go\n",
    "\n",
    "from datetime import datetime\n",
    "\n",
    "df = pd.read_csv(\n",
    "    'https://raw.githubusercontent.com/plotly/datasets/master/finance-charts-apple.csv')\n",
    "\n",
    "fig = go.Figure(data=[go.Candlestick(x=df_spy.index,\n",
    "                open=df_spy['Open'],\n",
    "                high=df_spy['High'],\n",
    "                low=df_spy['Low'],\n",
    "                close=df_spy['Close'])])\n",
    "\n",
    "fig.update_layout(\n",
    "    title='',\n",
    "    yaxis_title='AAPL Stock',\n",
    "    shapes=[dict(\n",
    "        x0='2016-12-09', x1='2016-12-09', y0=0, y1=1, xref='x', yref='paper',\n",
    "        line_width=2)],\n",
    "    annotations=[dict(\n",
    "        x='2016-12-09', y=0.05, xref='x', yref='paper',\n",
    "        showarrow=False, xanchor='left', text='Increase Period Begins')]\n",
    ")\n",
    "fig.show()\n"
   ]
  },
  {
   "cell_type": "markdown",
   "metadata": {},
   "source": [
    "## Learning Regression\n",
    "\n",
    "- Consider mean & variance\n",
    "\n",
    "Regression is finding a line that best fits the set of points, where:\n",
    "\n",
    "$$y_1 = A + B_{x1}\\\\\n",
    "y_2 = A + B_{x2}\\\\\n",
    "\\cdots\\\\\n",
    "y_n = A + B_{xn}$$\n",
    "\n",
    "\n",
    "Ideally it would satisfy all equations, however its unlikely that we will so we have to live with some level of error e\n",
    "\n",
    "Hence...\n",
    "\n",
    "### Regression Residuals\n",
    "\n",
    "$$y_1 = A + B_{x1} + e_1\\\\\n",
    "y_2 = A + B_{x2} + e_2\\\\\n",
    "\\cdots\\\\\n",
    "y_n = A + B_{xn} + e_n$$\n",
    "\n",
    "e is technically refered to as the 'regression residuals' of the equation \n",
    "\n",
    "We find the values for A & B such that the magnitude of the residuals are minimized\n",
    "\n",
    "\n",
    "To find the line of \"best fit\" we need to make some assumptions about regression residuals\n",
    "\n",
    "- Have zero mean\n",
    "- common variance\n",
    "- be independet of eachother\n",
    "- be independent of x\n",
    "- be normally distributed"
   ]
  },
  {
   "cell_type": "markdown",
   "metadata": {},
   "source": [
    "Note: Only try to find regression between variables that you have already established a cause and affect relationship between. \n",
    "Otherwise you will be falling fallacy to one of the following two fallacies\n",
    "- Post hoc fallacy - X happens before Y so we conclude that X causes Y\n",
    "- Correlation is causation fallacy - X and Y happen together so we conclude that X causes Y\n",
    "\n",
    "## Quantifying the cause and affect relationship \n",
    "\n",
    "### Independent variable x \n",
    "If X causes Y, then values of x form a vector, called the independent variable or explanatory variable\n",
    "\n",
    "## R squared as variance\n",
    "$$ R{^2} \\text{as Variance} $$  \n",
    "\n",
    "the fitted line y = a + bx will yield a different set of values, called the fitted values\n",
    "\n",
    "The higher the R^2 "
   ]
  },
  {
   "cell_type": "code",
   "execution_count": null,
   "metadata": {},
   "outputs": [],
   "source": []
  },
  {
   "cell_type": "code",
   "execution_count": null,
   "metadata": {},
   "outputs": [],
   "source": []
  }
 ],
 "metadata": {
  "kernelspec": {
   "display_name": "Python 3.10.6 ('env': venv)",
   "language": "python",
   "name": "python3"
  },
  "language_info": {
   "codemirror_mode": {
    "name": "ipython",
    "version": 3
   },
   "file_extension": ".py",
   "mimetype": "text/x-python",
   "name": "python",
   "nbconvert_exporter": "python",
   "pygments_lexer": "ipython3",
   "version": "3.10.6"
  },
  "orig_nbformat": 4,
  "vscode": {
   "interpreter": {
    "hash": "2cdc50347063cd6efa8fda3ccc7b24319dc5e5626eea2dbf85d34e68e71e5f0d"
   }
  }
 },
 "nbformat": 4,
 "nbformat_minor": 2
}
