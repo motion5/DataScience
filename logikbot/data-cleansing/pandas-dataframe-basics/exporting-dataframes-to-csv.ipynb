{
 "cells": [
  {
   "cell_type": "code",
   "execution_count": 2,
   "metadata": {},
   "outputs": [
    {
     "name": "stdout",
     "output_type": "stream",
     "text": [
      "                        Occupation        Born        Died  Age\n",
      "Albert Einstein             Genius  1879-03-14  1955-04-18   76\n",
      "Isaac Newton     SmartestHumanEver  1643-01-04  1727-03-31   84\n"
     ]
    }
   ],
   "source": [
    "import pandas as pd\n",
    "\n",
    "smartdudes = pd.DataFrame(\n",
    "    data={'Occupation': ['Genius', 'SmartestHumanEver'],\n",
    "          'Born': ['1879-03-14', '1643-01-04'],\n",
    "          'Died': ['1955-04-18', '1727-03-31'],\n",
    "          'Age': [76, 84]},\n",
    "    index=['Albert Einstein', 'Isaac Newton'],\n",
    "    columns=['Occupation', 'Born', 'Died', 'Age'])\n",
    "\n",
    "print(smartdudes)\n"
   ]
  },
  {
   "cell_type": "code",
   "execution_count": 3,
   "metadata": {},
   "outputs": [],
   "source": [
    "smartdudes.to_csv('data/SmartDudes.csv')\n"
   ]
  },
  {
   "cell_type": "code",
   "execution_count": 4,
   "metadata": {},
   "outputs": [
    {
     "name": "stdout",
     "output_type": "stream",
     "text": [
      "<class 'pandas.core.frame.DataFrame'>\n"
     ]
    }
   ],
   "source": [
    "print(type(smartdudes))"
   ]
  }
 ],
 "metadata": {
  "kernelspec": {
   "display_name": "DataScience",
   "language": "python",
   "name": "python3"
  },
  "language_info": {
   "codemirror_mode": {
    "name": "ipython",
    "version": 3
   },
   "file_extension": ".py",
   "mimetype": "text/x-python",
   "name": "python",
   "nbconvert_exporter": "python",
   "pygments_lexer": "ipython3",
   "version": "3.9.13"
  },
  "orig_nbformat": 4,
  "vscode": {
   "interpreter": {
    "hash": "2c6c7fa3a239eef9c067874352a44de63d1c98833efde66e5319eb509ae6764f"
   }
  }
 },
 "nbformat": 4,
 "nbformat_minor": 2
}
