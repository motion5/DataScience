{
 "cells": [
  {
   "cell_type": "code",
   "execution_count": 1,
   "metadata": {},
   "outputs": [],
   "source": [
    "from pandas import read_csv\n",
    "from xgboost import XGBClassifier\n",
    "from sklearn.model_selection import GridSearchCV\n",
    "from sklearn.model_selection import StratifiedKFold\n",
    "from sklearn.preprocessing import LabelEncoder\n",
    "import matplotlib\n",
    "matplotlib.use('Agg')\n",
    "from matplotlib import pyplot"
   ]
  },
  {
   "cell_type": "code",
   "execution_count": 5,
   "metadata": {},
   "outputs": [],
   "source": [
    "data = read_csv('train.csv')\n",
    "dataset = data.values "
   ]
  },
  {
   "cell_type": "code",
   "execution_count": 6,
   "metadata": {},
   "outputs": [
    {
     "ename": "IndexError",
     "evalue": "index 94 is out of bounds for axis 1 with size 12",
     "output_type": "error",
     "traceback": [
      "\u001b[0;31m---------------------------------------------------------------------------\u001b[0m",
      "\u001b[0;31mIndexError\u001b[0m                                Traceback (most recent call last)",
      "\u001b[1;32m/Users/rob/code/DataScience/code/study/logikbot/intro-to-xgboost/XGBoost Master Class - Tuning the Trees.ipynb Cell 3\u001b[0m in \u001b[0;36m<cell line: 2>\u001b[0;34m()\u001b[0m\n\u001b[1;32m      <a href='vscode-notebook-cell:/Users/rob/code/DataScience/code/study/logikbot/intro-to-xgboost/XGBoost%20Master%20Class%20-%20Tuning%20the%20Trees.ipynb#W2sZmlsZQ%3D%3D?line=0'>1</a>\u001b[0m X \u001b[39m=\u001b[39m dataset[:,\u001b[39m0\u001b[39m:\u001b[39m94\u001b[39m]\n\u001b[0;32m----> <a href='vscode-notebook-cell:/Users/rob/code/DataScience/code/study/logikbot/intro-to-xgboost/XGBoost%20Master%20Class%20-%20Tuning%20the%20Trees.ipynb#W2sZmlsZQ%3D%3D?line=1'>2</a>\u001b[0m y \u001b[39m=\u001b[39m dataset[:,\u001b[39m94\u001b[39;49m]\n",
      "\u001b[0;31mIndexError\u001b[0m: index 94 is out of bounds for axis 1 with size 12"
     ]
    }
   ],
   "source": [
    "X = dataset[:,0:94]\n",
    "y = dataset[:,94]"
   ]
  },
  {
   "cell_type": "markdown",
   "metadata": {},
   "source": []
  },
  {
   "cell_type": "code",
   "execution_count": 7,
   "metadata": {},
   "outputs": [
    {
     "ename": "NameError",
     "evalue": "name 'y' is not defined",
     "output_type": "error",
     "traceback": [
      "\u001b[0;31m---------------------------------------------------------------------------\u001b[0m",
      "\u001b[0;31mNameError\u001b[0m                                 Traceback (most recent call last)",
      "\u001b[1;32m/Users/rob/code/DataScience/code/study/logikbot/intro-to-xgboost/XGBoost Master Class - Tuning the Trees.ipynb Cell 5\u001b[0m in \u001b[0;36m<cell line: 1>\u001b[0;34m()\u001b[0m\n\u001b[0;32m----> <a href='vscode-notebook-cell:/Users/rob/code/DataScience/code/study/logikbot/intro-to-xgboost/XGBoost%20Master%20Class%20-%20Tuning%20the%20Trees.ipynb#W3sZmlsZQ%3D%3D?line=0'>1</a>\u001b[0m label_encoded_y \u001b[39m=\u001b[39m LabelEncoder()\u001b[39m.\u001b[39mfit_transform(y)\n",
      "\u001b[0;31mNameError\u001b[0m: name 'y' is not defined"
     ]
    }
   ],
   "source": [
    "label_encoded_y = LabelEncoder().fit_transform(y)"
   ]
  },
  {
   "cell_type": "code",
   "execution_count": 5,
   "metadata": {},
   "outputs": [],
   "source": [
    "model = XGBClassifier()\n",
    "n_estimators = range(50, 400, 50)\n",
    "param_grid = dict(n_estimators=n_estimators)\n",
    "kfold = StratifiedKFold(n_splits=10, shuffle=True, random_state=7) \n",
    "grid_search = GridSearchCV(model, param_grid, scoring=\"neg_log_loss\", n_jobs=-1, cv=kfold)\n",
    "grid_result = grid_search.fit(X, label_encoded_y)"
   ]
  },
  {
   "cell_type": "code",
   "execution_count": 10,
   "metadata": {},
   "outputs": [
    {
     "name": "stdout",
     "output_type": "stream",
     "text": [
      "Best: -0.000848 using {'n_estimators': 250}\n",
      "-0.010753 (0.000756) with: {'n_estimators': 50}\n",
      "-0.000926 (0.001211) with: {'n_estimators': 100}\n",
      "-0.000856 (0.001212) with: {'n_estimators': 150}\n",
      "-0.000849 (0.001206) with: {'n_estimators': 200}\n",
      "-0.000848 (0.001206) with: {'n_estimators': 250}\n",
      "-0.000848 (0.001206) with: {'n_estimators': 300}\n",
      "-0.000849 (0.001207) with: {'n_estimators': 350}\n"
     ]
    }
   ],
   "source": [
    "print(\"Best: %f using %s\" % (grid_result.best_score_, grid_result.best_params_))\n",
    "means = grid_result.cv_results_['mean_test_score']\n",
    "stds = grid_result.cv_results_['std_test_score']\n",
    "params = grid_result.cv_results_['params']\n",
    "for mean, stdev, param in zip(means, stds, params):\n",
    "\tprint(\"%f (%f) with: %r\" % (mean, stdev, param))"
   ]
  },
  {
   "cell_type": "code",
   "execution_count": null,
   "metadata": {},
   "outputs": [],
   "source": []
  }
 ],
 "metadata": {
  "kernelspec": {
   "display_name": "DataScience",
   "language": "python",
   "name": "python3"
  },
  "language_info": {
   "codemirror_mode": {
    "name": "ipython",
    "version": 3
   },
   "file_extension": ".py",
   "mimetype": "text/x-python",
   "name": "python",
   "nbconvert_exporter": "python",
   "pygments_lexer": "ipython3",
   "version": "3.9.13"
  },
  "vscode": {
   "interpreter": {
    "hash": "2c6c7fa3a239eef9c067874352a44de63d1c98833efde66e5319eb509ae6764f"
   }
  }
 },
 "nbformat": 4,
 "nbformat_minor": 2
}
