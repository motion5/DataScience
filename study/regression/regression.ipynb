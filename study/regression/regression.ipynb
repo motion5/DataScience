{
 "cells": [
  {
   "cell_type": "markdown",
   "metadata": {},
   "source": [
    "$$\n",
    "Y_i = f(X_i, \\beta)+e_i\\\\\n",
    "\\text{where}\\\\\n",
    "Y_i = \\text{dependent variable}\\\\\n",
    "f = \\text{function}\\\\\n",
    "X_i = \\text{independent variable}\\\\\n",
    "\\beta = \\text{unknown parameters}\\\\\n",
    "e_i = \\text{error terms}\\\\\n",
    "\n",
    "$$\n"
   ]
  },
  {
   "cell_type": "markdown",
   "metadata": {},
   "source": [
    "![title](images/regression-types.jpg)"
   ]
  },
  {
   "cell_type": "code",
   "execution_count": null,
   "metadata": {},
   "outputs": [],
   "source": []
  },
  {
   "cell_type": "code",
   "execution_count": null,
   "metadata": {},
   "outputs": [],
   "source": []
  },
  {
   "cell_type": "markdown",
   "metadata": {},
   "source": []
  }
 ],
 "metadata": {
  "kernelspec": {
   "display_name": "Python 3.9.13 ('DataScience')",
   "language": "python",
   "name": "python3"
  },
  "language_info": {
   "codemirror_mode": {
    "name": "ipython",
    "version": 3
   },
   "file_extension": ".py",
   "mimetype": "text/x-python",
   "name": "python",
   "nbconvert_exporter": "python",
   "pygments_lexer": "ipython3",
   "version": "3.9.13"
  },
  "orig_nbformat": 4,
  "vscode": {
   "interpreter": {
    "hash": "302b45b043b81e89ca211c616643d2e149c3f30fc1401ebdf96b411cbc165aee"
   }
  }
 },
 "nbformat": 4,
 "nbformat_minor": 2
}
