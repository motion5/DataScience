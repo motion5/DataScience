{
 "cells": [
  {
   "cell_type": "markdown",
   "metadata": {},
   "source": [
    "## Autograd from scratch"
   ]
  },
  {
   "cell_type": "markdown",
   "metadata": {},
   "source": [
    "This notebook covers the walkthrough provided on\n",
    "[AutoGrad](https://github.com/karpathy/micrograd) \n",
    "on Anndrej Karpathy's youtube tutorial \n",
    "\n",
    "[The spelled-out intro to neural networks and \n",
    "backpropagation: building micrograd\n",
    "](https://www.youtube.com/watch?v=VMj-3S1tku0&list=PPSV)"
   ]
  },
  {
   "cell_type": "markdown",
   "metadata": {},
   "source": [
    "### Introduction\n",
    "\n",
    "#### The functionality of micrograd\n",
    "The functiuonality is best illustrated by an example which can be found in the example usage section in the github readme\n",
    "\n",
    "It illustrates how to build out an expression, which micrograd will build out in the background\n",
    "\n",
    "It then allows us to not only look at the forward pass but also perform backpropagation on the expression graph\n",
    "\n",
    "#### Why this tutorial?\n",
    "The reason for this tutorial is to understand the expression graphs behind a neural network and how\n",
    "backpropagation, which is the fundamental\n",
    "underpinning of neural networks, is really just \n",
    "calculating the derivative of each node in your \n",
    "expression with respect to the output nodes, and that\n",
    "through using the **chain rule** from calculus, we can\n",
    "calculate all these derivatives (or gradients) of each\n",
    "node with respect to the output layer. \n",
    "\n",
    "Neural networks are just mathematical expressions, which take input data and weights as an input and \n",
    "the output are your predictions or a loss function\n",
    "\n",
    "#### Neural networks are just a certain class of mathematical expression\n",
    "Backpropagation doesn't care about neural networks, it is more general of a concept than one that can only be applied to neural networks\n",
    "\n",
    "It only cares about arbitary mathematical expressions\n",
    "\n",
    "Then we happen to use that to use that machinery for\n",
    "the training of neural networks\n",
    "\n",
    "#### Micrograd is a scalar valued autograd engine\n",
    "As Andrej explains, Micrograd is excessive \n",
    "in the detail it illustrates, because it is working on the level of individual scalars\n",
    "\n",
    "We are taking neural networks and breaking them down to all the way to these atoms of individual scalars, ultimatley this is just done for petagogical reasons\n",
    "because it allows us to not have to deal with\n",
    "n-dimensional tensors that you would use in a modern deep-neural-network library\n",
    "\n",
    "This is really done so that we understand\n",
    "and refactor out backpropagation, chain rule and\n",
    "understanding of neural network training\n",
    "\n",
    "#### When training bigger networks we use tensors\n",
    "This is only really done for efficiency\n",
    "\n",
    "Tensors are just arrays of scalar values like micrograd uses\n",
    "\n",
    "We take scalar values, package them up into tensors,\n",
    "which are just arrays of these scalars, and then\n",
    "we do operations on these large arrays, it allows us \n",
    "to take advantage of parallezim in computer\n",
    "\n",
    "Because of this, micrograd was written to help us\n",
    "understand how neural netowrks work at the fundamental\n",
    "level, then we can speed it up later\n"
   ]
  },
  {
   "cell_type": "code",
   "execution_count": 3,
   "metadata": {},
   "outputs": [],
   "source": [
    "import math\n",
    "import numpy as np\n",
    "import scipy\n",
    "import matplotlib.pyplot as plt\n",
    "%matplotlib inline"
   ]
  },
  {
   "cell_type": "code",
   "execution_count": 4,
   "metadata": {},
   "outputs": [],
   "source": [
    "def f(x):\n",
    "  return 3*x**2 - 4*x + 5"
   ]
  },
  {
   "cell_type": "code",
   "execution_count": 5,
   "metadata": {},
   "outputs": [
    {
     "data": {
      "text/plain": [
       "20.0"
      ]
     },
     "execution_count": 5,
     "metadata": {},
     "output_type": "execute_result"
    }
   ],
   "source": [
    "f(3.0)\n",
    "# 3 * 9 - 4 * 3 + 5\n",
    "# 27 - 12 + 5\n",
    "# 20"
   ]
  },
  {
   "cell_type": "code",
   "execution_count": 6,
   "metadata": {},
   "outputs": [
    {
     "data": {
      "text/plain": [
       "[<matplotlib.lines.Line2D at 0x7febf081c130>]"
      ]
     },
     "execution_count": 6,
     "metadata": {},
     "output_type": "execute_result"
    },
    {
     "data": {
      "image/png": "[encoded data removed]",
      "text/plain": [
       "<Figure size 640x480 with 1 Axes>"
      ]
     },
     "metadata": {},
     "output_type": "display_data"
    }
   ],
   "source": [
    "xs = np.arange(-5, 5, 0.25)\n",
    "ys = f(xs)\n",
    "ys\n",
    "plt.plot(xs, ys)\n"
   ]
  },
  {
   "cell_type": "markdown",
   "metadata": {},
   "source": [
    "Quick reminder on derivates\n",
    "\n",
    "https://en.wikipedia.org/wiki/Derivative#Definition\n",
    "\n",
    "\n",
    "If the function f is differentiable at a, that is if the limit L exists,<br> then this limit is called the derivative of f at a, and denoted <br>\n",
    "$ f'a $ f'(a) <sub>(read as \"f prime of a\")</sub> or \n",
    "${\\textstyle {\\frac {df}{dx}}(a)} $\n",
    "<sub>(read as \"the derivative of f with respect to </sub><br>\n",
    "<sub> x at a\", \"dy by dx at a\", or \"dy over dx at a\") </sub> <br>\n",
    "\n",
    "In the following example, as h tends towards 0, we converge on the value for the derivative\n",
    "\n",
    "When calculating a derivative we are the rate of change of a function with respect to a variable"
   ]
  },
  {
   "cell_type": "code",
   "execution_count": 7,
   "metadata": {},
   "outputs": [],
   "source": [
    "\n",
    "def derive (point, increase):\n",
    "  return (f(point + increase) - f([point])) / increase\n"
   ]
  },
  {
   "cell_type": "code",
   "execution_count": 8,
   "metadata": {},
   "outputs": [
    {
     "data": {
      "text/plain": [
       "14.000300000063248"
      ]
     },
     "execution_count": 8,
     "metadata": {},
     "output_type": "execute_result"
    }
   ],
   "source": [
    "h = 0.0001\n",
    "x = 3\n",
    "\n",
    "\n",
    "# By \n",
    "\n",
    "# f(x + h) - f(x) gives us the increaes of the change with respect to h \n",
    "# (how much the function responded)\n",
    "def derive (point, increase):\n",
    "  derived = (f(point + increase) - f(point)) / increase\n",
    "  # print(derived)\n",
    "  return derived\n",
    "\n",
    "# we must nnormalise by the run from (rise over run) of the slope, h, to get our value \n",
    "\n",
    "derive(x, h)\n",
    "\n",
    "# this is just a numerical representation of the slope as h has to be very small to convnerge\n",
    "# on the exact amount so we have to"
   ]
  },
  {
   "cell_type": "code",
   "execution_count": 9,
   "metadata": {},
   "outputs": [
    {
     "data": {
      "text/plain": [
       "14.210854715202004"
      ]
     },
     "execution_count": 9,
     "metadata": {},
     "output_type": "execute_result"
    }
   ],
   "source": [
    "# if we do too many zeros, say h = 0.00000000000001\n",
    "h = 0.00000000000001\n",
    "derive(x, h)"
   ]
  },
  {
   "cell_type": "code",
   "execution_count": 10,
   "metadata": {},
   "outputs": [
    {
     "name": "stdout",
     "output_type": "stream",
     "text": [
      "Rounded value 0\n"
     ]
    }
   ],
   "source": [
    "# this iis because we are using floating point arithmitc and the representations of these \n",
    "# numbers is finite so at certain precisions we run into trouble\n",
    "print(f\"Rounded value {round(derive(2/3, 0.0000001))}\")\n",
    "\n",
    "# at the precise point 2/3 the slope is 0"
   ]
  },
  {
   "cell_type": "code",
   "execution_count": 11,
   "metadata": {},
   "outputs": [
    {
     "name": "stdout",
     "output_type": "stream",
     "text": [
      "-22.737367544323206\n"
     ]
    }
   ],
   "source": [
    "# For point where x = -3, we can see we would have a negative slope\n",
    "print(derive(-3, h))"
   ]
  },
  {
   "cell_type": "code",
   "execution_count": 12,
   "metadata": {},
   "outputs": [
    {
     "data": {
      "text/plain": [
       "4.0"
      ]
     },
     "execution_count": 12,
     "metadata": {},
     "output_type": "execute_result"
    }
   ],
   "source": [
    "# lets get more complex\n",
    "a = 2.0\n",
    "b = -3\n",
    "c = 10\n",
    "# now  we have a function that is a function of 3 scalar inputs\n",
    "# a, b & c\n",
    "# 3 inputs into our expression graph (a,b & c)\n",
    "# and a single output d\n",
    "d = a*b+c\n",
    "d"
   ]
  },
  {
   "cell_type": "code",
   "execution_count": 13,
   "metadata": {},
   "outputs": [
    {
     "name": "stdout",
     "output_type": "stream",
     "text": [
      "d1 4.0\n",
      "d2 3.9999699999999994\n",
      "slope -3.000000000064062\n"
     ]
    }
   ],
   "source": [
    "h = 0.00001\n",
    "\n",
    "#inputs \n",
    "# a, b & c are 3 values in our expression \n",
    "# graph with one output d\n",
    "a = 2.0\n",
    "b = -3.0\n",
    "c = 10\n",
    "\n",
    "# We want to look at the derivatives with respect\n",
    "# to a,b & c and think through the inituition of \n",
    "# what this derivative is telling us\n",
    "\n",
    "d1 = a*b + c\n",
    "a += h\n",
    "d2 = a*b +c\n",
    "\n",
    "# d2 - d1 is how much the function increased\n",
    "# normalised by h to get the slope\n",
    "print('d1', d1)\n",
    "print('d2', d2)\n",
    "print ('slope', (d2 - d1)/h)"
   ]
  },
  {
   "cell_type": "markdown",
   "metadata": {},
   "source": [
    "Here we went from 4 (d1) to 3.9996 (d2)\n",
    "which shows us that the sloope will be\n",
    "a negative number because we went down\n",
    "\n",
    "Next lets look at bumping b by a tiny amount in a positive direction and seeing it how that affects the slope\n",
    "\n",
    "So if we change b we will get a different slope\n",
    "\n",
    "So here we are looking at if we change b, what is the affect and sensitivity of that change on the output d"
   ]
  },
  {
   "cell_type": "code",
   "execution_count": 14,
   "metadata": {},
   "outputs": [
    {
     "name": "stdout",
     "output_type": "stream",
     "text": [
      "For changing b we get the following result\n",
      "This shows us the sensitivity of the output function d with respect to b\n",
      "d1 3.9999699999999994\n",
      "d2 3.9999900000999995\n",
      "slope 2.00001000001393\n"
     ]
    }
   ],
   "source": [
    "d1 = a*b + c\n",
    "b += h\n",
    "d2 = a*b +c\n",
    "\n",
    "print(\"For changing b we get the following result\")\n",
    "print(\"This shows us the sensitivity of the output function d with respect to b\")\n",
    "# d2 - d1 is how much the function increased\n",
    "# normalised by h to get the slope\n",
    "print('d1', d1)\n",
    "print('d2', d2)\n",
    "print ('slope', (d2 - d1)/h)"
   ]
  },
  {
   "cell_type": "markdown",
   "metadata": {},
   "source": [
    "Why is it 2?\n",
    "\n",
    "D of d / db (differentating with respect to b) \n",
    "\n",
    "Would give us the value of a\n"
   ]
  },
  {
   "cell_type": "code",
   "execution_count": 15,
   "metadata": {},
   "outputs": [
    {
     "name": "stdout",
     "output_type": "stream",
     "text": [
      "For changing c we get the following result\n",
      "This shows us the sensitivity of the output function d with respect to c\n",
      "d1 3.9999900000999995\n",
      "d2 4.000000000099999\n",
      "slope 0.9999999999621422\n"
     ]
    }
   ],
   "source": [
    "d1 = a*b + c\n",
    "c += h\n",
    "d2 = a*b +c\n",
    "\n",
    "print(\"For changing c we get the following result\")\n",
    "print(\"This shows us the sensitivity of the output function d with respect to c\")\n",
    "# d2 - d1 is how much the function increased\n",
    "# normalised by h to get the slope\n",
    "print('d1', d1)\n",
    "print('d2', d2)\n",
    "print ('slope', (d2 - d1)/h)"
   ]
  },
  {
   "cell_type": "markdown",
   "metadata": {},
   "source": [
    "If c gets bumped a tiny amount by h, then a*b is unaffected, and c is slightly higher\n",
    "Thus it makes d a little bit higher because we are just adding c\n",
    "\n",
    "And because we just add it, the affect of that change has a slope of 1, because we are just adding c\n",
    "\n"
   ]
  },
  {
   "cell_type": "markdown",
   "metadata": {},
   "source": [
    "## Understanding Micrograd's `Value` Object\n",
    "\n",
    "We now have an intuitive sense of what this derivative is telling us about the function\n",
    "\n",
    "Okay...so how do we apply this to a neural network?\n",
    "\n",
    "Typically, Neural networks will be massive expression\n",
    "Hence we need data structures that are going to contain those expressions\n",
    "\n",
    "So we will now move on to understanding the value object that is in the readme of the autograd example "
   ]
  },
  {
   "cell_type": "code",
   "execution_count": 16,
   "metadata": {},
   "outputs": [
    {
     "data": {
      "text/plain": [
       "(Value(data=2.0), Value(data=-3.0))"
      ]
     },
     "execution_count": 16,
     "metadata": {},
     "output_type": "execute_result"
    }
   ],
   "source": [
    "# class value takes a simple scalar value\n",
    "# that it wraps and keeps track of\n",
    "\n",
    "class Value:\n",
    "  def __init__(self, data) -> None:\n",
    "    self.data = data\n",
    "\n",
    "  def __repr__(self) -> str:\n",
    "    return f\"Value(data={self.data})\"\n",
    "\n",
    "\n",
    "a = Value(2.0)\n",
    "b = Value(-3.0)\n",
    "\n",
    "a,b "
   ]
  },
  {
   "cell_type": "markdown",
   "metadata": {},
   "source": [
    "So we start with this simple definition that wraps the value\n",
    "\n",
    "Now what we'd like to do is perform addition on these values, however this won't currently work as Value isn't aware of addition operations\n",
    "\n",
    "To define the operator we have to use these special double undescore methods, to define these operators for the objects\n",
    "\n"
   ]
  },
  {
   "cell_type": "markdown",
   "metadata": {},
   "source": []
  },
  {
   "cell_type": "code",
   "execution_count": 17,
   "metadata": {},
   "outputs": [],
   "source": [
    "# class value takes a simple scalar value\n",
    "# that it wraps and keeps track of\n",
    "\n",
    "class Value:\n",
    "  def __init__(self, data) -> None:\n",
    "    self.data = data\n",
    "\n",
    "  # this provides us a way to print out\n",
    "  # a less confusion output in python\n",
    "  # rather than something with a pointer \n",
    "  # label in the output\n",
    "  def __repr__(self) -> str:\n",
    "    return f\"Value(data={self.data})\"\n",
    "\n",
    "  def __add__(self, other):\n",
    "    out = Value(self.data + other.data)\n",
    "    return out\n",
    "    \n",
    "  def __mul__(self, other):\n",
    "    out = Value(self.data * other.data)\n",
    "    return out\n",
    "\n",
    "\n",
    "a = Value(2.0)\n",
    "b = Value(-3.0)\n",
    "c = Value(10.0)\n",
    "d = a*b + c\n"
   ]
  },
  {
   "cell_type": "markdown",
   "metadata": {},
   "source": [
    "Next, now we can create our expression `d = a*b + c` \n",
    "\n",
    "Now what we are missing is the connective tissue of this expression\n",
    "\n",
    "We want to keep these expression graphs\n",
    "so we need to know and keep pointers about what values, create what other values"
   ]
  },
  {
   "cell_type": "code",
   "execution_count": 18,
   "metadata": {},
   "outputs": [
    {
     "data": {
      "text/plain": [
       "({Value(data=-6.0), Value(data=10.0)}, '+')"
      ]
     },
     "execution_count": 18,
     "metadata": {},
     "output_type": "execute_result"
    }
   ],
   "source": [
    "class Value:\n",
    "  # 1. \n",
    "  # here we introduce a new variable children\n",
    "  # which is an empty tuple by default\n",
    "  def __init__(self, data, _children=(), _op='') -> None:\n",
    "    self.data = data\n",
    "    # 2. \n",
    "    # we maintain it in the class as a set\n",
    "    self._prev = set(_children)\n",
    "    # 4. We store op so we know what the \n",
    "    # operation was for that part of the\n",
    "    # expression\n",
    "    self._op = _op\n",
    "\n",
    "  def __repr__(self) -> str:\n",
    "    return f\"Value(data={self.data})\"\n",
    "\n",
    "  # 3.\n",
    "  # now when we create the values for \n",
    "  # adddition or multiplication we will feed\n",
    "  # in the children of this value\n",
    "  def __add__(self, other) -> str:\n",
    "    out = Value(self.data + other.data, (self, other), \"+\")\n",
    "    return out\n",
    "\n",
    "  def __mul__(self, other) -> str:\n",
    "    out = Value(self.data * other.data, (self, other), \"*\")\n",
    "    return out\n",
    "\n",
    "a = Value(2.0)\n",
    "b = Value(-3.0)\n",
    "c = Value(10.0)\n",
    "d = a*b + c\n",
    "d._prev, d._op"
   ]
  },
  {
   "cell_type": "markdown",
   "metadata": {},
   "source": [
    "Now we have ._prev & ._op\n",
    "\n",
    "Now we have the full mathematical expression\n",
    "and we know exactly how each data value came to be, by what expression and from what other values.\n",
    "\n",
    "Because these expressions are about to get quite a bit larger we are going to need something to visualize these expression graphs for us"
   ]
  },
  {
   "cell_type": "markdown",
   "metadata": {},
   "source": [
    "this creates a new function `draw_dot(expression)``\n",
    "\n"
   ]
  },
  {
   "cell_type": "code",
   "execution_count": 19,
   "metadata": {},
   "outputs": [],
   "source": [
    "from graphviz import Digraph\n",
    "\n",
    "def trace(root):\n",
    "    # builds a set of all nodes and edges in the graph\n",
    "    nodes, edges = set(), set()\n",
    "    def build(v):\n",
    "        if v not in nodes:\n",
    "            nodes.add(v)\n",
    "            for child in v._prev:\n",
    "                edges.add((child, v))\n",
    "                build(child)\n",
    "    build(root)\n",
    "    return nodes, edges\n",
    "\n",
    "\n",
    "def draw_dot(root):\n",
    "    dot = Digraph(format='svg', graph_attr={'rankdir': 'LR'})  # LR = Left to Right\n",
    "\n",
    "    nodes, edges = trace(root)\n",
    "    for n in nodes:\n",
    "        uid = str(id(n))\n",
    "        # for any value in the graph, create a rectangular ('record') node for it\n",
    "        dot.node(name=uid, label=\"{ data %.4f }\" % (n.data,), shape='record')\n",
    "        if n._op:\n",
    "            # if this value is a result of some operation, create an op node for it\n",
    "            dot.node(name=uid + n._op, label=n._op)\n",
    "            # and connect this node to it\n",
    "            dot.edge(uid + n._op, uid)\n",
    "\n",
    "    for n1, n2 in edges:\n",
    "        # connect n1 to the op node of n2\n",
    "        dot.edge(str(id(n1)), str(id(n2)) + n2._op)\n",
    "\n",
    "    return dot"
   ]
  },
  {
   "cell_type": "code",
   "execution_count": 20,
   "metadata": {},
   "outputs": [
    {
     "data": {
      "image/svg+xml": "<?xml version=\"1.0\" encoding=\"UTF-8\" standalone=\"no\"?>\n<!DOCTYPE svg PUBLIC \"-//W3C//DTD SVG 1.1//EN\"\n \"http://www.w3.org/Graphics/SVG/1.1/DTD/svg11.dtd\">\n<!-- Generated by graphviz version 2.50.0 (0)\n -->\n<!-- Pages: 1 -->\n<svg width=\"512pt\" height=\"127pt\"\n viewBox=\"0.00 0.00 512.00 127.00\" xmlns=\"http://www.w3.org/2000/svg\" xmlns:xlink=\"http://www.w3.org/1999/xlink\">\n<g id=\"graph0\" class=\"graph\" transform=\"scale(1 1) rotate(0) translate(4 123)\">\n<polygon fill=\"white\" stroke=\"transparent\" points=\"-4,4 -4,-123 508,-123 508,4 -4,4\"/>\n<!-- 140651064815184 -->\n<g id=\"node1\" class=\"node\">\n<title>140651064815184</title>\n<polygon fill=\"none\" stroke=\"black\" points=\"212,-27.5 212,-63.5 297,-63.5 297,-27.5 212,-27.5\"/>\n<text text-anchor=\"middle\" x=\"254.5\" y=\"-41.8\" font-family=\"Times,serif\" font-size=\"14.00\">data &#45;6.0000</text>\n</g>\n<!-- 140649720439376+ -->\n<g id=\"node4\" class=\"node\">\n<title>140649720439376+</title>\n<ellipse fill=\"none\" stroke=\"black\" cx=\"361\" cy=\"-72.5\" rx=\"27\" ry=\"18\"/>\n<text text-anchor=\"middle\" x=\"361\" y=\"-68.8\" font-family=\"Times,serif\" font-size=\"14.00\">+</text>\n</g>\n<!-- 140651064815184&#45;&gt;140649720439376+ -->\n<g id=\"edge6\" class=\"edge\">\n<title>140651064815184&#45;&gt;140649720439376+</title>\n<path fill=\"none\" stroke=\"black\" d=\"M297.1,-56.25C306.61,-58.71 316.62,-61.29 325.78,-63.66\"/>\n<polygon fill=\"black\" stroke=\"black\" points=\"325.13,-67.11 335.69,-66.22 326.88,-60.33 325.13,-67.11\"/>\n</g>\n<!-- 140651064815184* -->\n<g id=\"node2\" class=\"node\">\n<title>140651064815184*</title>\n<ellipse fill=\"none\" stroke=\"black\" cx=\"148\" cy=\"-45.5\" rx=\"27\" ry=\"18\"/>\n<text text-anchor=\"middle\" x=\"148\" y=\"-41.8\" font-family=\"Times,serif\" font-size=\"14.00\">*</text>\n</g>\n<!-- 140651064815184*&#45;&gt;140651064815184 -->\n<g id=\"edge1\" class=\"edge\">\n<title>140651064815184*&#45;&gt;140651064815184</title>\n<path fill=\"none\" stroke=\"black\" d=\"M175.1,-45.5C183.27,-45.5 192.59,-45.5 201.88,-45.5\"/>\n<polygon fill=\"black\" stroke=\"black\" points=\"201.89,-49 211.89,-45.5 201.89,-42 201.89,-49\"/>\n</g>\n<!-- 140649720439376 -->\n<g id=\"node3\" class=\"node\">\n<title>140649720439376</title>\n<polygon fill=\"none\" stroke=\"black\" points=\"424,-54.5 424,-90.5 504,-90.5 504,-54.5 424,-54.5\"/>\n<text text-anchor=\"middle\" x=\"464\" y=\"-68.8\" font-family=\"Times,serif\" font-size=\"14.00\">data 4.0000</text>\n</g>\n<!-- 140649720439376+&#45;&gt;140649720439376 -->\n<g id=\"edge2\" class=\"edge\">\n<title>140649720439376+&#45;&gt;140649720439376</title>\n<path fill=\"none\" stroke=\"black\" d=\"M388.01,-72.5C395.82,-72.5 404.67,-72.5 413.48,-72.5\"/>\n<polygon fill=\"black\" stroke=\"black\" points=\"413.73,-76 423.73,-72.5 413.73,-69 413.73,-76\"/>\n</g>\n<!-- 140651064814224 -->\n<g id=\"node5\" class=\"node\">\n<title>140651064814224</title>\n<polygon fill=\"none\" stroke=\"black\" points=\"211,-82.5 211,-118.5 298,-118.5 298,-82.5 211,-82.5\"/>\n<text text-anchor=\"middle\" x=\"254.5\" y=\"-96.8\" font-family=\"Times,serif\" font-size=\"14.00\">data 10.0000</text>\n</g>\n<!-- 140651064814224&#45;&gt;140649720439376+ -->\n<g id=\"edge5\" class=\"edge\">\n<title>140651064814224&#45;&gt;140649720439376+</title>\n<path fill=\"none\" stroke=\"black\" d=\"M298,-89.11C307.18,-86.65 316.78,-84.08 325.6,-81.72\"/>\n<polygon fill=\"black\" stroke=\"black\" points=\"326.78,-85.02 335.53,-79.06 324.97,-78.26 326.78,-85.02\"/>\n</g>\n<!-- 140649720439184 -->\n<g id=\"node6\" class=\"node\">\n<title>140649720439184</title>\n<polygon fill=\"none\" stroke=\"black\" points=\"2.5,-55.5 2.5,-91.5 82.5,-91.5 82.5,-55.5 2.5,-55.5\"/>\n<text text-anchor=\"middle\" x=\"42.5\" y=\"-69.8\" font-family=\"Times,serif\" font-size=\"14.00\">data 2.0000</text>\n</g>\n<!-- 140649720439184&#45;&gt;140651064815184* -->\n<g id=\"edge4\" class=\"edge\">\n<title>140649720439184&#45;&gt;140651064815184*</title>\n<path fill=\"none\" stroke=\"black\" d=\"M82.63,-62.91C92.66,-60.2 103.36,-57.31 113.09,-54.67\"/>\n<polygon fill=\"black\" stroke=\"black\" points=\"114.09,-58.03 122.83,-52.04 112.26,-51.27 114.09,-58.03\"/>\n</g>\n<!-- 140649720439280 -->\n<g id=\"node7\" class=\"node\">\n<title>140649720439280</title>\n<polygon fill=\"none\" stroke=\"black\" points=\"0,-0.5 0,-36.5 85,-36.5 85,-0.5 0,-0.5\"/>\n<text text-anchor=\"middle\" x=\"42.5\" y=\"-14.8\" font-family=\"Times,serif\" font-size=\"14.00\">data &#45;3.0000</text>\n</g>\n<!-- 140649720439280&#45;&gt;140651064815184* -->\n<g id=\"edge3\" class=\"edge\">\n<title>140649720439280&#45;&gt;140651064815184*</title>\n<path fill=\"none\" stroke=\"black\" d=\"M85,-29.33C94.14,-31.71 103.72,-34.21 112.54,-36.51\"/>\n<polygon fill=\"black\" stroke=\"black\" points=\"111.91,-39.96 122.47,-39.1 113.68,-33.19 111.91,-39.96\"/>\n</g>\n</g>\n</svg>\n",
      "text/plain": [
       "<graphviz.graphs.Digraph at 0x7febb0b9b280>"
      ]
     },
     "execution_count": 20,
     "metadata": {},
     "output_type": "execute_result"
    }
   ],
   "source": [
    "draw_dot(d)"
   ]
  },
  {
   "cell_type": "markdown",
   "metadata": {},
   "source": [
    "Here the only value objects are the square items, the operation nodes are just derived from the `draw_dot` method\n",
    "\n",
    "\n",
    "Now we will add labels to our `Value` class"
   ]
  },
  {
   "cell_type": "code",
   "execution_count": 21,
   "metadata": {},
   "outputs": [
    {
     "data": {
      "text/plain": [
       "({Value(data=-6.0), Value(data=10.0)}, '+')"
      ]
     },
     "execution_count": 21,
     "metadata": {},
     "output_type": "execute_result"
    }
   ],
   "source": [
    "class Value:\n",
    "\n",
    "  # 5. Now we will add label\n",
    "  def __init__(self, data, _children=(), _op='', label='') -> None:\n",
    "    self.data = data\n",
    "    self.grad = 0.0\n",
    "    self._prev = set(_children)\n",
    "    self._op = _op\n",
    "    self.label = label\n",
    "\n",
    "  def __repr__(self) -> str:\n",
    "    return f\"Value(data={self.data})\"\n",
    "\n",
    "  def __add__(self, other) -> str:\n",
    "    out = Value(self.data + other.data, (self, other), \"+\")\n",
    "    return out\n",
    "\n",
    "  def __mul__(self, other) -> str:\n",
    "    out = Value(self.data * other.data, (self, other), \"*\")\n",
    "    return out\n",
    "\n",
    "\n",
    "a = Value(2.0, label='a')\n",
    "b = Value(-3.0, label='b')\n",
    "c = Value(10.0, label='c')\n",
    "e = a*b; e.label = 'e';\n",
    "d = e + c; d.label = 'd';\n",
    "d._prev, d._op\n"
   ]
  },
  {
   "cell_type": "markdown",
   "metadata": {},
   "source": [
    "Now we can print this label by updating our `draw_dot` method"
   ]
  },
  {
   "cell_type": "code",
   "execution_count": 22,
   "metadata": {},
   "outputs": [
    {
     "data": {
      "image/svg+xml": "<?xml version=\"1.0\" encoding=\"UTF-8\" standalone=\"no\"?>\n<!DOCTYPE svg PUBLIC \"-//W3C//DTD SVG 1.1//EN\"\n \"http://www.w3.org/Graphics/SVG/1.1/DTD/svg11.dtd\">\n<!-- Generated by graphviz version 2.50.0 (0)\n -->\n<!-- Pages: 1 -->\n<svg width=\"581pt\" height=\"127pt\"\n viewBox=\"0.00 0.00 581.00 127.00\" xmlns=\"http://www.w3.org/2000/svg\" xmlns:xlink=\"http://www.w3.org/1999/xlink\">\n<g id=\"graph0\" class=\"graph\" transform=\"scale(1 1) rotate(0) translate(4 123)\">\n<polygon fill=\"white\" stroke=\"transparent\" points=\"-4,4 -4,-123 577,-123 577,4 -4,4\"/>\n<!-- 140649453810784 -->\n<g id=\"node1\" class=\"node\">\n<title>140649453810784</title>\n<polygon fill=\"none\" stroke=\"black\" points=\"470,-54.5 470,-90.5 573,-90.5 573,-54.5 470,-54.5\"/>\n<text text-anchor=\"middle\" x=\"481.5\" y=\"-68.8\" font-family=\"Times,serif\" font-size=\"14.00\">d</text>\n<polyline fill=\"none\" stroke=\"black\" points=\"493,-54.5 493,-90.5 \"/>\n<text text-anchor=\"middle\" x=\"533\" y=\"-68.8\" font-family=\"Times,serif\" font-size=\"14.00\">data 4.0000</text>\n</g>\n<!-- 140649453810784+ -->\n<g id=\"node2\" class=\"node\">\n<title>140649453810784+</title>\n<ellipse fill=\"none\" stroke=\"black\" cx=\"407\" cy=\"-72.5\" rx=\"27\" ry=\"18\"/>\n<text text-anchor=\"middle\" x=\"407\" y=\"-68.8\" font-family=\"Times,serif\" font-size=\"14.00\">+</text>\n</g>\n<!-- 140649453810784+&#45;&gt;140649453810784 -->\n<g id=\"edge1\" class=\"edge\">\n<title>140649453810784+&#45;&gt;140649453810784</title>\n<path fill=\"none\" stroke=\"black\" d=\"M434.09,-72.5C441.83,-72.5 450.64,-72.5 459.61,-72.5\"/>\n<polygon fill=\"black\" stroke=\"black\" points=\"459.76,-76 469.76,-72.5 459.76,-69 459.76,-76\"/>\n</g>\n<!-- 140650521043056 -->\n<g id=\"node3\" class=\"node\">\n<title>140650521043056</title>\n<polygon fill=\"none\" stroke=\"black\" points=\"0,-55.5 0,-91.5 108,-91.5 108,-55.5 0,-55.5\"/>\n<text text-anchor=\"middle\" x=\"11.5\" y=\"-69.8\" font-family=\"Times,serif\" font-size=\"14.00\">b</text>\n<polyline fill=\"none\" stroke=\"black\" points=\"23,-55.5 23,-91.5 \"/>\n<text text-anchor=\"middle\" x=\"65.5\" y=\"-69.8\" font-family=\"Times,serif\" font-size=\"14.00\">data &#45;3.0000</text>\n</g>\n<!-- 140649720441824* -->\n<g id=\"node7\" class=\"node\">\n<title>140649720441824*</title>\n<ellipse fill=\"none\" stroke=\"black\" cx=\"171\" cy=\"-45.5\" rx=\"27\" ry=\"18\"/>\n<text text-anchor=\"middle\" x=\"171\" y=\"-41.8\" font-family=\"Times,serif\" font-size=\"14.00\">*</text>\n</g>\n<!-- 140650521043056&#45;&gt;140649720441824* -->\n<g id=\"edge4\" class=\"edge\">\n<title>140650521043056&#45;&gt;140649720441824*</title>\n<path fill=\"none\" stroke=\"black\" d=\"M108.12,-60.57C117.51,-58.28 127.06,-55.95 135.76,-53.84\"/>\n<polygon fill=\"black\" stroke=\"black\" points=\"136.62,-57.23 145.51,-51.46 134.97,-50.43 136.62,-57.23\"/>\n</g>\n<!-- 140649720439952 -->\n<g id=\"node4\" class=\"node\">\n<title>140649720439952</title>\n<polygon fill=\"none\" stroke=\"black\" points=\"234,-82.5 234,-118.5 344,-118.5 344,-82.5 234,-82.5\"/>\n<text text-anchor=\"middle\" x=\"245.5\" y=\"-96.8\" font-family=\"Times,serif\" font-size=\"14.00\">c</text>\n<polyline fill=\"none\" stroke=\"black\" points=\"257,-82.5 257,-118.5 \"/>\n<text text-anchor=\"middle\" x=\"300.5\" y=\"-96.8\" font-family=\"Times,serif\" font-size=\"14.00\">data 10.0000</text>\n</g>\n<!-- 140649720439952&#45;&gt;140649453810784+ -->\n<g id=\"edge6\" class=\"edge\">\n<title>140649720439952&#45;&gt;140649453810784+</title>\n<path fill=\"none\" stroke=\"black\" d=\"M344.26,-87.4C353.49,-85.18 362.84,-82.92 371.37,-80.86\"/>\n<polygon fill=\"black\" stroke=\"black\" points=\"372.42,-84.21 381.32,-78.46 370.78,-77.4 372.42,-84.21\"/>\n</g>\n<!-- 140651326636192 -->\n<g id=\"node5\" class=\"node\">\n<title>140651326636192</title>\n<polygon fill=\"none\" stroke=\"black\" points=\"2.5,-0.5 2.5,-36.5 105.5,-36.5 105.5,-0.5 2.5,-0.5\"/>\n<text text-anchor=\"middle\" x=\"14\" y=\"-14.8\" font-family=\"Times,serif\" font-size=\"14.00\">a</text>\n<polyline fill=\"none\" stroke=\"black\" points=\"25.5,-0.5 25.5,-36.5 \"/>\n<text text-anchor=\"middle\" x=\"65.5\" y=\"-14.8\" font-family=\"Times,serif\" font-size=\"14.00\">data 2.0000</text>\n</g>\n<!-- 140651326636192&#45;&gt;140649720441824* -->\n<g id=\"edge5\" class=\"edge\">\n<title>140651326636192&#45;&gt;140649720441824*</title>\n<path fill=\"none\" stroke=\"black\" d=\"M105.78,-30.42C115.74,-32.76 125.98,-35.17 135.28,-37.35\"/>\n<polygon fill=\"black\" stroke=\"black\" points=\"134.77,-40.82 145.3,-39.7 136.37,-34.01 134.77,-40.82\"/>\n</g>\n<!-- 140649720441824 -->\n<g id=\"node6\" class=\"node\">\n<title>140649720441824</title>\n<polygon fill=\"none\" stroke=\"black\" points=\"235,-27.5 235,-63.5 343,-63.5 343,-27.5 235,-27.5\"/>\n<text text-anchor=\"middle\" x=\"246.5\" y=\"-41.8\" font-family=\"Times,serif\" font-size=\"14.00\">e</text>\n<polyline fill=\"none\" stroke=\"black\" points=\"258,-27.5 258,-63.5 \"/>\n<text text-anchor=\"middle\" x=\"300.5\" y=\"-41.8\" font-family=\"Times,serif\" font-size=\"14.00\">data &#45;6.0000</text>\n</g>\n<!-- 140649720441824&#45;&gt;140649453810784+ -->\n<g id=\"edge3\" class=\"edge\">\n<title>140649720441824&#45;&gt;140649453810784+</title>\n<path fill=\"none\" stroke=\"black\" d=\"M343.25,-57.89C352.75,-60.11 362.43,-62.36 371.24,-64.41\"/>\n<polygon fill=\"black\" stroke=\"black\" points=\"370.6,-67.85 381.14,-66.71 372.19,-61.04 370.6,-67.85\"/>\n</g>\n<!-- 140649720441824*&#45;&gt;140649720441824 -->\n<g id=\"edge2\" class=\"edge\">\n<title>140649720441824*&#45;&gt;140649720441824</title>\n<path fill=\"none\" stroke=\"black\" d=\"M198.03,-45.5C206.08,-45.5 215.32,-45.5 224.74,-45.5\"/>\n<polygon fill=\"black\" stroke=\"black\" points=\"224.99,-49 234.99,-45.5 224.99,-42 224.99,-49\"/>\n</g>\n</g>\n</svg>\n",
      "text/plain": [
       "<graphviz.graphs.Digraph at 0x7feb80bb7610>"
      ]
     },
     "execution_count": 22,
     "metadata": {},
     "output_type": "execute_result"
    }
   ],
   "source": [
    "def draw_dot(root):\n",
    "    dot = Digraph(format='svg', graph_attr={'rankdir': 'LR'})  # LR = Left to Right\n",
    "\n",
    "    nodes, edges = trace(root)\n",
    "    for n in nodes:\n",
    "        uid = str(id(n))\n",
    "        # for any value in the graph, create a rectangular ('record') node for it\n",
    "        dot.node(name=uid, label=\"{ %s | data %.4f }\" % (n.label, n.data,), shape='record')\n",
    "        if n._op:\n",
    "            # if this value is a result of some operation, create an op node for it\n",
    "            dot.node(name=uid + n._op, label=n._op)\n",
    "            # and connect this node to it\n",
    "            dot.edge(uid + n._op, uid)\n",
    "\n",
    "    for n1, n2 in edges:\n",
    "        # connect n1 to the op node of n2\n",
    "        dot.edge(str(id(n1)), str(id(n2)) + n2._op)\n",
    "\n",
    "    return dot\n",
    "\n",
    "draw_dot(d)\n"
   ]
  },
  {
   "cell_type": "code",
   "execution_count": 23,
   "metadata": {},
   "outputs": [],
   "source": [
    "f = Value(-2.0, label='f')\n",
    "L = d * f;\n",
    "L; L.label=\"L\""
   ]
  },
  {
   "cell_type": "code",
   "execution_count": 24,
   "metadata": {},
   "outputs": [
    {
     "data": {
      "image/svg+xml": "<?xml version=\"1.0\" encoding=\"UTF-8\" standalone=\"no\"?>\n<!DOCTYPE svg PUBLIC \"-//W3C//DTD SVG 1.1//EN\"\n \"http://www.w3.org/Graphics/SVG/1.1/DTD/svg11.dtd\">\n<!-- Generated by graphviz version 2.50.0 (0)\n -->\n<!-- Pages: 1 -->\n<svg width=\"820pt\" height=\"154pt\"\n viewBox=\"0.00 0.00 820.00 154.00\" xmlns=\"http://www.w3.org/2000/svg\" xmlns:xlink=\"http://www.w3.org/1999/xlink\">\n<g id=\"graph0\" class=\"graph\" transform=\"scale(1 1) rotate(0) translate(4 150)\">\n<polygon fill=\"white\" stroke=\"transparent\" points=\"-4,4 -4,-150 816,-150 816,4 -4,4\"/>\n<!-- 140649453810784 -->\n<g id=\"node1\" class=\"node\">\n<title>140649453810784</title>\n<polygon fill=\"none\" stroke=\"black\" points=\"471.5,-54.5 471.5,-90.5 574.5,-90.5 574.5,-54.5 471.5,-54.5\"/>\n<text text-anchor=\"middle\" x=\"483\" y=\"-68.8\" font-family=\"Times,serif\" font-size=\"14.00\">d</text>\n<polyline fill=\"none\" stroke=\"black\" points=\"494.5,-54.5 494.5,-90.5 \"/>\n<text text-anchor=\"middle\" x=\"534.5\" y=\"-68.8\" font-family=\"Times,serif\" font-size=\"14.00\">data 4.0000</text>\n</g>\n<!-- 140649453810448* -->\n<g id=\"node8\" class=\"node\">\n<title>140649453810448*</title>\n<ellipse fill=\"none\" stroke=\"black\" cx=\"639\" cy=\"-99.5\" rx=\"27\" ry=\"18\"/>\n<text text-anchor=\"middle\" x=\"639\" y=\"-95.8\" font-family=\"Times,serif\" font-size=\"14.00\">*</text>\n</g>\n<!-- 140649453810784&#45;&gt;140649453810448* -->\n<g id=\"edge7\" class=\"edge\">\n<title>140649453810784&#45;&gt;140649453810448*</title>\n<path fill=\"none\" stroke=\"black\" d=\"M574.67,-84.5C584.43,-86.81 594.45,-89.18 603.55,-91.34\"/>\n<polygon fill=\"black\" stroke=\"black\" points=\"602.83,-94.77 613.37,-93.67 604.45,-87.96 602.83,-94.77\"/>\n</g>\n<!-- 140649453810784+ -->\n<g id=\"node2\" class=\"node\">\n<title>140649453810784+</title>\n<ellipse fill=\"none\" stroke=\"black\" cx=\"407\" cy=\"-72.5\" rx=\"27\" ry=\"18\"/>\n<text text-anchor=\"middle\" x=\"407\" y=\"-68.8\" font-family=\"Times,serif\" font-size=\"14.00\">+</text>\n</g>\n<!-- 140649453810784+&#45;&gt;140649453810784 -->\n<g id=\"edge1\" class=\"edge\">\n<title>140649453810784+&#45;&gt;140649453810784</title>\n<path fill=\"none\" stroke=\"black\" d=\"M434.15,-72.5C442.26,-72.5 451.57,-72.5 461.02,-72.5\"/>\n<polygon fill=\"black\" stroke=\"black\" points=\"461.28,-76 471.28,-72.5 461.28,-69 461.28,-76\"/>\n</g>\n<!-- 140650521043056 -->\n<g id=\"node3\" class=\"node\">\n<title>140650521043056</title>\n<polygon fill=\"none\" stroke=\"black\" points=\"0,-55.5 0,-91.5 108,-91.5 108,-55.5 0,-55.5\"/>\n<text text-anchor=\"middle\" x=\"11.5\" y=\"-69.8\" font-family=\"Times,serif\" font-size=\"14.00\">b</text>\n<polyline fill=\"none\" stroke=\"black\" points=\"23,-55.5 23,-91.5 \"/>\n<text text-anchor=\"middle\" x=\"65.5\" y=\"-69.8\" font-family=\"Times,serif\" font-size=\"14.00\">data &#45;3.0000</text>\n</g>\n<!-- 140649720441824* -->\n<g id=\"node10\" class=\"node\">\n<title>140649720441824*</title>\n<ellipse fill=\"none\" stroke=\"black\" cx=\"171\" cy=\"-45.5\" rx=\"27\" ry=\"18\"/>\n<text text-anchor=\"middle\" x=\"171\" y=\"-41.8\" font-family=\"Times,serif\" font-size=\"14.00\">*</text>\n</g>\n<!-- 140650521043056&#45;&gt;140649720441824* -->\n<g id=\"edge6\" class=\"edge\">\n<title>140650521043056&#45;&gt;140649720441824*</title>\n<path fill=\"none\" stroke=\"black\" d=\"M108.12,-60.57C117.51,-58.28 127.06,-55.95 135.76,-53.84\"/>\n<polygon fill=\"black\" stroke=\"black\" points=\"136.62,-57.23 145.51,-51.46 134.97,-50.43 136.62,-57.23\"/>\n</g>\n<!-- 140649720439952 -->\n<g id=\"node4\" class=\"node\">\n<title>140649720439952</title>\n<polygon fill=\"none\" stroke=\"black\" points=\"234,-82.5 234,-118.5 344,-118.5 344,-82.5 234,-82.5\"/>\n<text text-anchor=\"middle\" x=\"245.5\" y=\"-96.8\" font-family=\"Times,serif\" font-size=\"14.00\">c</text>\n<polyline fill=\"none\" stroke=\"black\" points=\"257,-82.5 257,-118.5 \"/>\n<text text-anchor=\"middle\" x=\"300.5\" y=\"-96.8\" font-family=\"Times,serif\" font-size=\"14.00\">data 10.0000</text>\n</g>\n<!-- 140649720439952&#45;&gt;140649453810784+ -->\n<g id=\"edge4\" class=\"edge\">\n<title>140649720439952&#45;&gt;140649453810784+</title>\n<path fill=\"none\" stroke=\"black\" d=\"M344.26,-87.4C353.49,-85.18 362.84,-82.92 371.37,-80.86\"/>\n<polygon fill=\"black\" stroke=\"black\" points=\"372.42,-84.21 381.32,-78.46 370.78,-77.4 372.42,-84.21\"/>\n</g>\n<!-- 140649453812368 -->\n<g id=\"node5\" class=\"node\">\n<title>140649453812368</title>\n<polygon fill=\"none\" stroke=\"black\" points=\"470,-109.5 470,-145.5 576,-145.5 576,-109.5 470,-109.5\"/>\n<text text-anchor=\"middle\" x=\"480.5\" y=\"-123.8\" font-family=\"Times,serif\" font-size=\"14.00\">f</text>\n<polyline fill=\"none\" stroke=\"black\" points=\"491,-109.5 491,-145.5 \"/>\n<text text-anchor=\"middle\" x=\"533.5\" y=\"-123.8\" font-family=\"Times,serif\" font-size=\"14.00\">data &#45;2.0000</text>\n</g>\n<!-- 140649453812368&#45;&gt;140649453810448* -->\n<g id=\"edge5\" class=\"edge\">\n<title>140649453812368&#45;&gt;140649453810448*</title>\n<path fill=\"none\" stroke=\"black\" d=\"M576.33,-114.65C585.48,-112.4 594.8,-110.11 603.33,-108.02\"/>\n<polygon fill=\"black\" stroke=\"black\" points=\"604.39,-111.36 613.27,-105.57 602.72,-104.56 604.39,-111.36\"/>\n</g>\n<!-- 140651326636192 -->\n<g id=\"node6\" class=\"node\">\n<title>140651326636192</title>\n<polygon fill=\"none\" stroke=\"black\" points=\"2.5,-0.5 2.5,-36.5 105.5,-36.5 105.5,-0.5 2.5,-0.5\"/>\n<text text-anchor=\"middle\" x=\"14\" y=\"-14.8\" font-family=\"Times,serif\" font-size=\"14.00\">a</text>\n<polyline fill=\"none\" stroke=\"black\" points=\"25.5,-0.5 25.5,-36.5 \"/>\n<text text-anchor=\"middle\" x=\"65.5\" y=\"-14.8\" font-family=\"Times,serif\" font-size=\"14.00\">data 2.0000</text>\n</g>\n<!-- 140651326636192&#45;&gt;140649720441824* -->\n<g id=\"edge8\" class=\"edge\">\n<title>140651326636192&#45;&gt;140649720441824*</title>\n<path fill=\"none\" stroke=\"black\" d=\"M105.78,-30.42C115.74,-32.76 125.98,-35.17 135.28,-37.35\"/>\n<polygon fill=\"black\" stroke=\"black\" points=\"134.77,-40.82 145.3,-39.7 136.37,-34.01 134.77,-40.82\"/>\n</g>\n<!-- 140649453810448 -->\n<g id=\"node7\" class=\"node\">\n<title>140649453810448</title>\n<polygon fill=\"none\" stroke=\"black\" points=\"702,-81.5 702,-117.5 812,-117.5 812,-81.5 702,-81.5\"/>\n<text text-anchor=\"middle\" x=\"714.5\" y=\"-95.8\" font-family=\"Times,serif\" font-size=\"14.00\">L</text>\n<polyline fill=\"none\" stroke=\"black\" points=\"727,-81.5 727,-117.5 \"/>\n<text text-anchor=\"middle\" x=\"769.5\" y=\"-95.8\" font-family=\"Times,serif\" font-size=\"14.00\">data &#45;8.0000</text>\n</g>\n<!-- 140649453810448*&#45;&gt;140649453810448 -->\n<g id=\"edge2\" class=\"edge\">\n<title>140649453810448*&#45;&gt;140649453810448</title>\n<path fill=\"none\" stroke=\"black\" d=\"M666.03,-99.5C673.7,-99.5 682.45,-99.5 691.42,-99.5\"/>\n<polygon fill=\"black\" stroke=\"black\" points=\"691.58,-103 701.58,-99.5 691.58,-96 691.58,-103\"/>\n</g>\n<!-- 140649720441824 -->\n<g id=\"node9\" class=\"node\">\n<title>140649720441824</title>\n<polygon fill=\"none\" stroke=\"black\" points=\"235,-27.5 235,-63.5 343,-63.5 343,-27.5 235,-27.5\"/>\n<text text-anchor=\"middle\" x=\"246.5\" y=\"-41.8\" font-family=\"Times,serif\" font-size=\"14.00\">e</text>\n<polyline fill=\"none\" stroke=\"black\" points=\"258,-27.5 258,-63.5 \"/>\n<text text-anchor=\"middle\" x=\"300.5\" y=\"-41.8\" font-family=\"Times,serif\" font-size=\"14.00\">data &#45;6.0000</text>\n</g>\n<!-- 140649720441824&#45;&gt;140649453810784+ -->\n<g id=\"edge9\" class=\"edge\">\n<title>140649720441824&#45;&gt;140649453810784+</title>\n<path fill=\"none\" stroke=\"black\" d=\"M343.25,-57.89C352.75,-60.11 362.43,-62.36 371.24,-64.41\"/>\n<polygon fill=\"black\" stroke=\"black\" points=\"370.6,-67.85 381.14,-66.71 372.19,-61.04 370.6,-67.85\"/>\n</g>\n<!-- 140649720441824*&#45;&gt;140649720441824 -->\n<g id=\"edge3\" class=\"edge\">\n<title>140649720441824*&#45;&gt;140649720441824</title>\n<path fill=\"none\" stroke=\"black\" d=\"M198.03,-45.5C206.08,-45.5 215.32,-45.5 224.74,-45.5\"/>\n<polygon fill=\"black\" stroke=\"black\" points=\"224.99,-49 234.99,-45.5 224.99,-42 224.99,-49\"/>\n</g>\n</g>\n</svg>\n",
      "text/plain": [
       "<graphviz.graphs.Digraph at 0x7feb80bb7fd0>"
      ]
     },
     "execution_count": 24,
     "metadata": {},
     "output_type": "execute_result"
    }
   ],
   "source": [
    "draw_dot(L)"
   ]
  },
  {
   "cell_type": "markdown",
   "metadata": {},
   "source": [
    "Recap of where we are:\n",
    "- We are able to build a mathematical expression (currently only comprised of add and multiply) which are Scalar valued\n",
    "- Build out a 'forward pass', that gives us the output L\n",
    "- We can visualise the forward pass\n",
    "\n",
    "\n",
    "Using our example, the output of our forward pass, gives the value `-8.0`"
   ]
  },
  {
   "cell_type": "markdown",
   "metadata": {},
   "source": [
    "## On to Backpropagation\n",
    "\n",
    "For backpropagation, we will start at the end and reverse - calculate the gradient along all these intermediate values\n",
    "\n",
    "Really what we are calculating is, for every single value, we will calculate the derivatve of L with respect to that value\n",
    "\n",
    "In neural network setting, we are interested in the derivative of this loss function L, with respect to the weights of a neural network. Our values a,b,c,d,e & f are acting in the same way that our weights of a neural net."
   ]
  },
  {
   "cell_type": "markdown",
   "metadata": {},
   "source": [
    "Next we will create a value inside the value class. \n",
    "\n",
    "Note: I have modified above class definition as redefining here didn't work\n",
    "\n",
    "@todo find out why"
   ]
  },
  {
   "cell_type": "code",
   "execution_count": 25,
   "metadata": {},
   "outputs": [],
   "source": [
    "def draw_dot(root):\n",
    "    dot = Digraph(format='svg', graph_attr={'rankdir': 'LR'})  # LR = Left to Right\n",
    "\n",
    "    nodes, edges = trace(root)\n",
    "    for n in nodes:\n",
    "        uid = str(id(n))\n",
    "        # for any value in the graph, create a rectangular ('record') node for it\n",
    "        dot.node(name=uid, label=\"{ %s | data %.4f | grad %.4f }\" % (n.label, n.data, n.grad), shape='record')\n",
    "        if n._op:\n",
    "            # if this value is a result of some operation, create an op node for it\n",
    "            dot.node(name=uid + n._op, label=n._op)\n",
    "            # and connect this node to it\n",
    "            dot.edge(uid + n._op, uid)\n",
    "\n",
    "    for n1, n2 in edges:\n",
    "        # connect n1 to the op node of n2\n",
    "        dot.edge(str(id(n1)), str(id(n2)) + n2._op)\n",
    "\n",
    "    return dot\n",
    "    "
   ]
  },
  {
   "cell_type": "code",
   "execution_count": 26,
   "metadata": {},
   "outputs": [
    {
     "data": {
      "image/svg+xml": "<?xml version=\"1.0\" encoding=\"UTF-8\" standalone=\"no\"?>\n<!DOCTYPE svg PUBLIC \"-//W3C//DTD SVG 1.1//EN\"\n \"http://www.w3.org/Graphics/SVG/1.1/DTD/svg11.dtd\">\n<!-- Generated by graphviz version 2.50.0 (0)\n -->\n<!-- Pages: 1 -->\n<svg width=\"1148pt\" height=\"128pt\"\n viewBox=\"0.00 0.00 1148.00 128.00\" xmlns=\"http://www.w3.org/2000/svg\" xmlns:xlink=\"http://www.w3.org/1999/xlink\">\n<g id=\"graph0\" class=\"graph\" transform=\"scale(1 1) rotate(0) translate(4 124)\">\n<polygon fill=\"white\" stroke=\"transparent\" points=\"-4,4 -4,-124 1144,-124 1144,4 -4,4\"/>\n<!-- 140650259002416 -->\n<g id=\"node1\" class=\"node\">\n<title>140650259002416</title>\n<polygon fill=\"none\" stroke=\"black\" points=\"634,-82.5 634,-118.5 822,-118.5 822,-82.5 634,-82.5\"/>\n<text text-anchor=\"middle\" x=\"644.5\" y=\"-96.8\" font-family=\"Times,serif\" font-size=\"14.00\">f</text>\n<polyline fill=\"none\" stroke=\"black\" points=\"655,-82.5 655,-118.5 \"/>\n<text text-anchor=\"middle\" x=\"697.5\" y=\"-96.8\" font-family=\"Times,serif\" font-size=\"14.00\">data &#45;2.0000</text>\n<polyline fill=\"none\" stroke=\"black\" points=\"740,-82.5 740,-118.5 \"/>\n<text text-anchor=\"middle\" x=\"781\" y=\"-96.8\" font-family=\"Times,serif\" font-size=\"14.00\">grad 0.0000</text>\n</g>\n<!-- 140650259005248* -->\n<g id=\"node7\" class=\"node\">\n<title>140650259005248*</title>\n<ellipse fill=\"none\" stroke=\"black\" cx=\"885\" cy=\"-72.5\" rx=\"27\" ry=\"18\"/>\n<text text-anchor=\"middle\" x=\"885\" y=\"-68.8\" font-family=\"Times,serif\" font-size=\"14.00\">*</text>\n</g>\n<!-- 140650259002416&#45;&gt;140650259005248* -->\n<g id=\"edge4\" class=\"edge\">\n<title>140650259002416&#45;&gt;140650259005248*</title>\n<path fill=\"none\" stroke=\"black\" d=\"M822.29,-83.65C831.57,-81.97 840.52,-80.35 848.61,-78.89\"/>\n<polygon fill=\"black\" stroke=\"black\" points=\"849.46,-82.3 858.68,-77.07 848.21,-75.41 849.46,-82.3\"/>\n</g>\n<!-- 140649720440480 -->\n<g id=\"node2\" class=\"node\">\n<title>140649720440480</title>\n<polygon fill=\"none\" stroke=\"black\" points=\"0,-83.5 0,-119.5 190,-119.5 190,-83.5 0,-83.5\"/>\n<text text-anchor=\"middle\" x=\"11.5\" y=\"-97.8\" font-family=\"Times,serif\" font-size=\"14.00\">b</text>\n<polyline fill=\"none\" stroke=\"black\" points=\"23,-83.5 23,-119.5 \"/>\n<text text-anchor=\"middle\" x=\"65.5\" y=\"-97.8\" font-family=\"Times,serif\" font-size=\"14.00\">data &#45;3.0000</text>\n<polyline fill=\"none\" stroke=\"black\" points=\"108,-83.5 108,-119.5 \"/>\n<text text-anchor=\"middle\" x=\"149\" y=\"-97.8\" font-family=\"Times,serif\" font-size=\"14.00\">grad 0.0000</text>\n</g>\n<!-- 140650259003088* -->\n<g id=\"node4\" class=\"node\">\n<title>140650259003088*</title>\n<ellipse fill=\"none\" stroke=\"black\" cx=\"253\" cy=\"-73.5\" rx=\"27\" ry=\"18\"/>\n<text text-anchor=\"middle\" x=\"253\" y=\"-69.8\" font-family=\"Times,serif\" font-size=\"14.00\">*</text>\n</g>\n<!-- 140649720440480&#45;&gt;140650259003088* -->\n<g id=\"edge9\" class=\"edge\">\n<title>140649720440480&#45;&gt;140650259003088*</title>\n<path fill=\"none\" stroke=\"black\" d=\"M190.34,-84.57C199.62,-82.9 208.58,-81.29 216.66,-79.84\"/>\n<polygon fill=\"black\" stroke=\"black\" points=\"217.49,-83.25 226.72,-78.04 216.26,-76.36 217.49,-83.25\"/>\n</g>\n<!-- 140650259003088 -->\n<g id=\"node3\" class=\"node\">\n<title>140650259003088</title>\n<polygon fill=\"none\" stroke=\"black\" points=\"317,-55.5 317,-91.5 507,-91.5 507,-55.5 317,-55.5\"/>\n<text text-anchor=\"middle\" x=\"328.5\" y=\"-69.8\" font-family=\"Times,serif\" font-size=\"14.00\">e</text>\n<polyline fill=\"none\" stroke=\"black\" points=\"340,-55.5 340,-91.5 \"/>\n<text text-anchor=\"middle\" x=\"382.5\" y=\"-69.8\" font-family=\"Times,serif\" font-size=\"14.00\">data &#45;6.0000</text>\n<polyline fill=\"none\" stroke=\"black\" points=\"425,-55.5 425,-91.5 \"/>\n<text text-anchor=\"middle\" x=\"466\" y=\"-69.8\" font-family=\"Times,serif\" font-size=\"14.00\">grad 0.0000</text>\n</g>\n<!-- 140650259002176+ -->\n<g id=\"node9\" class=\"node\">\n<title>140650259002176+</title>\n<ellipse fill=\"none\" stroke=\"black\" cx=\"571\" cy=\"-45.5\" rx=\"27\" ry=\"18\"/>\n<text text-anchor=\"middle\" x=\"571\" y=\"-41.8\" font-family=\"Times,serif\" font-size=\"14.00\">+</text>\n</g>\n<!-- 140650259003088&#45;&gt;140650259002176+ -->\n<g id=\"edge6\" class=\"edge\">\n<title>140650259003088&#45;&gt;140650259002176+</title>\n<path fill=\"none\" stroke=\"black\" d=\"M507.05,-56.73C516.89,-54.97 526.39,-53.28 534.9,-51.76\"/>\n<polygon fill=\"black\" stroke=\"black\" points=\"535.52,-55.2 544.75,-50 534.29,-48.31 535.52,-55.2\"/>\n</g>\n<!-- 140650259003088*&#45;&gt;140650259003088 -->\n<g id=\"edge1\" class=\"edge\">\n<title>140650259003088*&#45;&gt;140650259003088</title>\n<path fill=\"none\" stroke=\"black\" d=\"M280.28,-73.5C288.05,-73.5 297.08,-73.5 306.68,-73.5\"/>\n<polygon fill=\"black\" stroke=\"black\" points=\"306.88,-77 316.88,-73.5 306.88,-70 306.88,-77\"/>\n</g>\n<!-- 140649720442112 -->\n<g id=\"node5\" class=\"node\">\n<title>140649720442112</title>\n<polygon fill=\"none\" stroke=\"black\" points=\"316,-0.5 316,-36.5 508,-36.5 508,-0.5 316,-0.5\"/>\n<text text-anchor=\"middle\" x=\"327.5\" y=\"-14.8\" font-family=\"Times,serif\" font-size=\"14.00\">c</text>\n<polyline fill=\"none\" stroke=\"black\" points=\"339,-0.5 339,-36.5 \"/>\n<text text-anchor=\"middle\" x=\"382.5\" y=\"-14.8\" font-family=\"Times,serif\" font-size=\"14.00\">data 10.0000</text>\n<polyline fill=\"none\" stroke=\"black\" points=\"426,-0.5 426,-36.5 \"/>\n<text text-anchor=\"middle\" x=\"467\" y=\"-14.8\" font-family=\"Times,serif\" font-size=\"14.00\">grad 0.0000</text>\n</g>\n<!-- 140649720442112&#45;&gt;140650259002176+ -->\n<g id=\"edge5\" class=\"edge\">\n<title>140649720442112&#45;&gt;140650259002176+</title>\n<path fill=\"none\" stroke=\"black\" d=\"M508.4,-34.91C517.69,-36.5 526.64,-38.04 534.71,-39.43\"/>\n<polygon fill=\"black\" stroke=\"black\" points=\"534.32,-42.91 544.76,-41.16 535.5,-36.02 534.32,-42.91\"/>\n</g>\n<!-- 140650259005248 -->\n<g id=\"node6\" class=\"node\">\n<title>140650259005248</title>\n<polygon fill=\"none\" stroke=\"black\" points=\"948,-54.5 948,-90.5 1140,-90.5 1140,-54.5 948,-54.5\"/>\n<text text-anchor=\"middle\" x=\"960.5\" y=\"-68.8\" font-family=\"Times,serif\" font-size=\"14.00\">L</text>\n<polyline fill=\"none\" stroke=\"black\" points=\"973,-54.5 973,-90.5 \"/>\n<text text-anchor=\"middle\" x=\"1015.5\" y=\"-68.8\" font-family=\"Times,serif\" font-size=\"14.00\">data &#45;8.0000</text>\n<polyline fill=\"none\" stroke=\"black\" points=\"1058,-54.5 1058,-90.5 \"/>\n<text text-anchor=\"middle\" x=\"1099\" y=\"-68.8\" font-family=\"Times,serif\" font-size=\"14.00\">grad 0.0000</text>\n</g>\n<!-- 140650259005248*&#45;&gt;140650259005248 -->\n<g id=\"edge2\" class=\"edge\">\n<title>140650259005248*&#45;&gt;140650259005248</title>\n<path fill=\"none\" stroke=\"black\" d=\"M912.28,-72.5C919.78,-72.5 928.44,-72.5 937.67,-72.5\"/>\n<polygon fill=\"black\" stroke=\"black\" points=\"937.87,-76 947.87,-72.5 937.87,-69 937.87,-76\"/>\n</g>\n<!-- 140650259002176 -->\n<g id=\"node8\" class=\"node\">\n<title>140650259002176</title>\n<polygon fill=\"none\" stroke=\"black\" points=\"635.5,-27.5 635.5,-63.5 820.5,-63.5 820.5,-27.5 635.5,-27.5\"/>\n<text text-anchor=\"middle\" x=\"647\" y=\"-41.8\" font-family=\"Times,serif\" font-size=\"14.00\">d</text>\n<polyline fill=\"none\" stroke=\"black\" points=\"658.5,-27.5 658.5,-63.5 \"/>\n<text text-anchor=\"middle\" x=\"698.5\" y=\"-41.8\" font-family=\"Times,serif\" font-size=\"14.00\">data 4.0000</text>\n<polyline fill=\"none\" stroke=\"black\" points=\"738.5,-27.5 738.5,-63.5 \"/>\n<text text-anchor=\"middle\" x=\"779.5\" y=\"-41.8\" font-family=\"Times,serif\" font-size=\"14.00\">grad 0.0000</text>\n</g>\n<!-- 140650259002176&#45;&gt;140650259005248* -->\n<g id=\"edge7\" class=\"edge\">\n<title>140650259002176&#45;&gt;140650259005248*</title>\n<path fill=\"none\" stroke=\"black\" d=\"M820.51,-61.44C830.48,-63.18 840.13,-64.86 848.77,-66.36\"/>\n<polygon fill=\"black\" stroke=\"black\" points=\"848.31,-69.84 858.77,-68.1 849.52,-62.94 848.31,-69.84\"/>\n</g>\n<!-- 140650259002176+&#45;&gt;140650259002176 -->\n<g id=\"edge3\" class=\"edge\">\n<title>140650259002176+&#45;&gt;140650259002176</title>\n<path fill=\"none\" stroke=\"black\" d=\"M598.29,-45.5C606.26,-45.5 615.54,-45.5 625.39,-45.5\"/>\n<polygon fill=\"black\" stroke=\"black\" points=\"625.41,-49 635.41,-45.5 625.41,-42 625.41,-49\"/>\n</g>\n<!-- 140649720440192 -->\n<g id=\"node10\" class=\"node\">\n<title>140649720440192</title>\n<polygon fill=\"none\" stroke=\"black\" points=\"2.5,-28.5 2.5,-64.5 187.5,-64.5 187.5,-28.5 2.5,-28.5\"/>\n<text text-anchor=\"middle\" x=\"14\" y=\"-42.8\" font-family=\"Times,serif\" font-size=\"14.00\">a</text>\n<polyline fill=\"none\" stroke=\"black\" points=\"25.5,-28.5 25.5,-64.5 \"/>\n<text text-anchor=\"middle\" x=\"65.5\" y=\"-42.8\" font-family=\"Times,serif\" font-size=\"14.00\">data 2.0000</text>\n<polyline fill=\"none\" stroke=\"black\" points=\"105.5,-28.5 105.5,-64.5 \"/>\n<text text-anchor=\"middle\" x=\"146.5\" y=\"-42.8\" font-family=\"Times,serif\" font-size=\"14.00\">grad 0.0000</text>\n</g>\n<!-- 140649720440192&#45;&gt;140650259003088* -->\n<g id=\"edge8\" class=\"edge\">\n<title>140649720440192&#45;&gt;140650259003088*</title>\n<path fill=\"none\" stroke=\"black\" d=\"M187.65,-62.36C197.94,-64.14 207.91,-65.87 216.81,-67.41\"/>\n<polygon fill=\"black\" stroke=\"black\" points=\"216.26,-70.87 226.71,-69.12 217.45,-63.97 216.26,-70.87\"/>\n</g>\n</g>\n</svg>\n",
      "text/plain": [
       "<graphviz.graphs.Digraph at 0x7febb0b9b7c0>"
      ]
     },
     "execution_count": 26,
     "metadata": {},
     "output_type": "execute_result"
    }
   ],
   "source": [
    "\n",
    "# same expression as before just here for clarity\n",
    "a = Value(2.0, label='a')\n",
    "b = Value(-3.0, label='b')\n",
    "c = Value(10.0, label='c')\n",
    "e = a*b; e.label = 'e'\n",
    "d = e + c; d.label = 'd'\n",
    "f = Value(-2.0, label='f')\n",
    "L = d*f; L.label=\"L\"\n",
    "\n",
    "draw_dot(L)"
   ]
  },
  {
   "cell_type": "code",
   "execution_count": 27,
   "metadata": {},
   "outputs": [
    {
     "name": "stdout",
     "output_type": "stream",
     "text": [
      "1.0000000028043132\n"
     ]
    }
   ],
   "source": [
    "# We are creating a gating function to limit the \n",
    "# scope of these variables, so we don't pollute\n",
    "# the global scope\n",
    "\n",
    "def estimate_gradient_of_L(): # with respect to L\n",
    "    h = 0.0000001\n",
    "\n",
    "    a = Value(2.0, label='a')\n",
    "    b = Value(-3.0, label='b')\n",
    "    c = Value(10.0, label='c')\n",
    "    e = a*b\n",
    "    e.label = 'e'\n",
    "    d = e + c\n",
    "    d.label = 'd'\n",
    "    f = Value(-2.0, label='f')\n",
    "    L = d*f\n",
    "    L.label = \"L\"\n",
    "    # need to get the float value wrapped \n",
    "    # in our value object so we use the `data` prop\n",
    "    L1 = L.data  \n",
    "\n",
    "    a = Value(2.0, label='a')\n",
    "    b = Value(-3.0, label='b')\n",
    "    c = Value(10.0, label='c')\n",
    "    e = a*b\n",
    "    e.label = 'e'\n",
    "    d = e + c\n",
    "    d.label = 'd'\n",
    "    f = Value(-2.0, label='f')\n",
    "    L = d*f\n",
    "    L.label = \"L\"\n",
    "    L2 = L.data + h\n",
    "\n",
    "    print((L2 - L1) / h)\n",
    "\n",
    "\n",
    "estimate_gradient_of_L()\n"
   ]
  },
  {
   "cell_type": "markdown",
   "metadata": {},
   "source": [
    "### Deriving a node\n",
    "So if we change L by h we get 1.\n",
    "This is like the base case of what we are doing here.\n",
    "This is because the derivative of L with respect to L is going to be 1.\n",
    "\n",
    "Since above in `estimate_gradient_of_L()` we are using numerical estimation of our gradient, we use a small value of h to calculate that gradient and we can see it tends towards 1\n",
    "\n",
    "So given this we will set the gradient of L in our graph to 1."
   ]
  },
  {
   "cell_type": "code",
   "execution_count": 28,
   "metadata": {},
   "outputs": [
    {
     "data": {
      "image/svg+xml": "<?xml version=\"1.0\" encoding=\"UTF-8\" standalone=\"no\"?>\n<!DOCTYPE svg PUBLIC \"-//W3C//DTD SVG 1.1//EN\"\n \"http://www.w3.org/Graphics/SVG/1.1/DTD/svg11.dtd\">\n<!-- Generated by graphviz version 2.50.0 (0)\n -->\n<!-- Pages: 1 -->\n<svg width=\"1148pt\" height=\"128pt\"\n viewBox=\"0.00 0.00 1148.00 128.00\" xmlns=\"http://www.w3.org/2000/svg\" xmlns:xlink=\"http://www.w3.org/1999/xlink\">\n<g id=\"graph0\" class=\"graph\" transform=\"scale(1 1) rotate(0) translate(4 124)\">\n<polygon fill=\"white\" stroke=\"transparent\" points=\"-4,4 -4,-124 1144,-124 1144,4 -4,4\"/>\n<!-- 140650259002416 -->\n<g id=\"node1\" class=\"node\">\n<title>140650259002416</title>\n<polygon fill=\"none\" stroke=\"black\" points=\"634,-82.5 634,-118.5 822,-118.5 822,-82.5 634,-82.5\"/>\n<text text-anchor=\"middle\" x=\"644.5\" y=\"-96.8\" font-family=\"Times,serif\" font-size=\"14.00\">f</text>\n<polyline fill=\"none\" stroke=\"black\" points=\"655,-82.5 655,-118.5 \"/>\n<text text-anchor=\"middle\" x=\"697.5\" y=\"-96.8\" font-family=\"Times,serif\" font-size=\"14.00\">data &#45;2.0000</text>\n<polyline fill=\"none\" stroke=\"black\" points=\"740,-82.5 740,-118.5 \"/>\n<text text-anchor=\"middle\" x=\"781\" y=\"-96.8\" font-family=\"Times,serif\" font-size=\"14.00\">grad 0.0000</text>\n</g>\n<!-- 140650259005248* -->\n<g id=\"node7\" class=\"node\">\n<title>140650259005248*</title>\n<ellipse fill=\"none\" stroke=\"black\" cx=\"885\" cy=\"-72.5\" rx=\"27\" ry=\"18\"/>\n<text text-anchor=\"middle\" x=\"885\" y=\"-68.8\" font-family=\"Times,serif\" font-size=\"14.00\">*</text>\n</g>\n<!-- 140650259002416&#45;&gt;140650259005248* -->\n<g id=\"edge4\" class=\"edge\">\n<title>140650259002416&#45;&gt;140650259005248*</title>\n<path fill=\"none\" stroke=\"black\" d=\"M822.29,-83.65C831.57,-81.97 840.52,-80.35 848.61,-78.89\"/>\n<polygon fill=\"black\" stroke=\"black\" points=\"849.46,-82.3 858.68,-77.07 848.21,-75.41 849.46,-82.3\"/>\n</g>\n<!-- 140649720440480 -->\n<g id=\"node2\" class=\"node\">\n<title>140649720440480</title>\n<polygon fill=\"none\" stroke=\"black\" points=\"0,-83.5 0,-119.5 190,-119.5 190,-83.5 0,-83.5\"/>\n<text text-anchor=\"middle\" x=\"11.5\" y=\"-97.8\" font-family=\"Times,serif\" font-size=\"14.00\">b</text>\n<polyline fill=\"none\" stroke=\"black\" points=\"23,-83.5 23,-119.5 \"/>\n<text text-anchor=\"middle\" x=\"65.5\" y=\"-97.8\" font-family=\"Times,serif\" font-size=\"14.00\">data &#45;3.0000</text>\n<polyline fill=\"none\" stroke=\"black\" points=\"108,-83.5 108,-119.5 \"/>\n<text text-anchor=\"middle\" x=\"149\" y=\"-97.8\" font-family=\"Times,serif\" font-size=\"14.00\">grad 0.0000</text>\n</g>\n<!-- 140650259003088* -->\n<g id=\"node4\" class=\"node\">\n<title>140650259003088*</title>\n<ellipse fill=\"none\" stroke=\"black\" cx=\"253\" cy=\"-73.5\" rx=\"27\" ry=\"18\"/>\n<text text-anchor=\"middle\" x=\"253\" y=\"-69.8\" font-family=\"Times,serif\" font-size=\"14.00\">*</text>\n</g>\n<!-- 140649720440480&#45;&gt;140650259003088* -->\n<g id=\"edge9\" class=\"edge\">\n<title>140649720440480&#45;&gt;140650259003088*</title>\n<path fill=\"none\" stroke=\"black\" d=\"M190.34,-84.57C199.62,-82.9 208.58,-81.29 216.66,-79.84\"/>\n<polygon fill=\"black\" stroke=\"black\" points=\"217.49,-83.25 226.72,-78.04 216.26,-76.36 217.49,-83.25\"/>\n</g>\n<!-- 140650259003088 -->\n<g id=\"node3\" class=\"node\">\n<title>140650259003088</title>\n<polygon fill=\"none\" stroke=\"black\" points=\"317,-55.5 317,-91.5 507,-91.5 507,-55.5 317,-55.5\"/>\n<text text-anchor=\"middle\" x=\"328.5\" y=\"-69.8\" font-family=\"Times,serif\" font-size=\"14.00\">e</text>\n<polyline fill=\"none\" stroke=\"black\" points=\"340,-55.5 340,-91.5 \"/>\n<text text-anchor=\"middle\" x=\"382.5\" y=\"-69.8\" font-family=\"Times,serif\" font-size=\"14.00\">data &#45;6.0000</text>\n<polyline fill=\"none\" stroke=\"black\" points=\"425,-55.5 425,-91.5 \"/>\n<text text-anchor=\"middle\" x=\"466\" y=\"-69.8\" font-family=\"Times,serif\" font-size=\"14.00\">grad 0.0000</text>\n</g>\n<!-- 140650259002176+ -->\n<g id=\"node9\" class=\"node\">\n<title>140650259002176+</title>\n<ellipse fill=\"none\" stroke=\"black\" cx=\"571\" cy=\"-45.5\" rx=\"27\" ry=\"18\"/>\n<text text-anchor=\"middle\" x=\"571\" y=\"-41.8\" font-family=\"Times,serif\" font-size=\"14.00\">+</text>\n</g>\n<!-- 140650259003088&#45;&gt;140650259002176+ -->\n<g id=\"edge6\" class=\"edge\">\n<title>140650259003088&#45;&gt;140650259002176+</title>\n<path fill=\"none\" stroke=\"black\" d=\"M507.05,-56.73C516.89,-54.97 526.39,-53.28 534.9,-51.76\"/>\n<polygon fill=\"black\" stroke=\"black\" points=\"535.52,-55.2 544.75,-50 534.29,-48.31 535.52,-55.2\"/>\n</g>\n<!-- 140650259003088*&#45;&gt;140650259003088 -->\n<g id=\"edge1\" class=\"edge\">\n<title>140650259003088*&#45;&gt;140650259003088</title>\n<path fill=\"none\" stroke=\"black\" d=\"M280.28,-73.5C288.05,-73.5 297.08,-73.5 306.68,-73.5\"/>\n<polygon fill=\"black\" stroke=\"black\" points=\"306.88,-77 316.88,-73.5 306.88,-70 306.88,-77\"/>\n</g>\n<!-- 140649720442112 -->\n<g id=\"node5\" class=\"node\">\n<title>140649720442112</title>\n<polygon fill=\"none\" stroke=\"black\" points=\"316,-0.5 316,-36.5 508,-36.5 508,-0.5 316,-0.5\"/>\n<text text-anchor=\"middle\" x=\"327.5\" y=\"-14.8\" font-family=\"Times,serif\" font-size=\"14.00\">c</text>\n<polyline fill=\"none\" stroke=\"black\" points=\"339,-0.5 339,-36.5 \"/>\n<text text-anchor=\"middle\" x=\"382.5\" y=\"-14.8\" font-family=\"Times,serif\" font-size=\"14.00\">data 10.0000</text>\n<polyline fill=\"none\" stroke=\"black\" points=\"426,-0.5 426,-36.5 \"/>\n<text text-anchor=\"middle\" x=\"467\" y=\"-14.8\" font-family=\"Times,serif\" font-size=\"14.00\">grad 0.0000</text>\n</g>\n<!-- 140649720442112&#45;&gt;140650259002176+ -->\n<g id=\"edge5\" class=\"edge\">\n<title>140649720442112&#45;&gt;140650259002176+</title>\n<path fill=\"none\" stroke=\"black\" d=\"M508.4,-34.91C517.69,-36.5 526.64,-38.04 534.71,-39.43\"/>\n<polygon fill=\"black\" stroke=\"black\" points=\"534.32,-42.91 544.76,-41.16 535.5,-36.02 534.32,-42.91\"/>\n</g>\n<!-- 140650259005248 -->\n<g id=\"node6\" class=\"node\">\n<title>140650259005248</title>\n<polygon fill=\"none\" stroke=\"black\" points=\"948,-54.5 948,-90.5 1140,-90.5 1140,-54.5 948,-54.5\"/>\n<text text-anchor=\"middle\" x=\"960.5\" y=\"-68.8\" font-family=\"Times,serif\" font-size=\"14.00\">L</text>\n<polyline fill=\"none\" stroke=\"black\" points=\"973,-54.5 973,-90.5 \"/>\n<text text-anchor=\"middle\" x=\"1015.5\" y=\"-68.8\" font-family=\"Times,serif\" font-size=\"14.00\">data &#45;8.0000</text>\n<polyline fill=\"none\" stroke=\"black\" points=\"1058,-54.5 1058,-90.5 \"/>\n<text text-anchor=\"middle\" x=\"1099\" y=\"-68.8\" font-family=\"Times,serif\" font-size=\"14.00\">grad 1.0000</text>\n</g>\n<!-- 140650259005248*&#45;&gt;140650259005248 -->\n<g id=\"edge2\" class=\"edge\">\n<title>140650259005248*&#45;&gt;140650259005248</title>\n<path fill=\"none\" stroke=\"black\" d=\"M912.28,-72.5C919.78,-72.5 928.44,-72.5 937.67,-72.5\"/>\n<polygon fill=\"black\" stroke=\"black\" points=\"937.87,-76 947.87,-72.5 937.87,-69 937.87,-76\"/>\n</g>\n<!-- 140650259002176 -->\n<g id=\"node8\" class=\"node\">\n<title>140650259002176</title>\n<polygon fill=\"none\" stroke=\"black\" points=\"635.5,-27.5 635.5,-63.5 820.5,-63.5 820.5,-27.5 635.5,-27.5\"/>\n<text text-anchor=\"middle\" x=\"647\" y=\"-41.8\" font-family=\"Times,serif\" font-size=\"14.00\">d</text>\n<polyline fill=\"none\" stroke=\"black\" points=\"658.5,-27.5 658.5,-63.5 \"/>\n<text text-anchor=\"middle\" x=\"698.5\" y=\"-41.8\" font-family=\"Times,serif\" font-size=\"14.00\">data 4.0000</text>\n<polyline fill=\"none\" stroke=\"black\" points=\"738.5,-27.5 738.5,-63.5 \"/>\n<text text-anchor=\"middle\" x=\"779.5\" y=\"-41.8\" font-family=\"Times,serif\" font-size=\"14.00\">grad 0.0000</text>\n</g>\n<!-- 140650259002176&#45;&gt;140650259005248* -->\n<g id=\"edge7\" class=\"edge\">\n<title>140650259002176&#45;&gt;140650259005248*</title>\n<path fill=\"none\" stroke=\"black\" d=\"M820.51,-61.44C830.48,-63.18 840.13,-64.86 848.77,-66.36\"/>\n<polygon fill=\"black\" stroke=\"black\" points=\"848.31,-69.84 858.77,-68.1 849.52,-62.94 848.31,-69.84\"/>\n</g>\n<!-- 140650259002176+&#45;&gt;140650259002176 -->\n<g id=\"edge3\" class=\"edge\">\n<title>140650259002176+&#45;&gt;140650259002176</title>\n<path fill=\"none\" stroke=\"black\" d=\"M598.29,-45.5C606.26,-45.5 615.54,-45.5 625.39,-45.5\"/>\n<polygon fill=\"black\" stroke=\"black\" points=\"625.41,-49 635.41,-45.5 625.41,-42 625.41,-49\"/>\n</g>\n<!-- 140649720440192 -->\n<g id=\"node10\" class=\"node\">\n<title>140649720440192</title>\n<polygon fill=\"none\" stroke=\"black\" points=\"2.5,-28.5 2.5,-64.5 187.5,-64.5 187.5,-28.5 2.5,-28.5\"/>\n<text text-anchor=\"middle\" x=\"14\" y=\"-42.8\" font-family=\"Times,serif\" font-size=\"14.00\">a</text>\n<polyline fill=\"none\" stroke=\"black\" points=\"25.5,-28.5 25.5,-64.5 \"/>\n<text text-anchor=\"middle\" x=\"65.5\" y=\"-42.8\" font-family=\"Times,serif\" font-size=\"14.00\">data 2.0000</text>\n<polyline fill=\"none\" stroke=\"black\" points=\"105.5,-28.5 105.5,-64.5 \"/>\n<text text-anchor=\"middle\" x=\"146.5\" y=\"-42.8\" font-family=\"Times,serif\" font-size=\"14.00\">grad 0.0000</text>\n</g>\n<!-- 140649720440192&#45;&gt;140650259003088* -->\n<g id=\"edge8\" class=\"edge\">\n<title>140649720440192&#45;&gt;140650259003088*</title>\n<path fill=\"none\" stroke=\"black\" d=\"M187.65,-62.36C197.94,-64.14 207.91,-65.87 216.81,-67.41\"/>\n<polygon fill=\"black\" stroke=\"black\" points=\"216.26,-70.87 226.71,-69.12 217.45,-63.97 216.26,-70.87\"/>\n</g>\n</g>\n</svg>\n",
      "text/plain": [
       "<graphviz.graphs.Digraph at 0x7feb80bb7e20>"
      ]
     },
     "execution_count": 28,
     "metadata": {},
     "output_type": "execute_result"
    }
   ],
   "source": [
    "L.grad = 1;\n",
    "draw_dot(L)"
   ]
  },
  {
   "cell_type": "markdown",
   "metadata": {},
   "source": [
    "We are now going to continue deriving the values through the graph (continue the backpropagation)\n",
    "\n",
    "Lets first look at the derivatives of $L$ with respect to $d$ and $f$\n",
    "\n",
    "Firstly $d$\n",
    "\n",
    "We know that $ L = d\\times f $\n",
    "... so the derivative of $L$ with respect to $d$ is expressed as\n",
    "$\\frac{dL}{dd}$\n",
    "\n",
    "We can use calculus to tell us that if $ L = d\\times f $ then $\\frac{dL}{dd}$ is $f$\n",
    "\n",
    "The proof of this is straightforward\n",
    "\n",
    "##### Proof\n",
    "Definition of a derivative \n",
    "\n",
    "$${\\displaystyle L=\\lim _{h\\to 0}{\\frac {f(x+h)-f(x)}{h}}}$$\n",
    "\n",
    "Increasing $d$ by $h$ gives us the output of \n",
    "\n",
    "$$\\frac{(d+h)\\times f - d\\times f}{h}$$\n",
    "\n",
    "...in this example, our $x$ is $d$\n",
    "\n",
    "then, expanding out symbolically\n",
    "\n",
    "$$\\frac{d\\times f + h\\times f - d\\times f}{h}$$ \n",
    "\n",
    "the $d\\times f$'s cancel, giving us \n",
    "\n",
    "$$\\frac{h \\times f}{h}$$\n",
    "\n",
    "which just leaves us with \n",
    "\n",
    "$$f$$\n",
    "\n",
    "\n",
    "Given this, lets looks at what the derivative of $d$ is\n"
   ]
  },
  {
   "cell_type": "code",
   "execution_count": 29,
   "metadata": {},
   "outputs": [
    {
     "name": "stdout",
     "output_type": "stream",
     "text": [
      "-2.000000000000668\n"
     ]
    }
   ],
   "source": [
    "def estimate_the_gradient_of_d():\n",
    "    h = 0.001\n",
    "\n",
    "    a = Value(2.0, label='a')\n",
    "    b = Value(-3.0, label='b')\n",
    "    c = Value(10.0, label='c')\n",
    "    e = a*b\n",
    "    e.label = 'e'\n",
    "    d = e + c\n",
    "    d.label = 'd'\n",
    "    f = Value(-2.0, label='f')\n",
    "    L = d*f\n",
    "    L.label = \"L\"\n",
    "    L1 = L.data  # need to get the float value wrapped in our value object\n",
    "\n",
    "    a = Value(2.0, label='a')\n",
    "    b = Value(-3.0, label='b')\n",
    "    c = Value(10.0, label='c')\n",
    "    e = a*b\n",
    "    e.label = 'e'\n",
    "    d = e + c\n",
    "    # we want derivative with respect to d\n",
    "    # so lets add in h here\n",
    "    d.data += h\n",
    "    d.label = 'd'\n",
    "    f = Value(-2.0, label='f')\n",
    "    L = d*f\n",
    "    L.label = \"L\"\n",
    "    L2 = L.data\n",
    "\n",
    "    print((L2 - L1) / h)\n",
    "\n",
    "\n",
    "estimate_the_gradient_of_d()\n"
   ]
  },
  {
   "cell_type": "markdown",
   "metadata": {},
   "source": [
    "Here we see we get the value of 4. Or close enough due to our floating point funkiness\n",
    "\n",
    "Now lets do the same, changing $d$, to get the gradient for f\n",
    "\n",
    "What we are doing is somewhat an **inline gradient check**\n",
    "\n",
    "This is when we are deriving backpropagation and getting the derivative with respecect to all the intermediate results\n",
    "\n",
    "**Numerical gradient** is estimating that derivative by using a small input size"
   ]
  },
  {
   "cell_type": "code",
   "execution_count": 30,
   "metadata": {},
   "outputs": [
    {
     "name": "stdout",
     "output_type": "stream",
     "text": [
      "3.9999999999995595\n"
     ]
    }
   ],
   "source": [
    "def estimate_gradient_of_f():\n",
    "    h = 0.001\n",
    "\n",
    "    a = Value(2.0, label='a')\n",
    "    b = Value(-3.0, label='b')\n",
    "    c = Value(10.0, label='c')\n",
    "    e = a*b\n",
    "    e.label = 'e'\n",
    "    d = e + c\n",
    "    d.label = 'd'\n",
    "    f = Value(-2.0, label='f')\n",
    "    L = d*f\n",
    "    L.label = \"L\"\n",
    "    L1 = L.data \n",
    "\n",
    "    a = Value(2.0, label='a')\n",
    "    b = Value(-3.0, label='b')\n",
    "    c = Value(10.0, label='c')\n",
    "    e = a*b\n",
    "    e.label = 'e'\n",
    "    d = e + c\n",
    "    d.label = 'd'\n",
    "    # this time we want \n",
    "    # derivative with respect \n",
    "    # to f so lets add in h here\n",
    "    f = Value(-2.0 + h, label='f')\n",
    "    L = d*f\n",
    "    L.label = \"L\"\n",
    "    L2 = L.data\n",
    "\n",
    "    print((L2 - L1) / h)\n",
    "\n",
    "\n",
    "estimate_gradient_of_f()\n"
   ]
  },
  {
   "cell_type": "markdown",
   "metadata": {},
   "source": [
    "Here we have numerically verified the gradients\n",
    "for both $d$ & $f$ as -2 and 4 respectively\n",
    "\n",
    "Lets print that out on the graph\n",
    "\n",
    "Notice `f.grad` is the value of d and `d.grad` is the value of $f$"
   ]
  },
  {
   "cell_type": "code",
   "execution_count": 31,
   "metadata": {},
   "outputs": [
    {
     "data": {
      "image/svg+xml": "<?xml version=\"1.0\" encoding=\"UTF-8\" standalone=\"no\"?>\n<!DOCTYPE svg PUBLIC \"-//W3C//DTD SVG 1.1//EN\"\n \"http://www.w3.org/Graphics/SVG/1.1/DTD/svg11.dtd\">\n<!-- Generated by graphviz version 2.50.0 (0)\n -->\n<!-- Pages: 1 -->\n<svg width=\"1149pt\" height=\"128pt\"\n viewBox=\"0.00 0.00 1149.00 128.00\" xmlns=\"http://www.w3.org/2000/svg\" xmlns:xlink=\"http://www.w3.org/1999/xlink\">\n<g id=\"graph0\" class=\"graph\" transform=\"scale(1 1) rotate(0) translate(4 124)\">\n<polygon fill=\"white\" stroke=\"transparent\" points=\"-4,4 -4,-124 1145,-124 1145,4 -4,4\"/>\n<!-- 140650259002416 -->\n<g id=\"node1\" class=\"node\">\n<title>140650259002416</title>\n<polygon fill=\"none\" stroke=\"black\" points=\"634.5,-82.5 634.5,-118.5 822.5,-118.5 822.5,-82.5 634.5,-82.5\"/>\n<text text-anchor=\"middle\" x=\"645\" y=\"-96.8\" font-family=\"Times,serif\" font-size=\"14.00\">f</text>\n<polyline fill=\"none\" stroke=\"black\" points=\"655.5,-82.5 655.5,-118.5 \"/>\n<text text-anchor=\"middle\" x=\"698\" y=\"-96.8\" font-family=\"Times,serif\" font-size=\"14.00\">data &#45;2.0000</text>\n<polyline fill=\"none\" stroke=\"black\" points=\"740.5,-82.5 740.5,-118.5 \"/>\n<text text-anchor=\"middle\" x=\"781.5\" y=\"-96.8\" font-family=\"Times,serif\" font-size=\"14.00\">grad 4.0000</text>\n</g>\n<!-- 140650259005248* -->\n<g id=\"node7\" class=\"node\">\n<title>140650259005248*</title>\n<ellipse fill=\"none\" stroke=\"black\" cx=\"886\" cy=\"-72.5\" rx=\"27\" ry=\"18\"/>\n<text text-anchor=\"middle\" x=\"886\" y=\"-68.8\" font-family=\"Times,serif\" font-size=\"14.00\">*</text>\n</g>\n<!-- 140650259002416&#45;&gt;140650259005248* -->\n<g id=\"edge4\" class=\"edge\">\n<title>140650259002416&#45;&gt;140650259005248*</title>\n<path fill=\"none\" stroke=\"black\" d=\"M822.65,-83.73C832.2,-82.01 841.43,-80.35 849.72,-78.85\"/>\n<polygon fill=\"black\" stroke=\"black\" points=\"850.47,-82.27 859.69,-77.06 849.23,-75.39 850.47,-82.27\"/>\n</g>\n<!-- 140649720440480 -->\n<g id=\"node2\" class=\"node\">\n<title>140649720440480</title>\n<polygon fill=\"none\" stroke=\"black\" points=\"0,-83.5 0,-119.5 190,-119.5 190,-83.5 0,-83.5\"/>\n<text text-anchor=\"middle\" x=\"11.5\" y=\"-97.8\" font-family=\"Times,serif\" font-size=\"14.00\">b</text>\n<polyline fill=\"none\" stroke=\"black\" points=\"23,-83.5 23,-119.5 \"/>\n<text text-anchor=\"middle\" x=\"65.5\" y=\"-97.8\" font-family=\"Times,serif\" font-size=\"14.00\">data &#45;3.0000</text>\n<polyline fill=\"none\" stroke=\"black\" points=\"108,-83.5 108,-119.5 \"/>\n<text text-anchor=\"middle\" x=\"149\" y=\"-97.8\" font-family=\"Times,serif\" font-size=\"14.00\">grad 0.0000</text>\n</g>\n<!-- 140650259003088* -->\n<g id=\"node4\" class=\"node\">\n<title>140650259003088*</title>\n<ellipse fill=\"none\" stroke=\"black\" cx=\"253\" cy=\"-73.5\" rx=\"27\" ry=\"18\"/>\n<text text-anchor=\"middle\" x=\"253\" y=\"-69.8\" font-family=\"Times,serif\" font-size=\"14.00\">*</text>\n</g>\n<!-- 140649720440480&#45;&gt;140650259003088* -->\n<g id=\"edge9\" class=\"edge\">\n<title>140649720440480&#45;&gt;140650259003088*</title>\n<path fill=\"none\" stroke=\"black\" d=\"M190.34,-84.57C199.62,-82.9 208.58,-81.29 216.66,-79.84\"/>\n<polygon fill=\"black\" stroke=\"black\" points=\"217.49,-83.25 226.72,-78.04 216.26,-76.36 217.49,-83.25\"/>\n</g>\n<!-- 140650259003088 -->\n<g id=\"node3\" class=\"node\">\n<title>140650259003088</title>\n<polygon fill=\"none\" stroke=\"black\" points=\"317,-55.5 317,-91.5 507,-91.5 507,-55.5 317,-55.5\"/>\n<text text-anchor=\"middle\" x=\"328.5\" y=\"-69.8\" font-family=\"Times,serif\" font-size=\"14.00\">e</text>\n<polyline fill=\"none\" stroke=\"black\" points=\"340,-55.5 340,-91.5 \"/>\n<text text-anchor=\"middle\" x=\"382.5\" y=\"-69.8\" font-family=\"Times,serif\" font-size=\"14.00\">data &#45;6.0000</text>\n<polyline fill=\"none\" stroke=\"black\" points=\"425,-55.5 425,-91.5 \"/>\n<text text-anchor=\"middle\" x=\"466\" y=\"-69.8\" font-family=\"Times,serif\" font-size=\"14.00\">grad 0.0000</text>\n</g>\n<!-- 140650259002176+ -->\n<g id=\"node9\" class=\"node\">\n<title>140650259002176+</title>\n<ellipse fill=\"none\" stroke=\"black\" cx=\"571\" cy=\"-45.5\" rx=\"27\" ry=\"18\"/>\n<text text-anchor=\"middle\" x=\"571\" y=\"-41.8\" font-family=\"Times,serif\" font-size=\"14.00\">+</text>\n</g>\n<!-- 140650259003088&#45;&gt;140650259002176+ -->\n<g id=\"edge6\" class=\"edge\">\n<title>140650259003088&#45;&gt;140650259002176+</title>\n<path fill=\"none\" stroke=\"black\" d=\"M507.05,-56.73C516.89,-54.97 526.39,-53.28 534.9,-51.76\"/>\n<polygon fill=\"black\" stroke=\"black\" points=\"535.52,-55.2 544.75,-50 534.29,-48.31 535.52,-55.2\"/>\n</g>\n<!-- 140650259003088*&#45;&gt;140650259003088 -->\n<g id=\"edge1\" class=\"edge\">\n<title>140650259003088*&#45;&gt;140650259003088</title>\n<path fill=\"none\" stroke=\"black\" d=\"M280.28,-73.5C288.05,-73.5 297.08,-73.5 306.68,-73.5\"/>\n<polygon fill=\"black\" stroke=\"black\" points=\"306.88,-77 316.88,-73.5 306.88,-70 306.88,-77\"/>\n</g>\n<!-- 140649720442112 -->\n<g id=\"node5\" class=\"node\">\n<title>140649720442112</title>\n<polygon fill=\"none\" stroke=\"black\" points=\"316,-0.5 316,-36.5 508,-36.5 508,-0.5 316,-0.5\"/>\n<text text-anchor=\"middle\" x=\"327.5\" y=\"-14.8\" font-family=\"Times,serif\" font-size=\"14.00\">c</text>\n<polyline fill=\"none\" stroke=\"black\" points=\"339,-0.5 339,-36.5 \"/>\n<text text-anchor=\"middle\" x=\"382.5\" y=\"-14.8\" font-family=\"Times,serif\" font-size=\"14.00\">data 10.0000</text>\n<polyline fill=\"none\" stroke=\"black\" points=\"426,-0.5 426,-36.5 \"/>\n<text text-anchor=\"middle\" x=\"467\" y=\"-14.8\" font-family=\"Times,serif\" font-size=\"14.00\">grad 0.0000</text>\n</g>\n<!-- 140649720442112&#45;&gt;140650259002176+ -->\n<g id=\"edge5\" class=\"edge\">\n<title>140649720442112&#45;&gt;140650259002176+</title>\n<path fill=\"none\" stroke=\"black\" d=\"M508.4,-34.91C517.69,-36.5 526.64,-38.04 534.71,-39.43\"/>\n<polygon fill=\"black\" stroke=\"black\" points=\"534.32,-42.91 544.76,-41.16 535.5,-36.02 534.32,-42.91\"/>\n</g>\n<!-- 140650259005248 -->\n<g id=\"node6\" class=\"node\">\n<title>140650259005248</title>\n<polygon fill=\"none\" stroke=\"black\" points=\"949,-54.5 949,-90.5 1141,-90.5 1141,-54.5 949,-54.5\"/>\n<text text-anchor=\"middle\" x=\"961.5\" y=\"-68.8\" font-family=\"Times,serif\" font-size=\"14.00\">L</text>\n<polyline fill=\"none\" stroke=\"black\" points=\"974,-54.5 974,-90.5 \"/>\n<text text-anchor=\"middle\" x=\"1016.5\" y=\"-68.8\" font-family=\"Times,serif\" font-size=\"14.00\">data &#45;8.0000</text>\n<polyline fill=\"none\" stroke=\"black\" points=\"1059,-54.5 1059,-90.5 \"/>\n<text text-anchor=\"middle\" x=\"1100\" y=\"-68.8\" font-family=\"Times,serif\" font-size=\"14.00\">grad 1.0000</text>\n</g>\n<!-- 140650259005248*&#45;&gt;140650259005248 -->\n<g id=\"edge2\" class=\"edge\">\n<title>140650259005248*&#45;&gt;140650259005248</title>\n<path fill=\"none\" stroke=\"black\" d=\"M913.28,-72.5C920.78,-72.5 929.44,-72.5 938.67,-72.5\"/>\n<polygon fill=\"black\" stroke=\"black\" points=\"938.87,-76 948.87,-72.5 938.87,-69 938.87,-76\"/>\n</g>\n<!-- 140650259002176 -->\n<g id=\"node8\" class=\"node\">\n<title>140650259002176</title>\n<polygon fill=\"none\" stroke=\"black\" points=\"634,-27.5 634,-63.5 823,-63.5 823,-27.5 634,-27.5\"/>\n<text text-anchor=\"middle\" x=\"645.5\" y=\"-41.8\" font-family=\"Times,serif\" font-size=\"14.00\">d</text>\n<polyline fill=\"none\" stroke=\"black\" points=\"657,-27.5 657,-63.5 \"/>\n<text text-anchor=\"middle\" x=\"697\" y=\"-41.8\" font-family=\"Times,serif\" font-size=\"14.00\">data 4.0000</text>\n<polyline fill=\"none\" stroke=\"black\" points=\"737,-27.5 737,-63.5 \"/>\n<text text-anchor=\"middle\" x=\"780\" y=\"-41.8\" font-family=\"Times,serif\" font-size=\"14.00\">grad &#45;2.0000</text>\n</g>\n<!-- 140650259002176&#45;&gt;140650259005248* -->\n<g id=\"edge7\" class=\"edge\">\n<title>140650259002176&#45;&gt;140650259005248*</title>\n<path fill=\"none\" stroke=\"black\" d=\"M823.1,-61.75C832.4,-63.37 841.38,-64.93 849.49,-66.33\"/>\n<polygon fill=\"black\" stroke=\"black\" points=\"849.14,-69.83 859.59,-68.09 850.34,-62.93 849.14,-69.83\"/>\n</g>\n<!-- 140650259002176+&#45;&gt;140650259002176 -->\n<g id=\"edge3\" class=\"edge\">\n<title>140650259002176+&#45;&gt;140650259002176</title>\n<path fill=\"none\" stroke=\"black\" d=\"M598.03,-45.5C605.66,-45.5 614.52,-45.5 623.94,-45.5\"/>\n<polygon fill=\"black\" stroke=\"black\" points=\"623.94,-49 633.94,-45.5 623.94,-42 623.94,-49\"/>\n</g>\n<!-- 140649720440192 -->\n<g id=\"node10\" class=\"node\">\n<title>140649720440192</title>\n<polygon fill=\"none\" stroke=\"black\" points=\"2.5,-28.5 2.5,-64.5 187.5,-64.5 187.5,-28.5 2.5,-28.5\"/>\n<text text-anchor=\"middle\" x=\"14\" y=\"-42.8\" font-family=\"Times,serif\" font-size=\"14.00\">a</text>\n<polyline fill=\"none\" stroke=\"black\" points=\"25.5,-28.5 25.5,-64.5 \"/>\n<text text-anchor=\"middle\" x=\"65.5\" y=\"-42.8\" font-family=\"Times,serif\" font-size=\"14.00\">data 2.0000</text>\n<polyline fill=\"none\" stroke=\"black\" points=\"105.5,-28.5 105.5,-64.5 \"/>\n<text text-anchor=\"middle\" x=\"146.5\" y=\"-42.8\" font-family=\"Times,serif\" font-size=\"14.00\">grad 0.0000</text>\n</g>\n<!-- 140649720440192&#45;&gt;140650259003088* -->\n<g id=\"edge8\" class=\"edge\">\n<title>140649720440192&#45;&gt;140650259003088*</title>\n<path fill=\"none\" stroke=\"black\" d=\"M187.65,-62.36C197.94,-64.14 207.91,-65.87 216.81,-67.41\"/>\n<polygon fill=\"black\" stroke=\"black\" points=\"216.26,-70.87 226.71,-69.12 217.45,-63.97 216.26,-70.87\"/>\n</g>\n</g>\n</svg>\n",
      "text/plain": [
       "<graphviz.graphs.Digraph at 0x7feb80bb7fa0>"
      ]
     },
     "execution_count": 31,
     "metadata": {},
     "output_type": "execute_result"
    }
   ],
   "source": [
    "f.grad = 4.0\n",
    "d.grad = -2.0\n",
    "draw_dot(L)"
   ]
  },
  {
   "cell_type": "markdown",
   "metadata": {},
   "source": [
    "Next we will continue the backpropagation manually for values c & e\n",
    "\n",
    "so we want to find out $\\frac{dl}{dc}$\n",
    "and also $\\frac{dl}{de}$\n",
    "\n",
    "#### First a problem....\n",
    "How do we derive $\\frac{dl}{dc}$ ? \n",
    "\n",
    "We know derivative $l$ with respect to $d$\n",
    "so we know how $l$ is sensitive to $d$\n",
    "but how is $l$ sensitive $c$\n",
    "\n",
    "i.e. if we change $c$, how does that affect $l$ through $d$\n",
    "\n",
    "So intuitively... if we know the impact\n",
    "$c$ is having on $d$, and $d$ is having\n",
    "on $l$, then we should be able to put\n",
    "those together to find out the impact\n",
    "that $c$ has on $l$.\n",
    "\n",
    "i.e. \n",
    "knowing \n",
    "$\\frac{dl}{dd}$ and\n",
    "$\\frac{dd}{dc}$\n",
    "then we should be able to work out\n",
    "$\\frac{dl}{dc}$"
   ]
  },
  {
   "cell_type": "markdown",
   "metadata": {},
   "source": [
    "#### The derivative of d with respect to c\n",
    "\n",
    "what is $\\frac{dd}{dc}$ ? when $d = c + e$\n",
    "\n",
    "From calculus we can quickly deduce that\n",
    "differentiating c + e with respect to c will give us 1.0\n",
    "\n",
    "##### Proof through deriving\n",
    "\n",
    "Again, the definition of a \n",
    "$\\frac{f(x + h)-f(x)}{h}$\n",
    "as a limit of h goes to 0\n",
    "\n",
    "Focusing on c and it's affect on d \n",
    "\n",
    "$\\frac{(c+h) + e - (c + e)}{h}$\n",
    "\n",
    "expanding out \n",
    "\n",
    "$\\frac{c + h + e - c - e}{h}$ the $c$'s and $e$'s cancel which leaves us with\n",
    "\n",
    "$\\frac{h}{h}$\n",
    "\n",
    "which is 1.0"
   ]
  },
  {
   "cell_type": "markdown",
   "metadata": {},
   "source": [
    "And so by symettry we can also work out that $\\frac{dd}{de}$ \n",
    "is also 1\n",
    "\n",
    "So basically the derivative of a sum expression is very simple...\n",
    "\n",
    "so<br><br>\n",
    "$\\frac{dd}{de}  = 1$<br><br>\n",
    "$\\frac{dd}{de} = 1$ \n",
    "\n",
    "This is the local derivative. We call this the local derivative because we are looking at one node. that node doesn't know anything about the rest of the graph that it is embedded in \n",
    "\n",
    "What we actually want is $\\frac{dl}{dc}$ so how do we take these two and put them together\n",
    "\n",
    "The way we achieve this is through using the **chain rule** in calculus\n",
    "\n",
    "### The chain rule\n",
    "$${\\displaystyle {\\frac {dz}{dx}}={\\frac {dz}{dy}}\\cdot {\\frac {dy}{dx}}}$$\n",
    "\n",
    "###### Useful intuitive explanation from [Wikipedia](https://en.wikipedia.org/wiki/Chain_rule)\n",
    "Intuitively, the chain rule states that knowing the instantaneous rate of change of z relative to y and that of y relative to x allows one to calculate the instantaneous rate of change of z relative to x as the product of the two rates of change.\n",
    "\n",
    "As put by George F. Simmons: \"if a car travels twice as fast as a bicycle and the bicycle is four times as fast as a walking man, then the car travels 2 × 4 = 8 times as fast as the man.\"[1]"
   ]
  },
  {
   "cell_type": "markdown",
   "metadata": {},
   "source": [
    "##### Using chain rule to get \n",
    "\n",
    "Knowning this we can now work out $\\frac{dl}{dc}$\n",
    "\n",
    "$${\\displaystyle {\\frac {dl}{dc}}={\\frac {dl}{dd}}\\cdot {\\frac {dd}{dc}}}$$\n",
    "\n",
    "And because $\\frac{dd}{dc}$ are just 1, we basically just copy over  $\\frac{dl}{dd}$\n",
    "\n",
    "So in essence, what a plus node does, is just route the gradient of the previous node (from the perspective of backpropagation)\n",
    "\n",
    "**So $c$ & $e$ gradients will just be the gradient of $d$**"
   ]
  },
  {
   "cell_type": "code",
   "execution_count": 32,
   "metadata": {},
   "outputs": [
    {
     "data": {
      "image/svg+xml": "<?xml version=\"1.0\" encoding=\"UTF-8\" standalone=\"no\"?>\n<!DOCTYPE svg PUBLIC \"-//W3C//DTD SVG 1.1//EN\"\n \"http://www.w3.org/Graphics/SVG/1.1/DTD/svg11.dtd\">\n<!-- Generated by graphviz version 2.50.0 (0)\n -->\n<!-- Pages: 1 -->\n<svg width=\"1153pt\" height=\"128pt\"\n viewBox=\"0.00 0.00 1153.00 128.00\" xmlns=\"http://www.w3.org/2000/svg\" xmlns:xlink=\"http://www.w3.org/1999/xlink\">\n<g id=\"graph0\" class=\"graph\" transform=\"scale(1 1) rotate(0) translate(4 124)\">\n<polygon fill=\"white\" stroke=\"transparent\" points=\"-4,4 -4,-124 1149,-124 1149,4 -4,4\"/>\n<!-- 140650259002416 -->\n<g id=\"node1\" class=\"node\">\n<title>140650259002416</title>\n<polygon fill=\"none\" stroke=\"black\" points=\"638.5,-82.5 638.5,-118.5 826.5,-118.5 826.5,-82.5 638.5,-82.5\"/>\n<text text-anchor=\"middle\" x=\"649\" y=\"-96.8\" font-family=\"Times,serif\" font-size=\"14.00\">f</text>\n<polyline fill=\"none\" stroke=\"black\" points=\"659.5,-82.5 659.5,-118.5 \"/>\n<text text-anchor=\"middle\" x=\"702\" y=\"-96.8\" font-family=\"Times,serif\" font-size=\"14.00\">data &#45;2.0000</text>\n<polyline fill=\"none\" stroke=\"black\" points=\"744.5,-82.5 744.5,-118.5 \"/>\n<text text-anchor=\"middle\" x=\"785.5\" y=\"-96.8\" font-family=\"Times,serif\" font-size=\"14.00\">grad 4.0000</text>\n</g>\n<!-- 140650259005248* -->\n<g id=\"node7\" class=\"node\">\n<title>140650259005248*</title>\n<ellipse fill=\"none\" stroke=\"black\" cx=\"890\" cy=\"-72.5\" rx=\"27\" ry=\"18\"/>\n<text text-anchor=\"middle\" x=\"890\" y=\"-68.8\" font-family=\"Times,serif\" font-size=\"14.00\">*</text>\n</g>\n<!-- 140650259002416&#45;&gt;140650259005248* -->\n<g id=\"edge4\" class=\"edge\">\n<title>140650259002416&#45;&gt;140650259005248*</title>\n<path fill=\"none\" stroke=\"black\" d=\"M826.65,-83.73C836.2,-82.01 845.43,-80.35 853.72,-78.85\"/>\n<polygon fill=\"black\" stroke=\"black\" points=\"854.47,-82.27 863.69,-77.06 853.23,-75.39 854.47,-82.27\"/>\n</g>\n<!-- 140649720440480 -->\n<g id=\"node2\" class=\"node\">\n<title>140649720440480</title>\n<polygon fill=\"none\" stroke=\"black\" points=\"0,-83.5 0,-119.5 190,-119.5 190,-83.5 0,-83.5\"/>\n<text text-anchor=\"middle\" x=\"11.5\" y=\"-97.8\" font-family=\"Times,serif\" font-size=\"14.00\">b</text>\n<polyline fill=\"none\" stroke=\"black\" points=\"23,-83.5 23,-119.5 \"/>\n<text text-anchor=\"middle\" x=\"65.5\" y=\"-97.8\" font-family=\"Times,serif\" font-size=\"14.00\">data &#45;3.0000</text>\n<polyline fill=\"none\" stroke=\"black\" points=\"108,-83.5 108,-119.5 \"/>\n<text text-anchor=\"middle\" x=\"149\" y=\"-97.8\" font-family=\"Times,serif\" font-size=\"14.00\">grad 0.0000</text>\n</g>\n<!-- 140650259003088* -->\n<g id=\"node4\" class=\"node\">\n<title>140650259003088*</title>\n<ellipse fill=\"none\" stroke=\"black\" cx=\"253\" cy=\"-73.5\" rx=\"27\" ry=\"18\"/>\n<text text-anchor=\"middle\" x=\"253\" y=\"-69.8\" font-family=\"Times,serif\" font-size=\"14.00\">*</text>\n</g>\n<!-- 140649720440480&#45;&gt;140650259003088* -->\n<g id=\"edge9\" class=\"edge\">\n<title>140649720440480&#45;&gt;140650259003088*</title>\n<path fill=\"none\" stroke=\"black\" d=\"M190.34,-84.57C199.62,-82.9 208.58,-81.29 216.66,-79.84\"/>\n<polygon fill=\"black\" stroke=\"black\" points=\"217.49,-83.25 226.72,-78.04 216.26,-76.36 217.49,-83.25\"/>\n</g>\n<!-- 140650259003088 -->\n<g id=\"node3\" class=\"node\">\n<title>140650259003088</title>\n<polygon fill=\"none\" stroke=\"black\" points=\"317,-55.5 317,-91.5 511,-91.5 511,-55.5 317,-55.5\"/>\n<text text-anchor=\"middle\" x=\"328.5\" y=\"-69.8\" font-family=\"Times,serif\" font-size=\"14.00\">e</text>\n<polyline fill=\"none\" stroke=\"black\" points=\"340,-55.5 340,-91.5 \"/>\n<text text-anchor=\"middle\" x=\"382.5\" y=\"-69.8\" font-family=\"Times,serif\" font-size=\"14.00\">data &#45;6.0000</text>\n<polyline fill=\"none\" stroke=\"black\" points=\"425,-55.5 425,-91.5 \"/>\n<text text-anchor=\"middle\" x=\"468\" y=\"-69.8\" font-family=\"Times,serif\" font-size=\"14.00\">grad &#45;2.0000</text>\n</g>\n<!-- 140650259002176+ -->\n<g id=\"node9\" class=\"node\">\n<title>140650259002176+</title>\n<ellipse fill=\"none\" stroke=\"black\" cx=\"575\" cy=\"-45.5\" rx=\"27\" ry=\"18\"/>\n<text text-anchor=\"middle\" x=\"575\" y=\"-41.8\" font-family=\"Times,serif\" font-size=\"14.00\">+</text>\n</g>\n<!-- 140650259003088&#45;&gt;140650259002176+ -->\n<g id=\"edge6\" class=\"edge\">\n<title>140650259003088&#45;&gt;140650259002176+</title>\n<path fill=\"none\" stroke=\"black\" d=\"M511.16,-56.57C520.82,-54.87 530.13,-53.23 538.49,-51.75\"/>\n<polygon fill=\"black\" stroke=\"black\" points=\"539.3,-55.17 548.54,-49.98 538.08,-48.27 539.3,-55.17\"/>\n</g>\n<!-- 140650259003088*&#45;&gt;140650259003088 -->\n<g id=\"edge1\" class=\"edge\">\n<title>140650259003088*&#45;&gt;140650259003088</title>\n<path fill=\"none\" stroke=\"black\" d=\"M280.26,-73.5C288.05,-73.5 297.1,-73.5 306.75,-73.5\"/>\n<polygon fill=\"black\" stroke=\"black\" points=\"306.99,-77 316.99,-73.5 306.99,-70 306.99,-77\"/>\n</g>\n<!-- 140649720442112 -->\n<g id=\"node5\" class=\"node\">\n<title>140649720442112</title>\n<polygon fill=\"none\" stroke=\"black\" points=\"316,-0.5 316,-36.5 512,-36.5 512,-0.5 316,-0.5\"/>\n<text text-anchor=\"middle\" x=\"327.5\" y=\"-14.8\" font-family=\"Times,serif\" font-size=\"14.00\">c</text>\n<polyline fill=\"none\" stroke=\"black\" points=\"339,-0.5 339,-36.5 \"/>\n<text text-anchor=\"middle\" x=\"382.5\" y=\"-14.8\" font-family=\"Times,serif\" font-size=\"14.00\">data 10.0000</text>\n<polyline fill=\"none\" stroke=\"black\" points=\"426,-0.5 426,-36.5 \"/>\n<text text-anchor=\"middle\" x=\"469\" y=\"-14.8\" font-family=\"Times,serif\" font-size=\"14.00\">grad &#45;2.0000</text>\n</g>\n<!-- 140649720442112&#45;&gt;140650259002176+ -->\n<g id=\"edge5\" class=\"edge\">\n<title>140649720442112&#45;&gt;140650259002176+</title>\n<path fill=\"none\" stroke=\"black\" d=\"M512.07,-34.98C521.42,-36.57 530.43,-38.1 538.55,-39.48\"/>\n<polygon fill=\"black\" stroke=\"black\" points=\"538.21,-42.97 548.65,-41.2 539.38,-36.07 538.21,-42.97\"/>\n</g>\n<!-- 140650259005248 -->\n<g id=\"node6\" class=\"node\">\n<title>140650259005248</title>\n<polygon fill=\"none\" stroke=\"black\" points=\"953,-54.5 953,-90.5 1145,-90.5 1145,-54.5 953,-54.5\"/>\n<text text-anchor=\"middle\" x=\"965.5\" y=\"-68.8\" font-family=\"Times,serif\" font-size=\"14.00\">L</text>\n<polyline fill=\"none\" stroke=\"black\" points=\"978,-54.5 978,-90.5 \"/>\n<text text-anchor=\"middle\" x=\"1020.5\" y=\"-68.8\" font-family=\"Times,serif\" font-size=\"14.00\">data &#45;8.0000</text>\n<polyline fill=\"none\" stroke=\"black\" points=\"1063,-54.5 1063,-90.5 \"/>\n<text text-anchor=\"middle\" x=\"1104\" y=\"-68.8\" font-family=\"Times,serif\" font-size=\"14.00\">grad 1.0000</text>\n</g>\n<!-- 140650259005248*&#45;&gt;140650259005248 -->\n<g id=\"edge2\" class=\"edge\">\n<title>140650259005248*&#45;&gt;140650259005248</title>\n<path fill=\"none\" stroke=\"black\" d=\"M917.28,-72.5C924.78,-72.5 933.44,-72.5 942.67,-72.5\"/>\n<polygon fill=\"black\" stroke=\"black\" points=\"942.87,-76 952.87,-72.5 942.87,-69 942.87,-76\"/>\n</g>\n<!-- 140650259002176 -->\n<g id=\"node8\" class=\"node\">\n<title>140650259002176</title>\n<polygon fill=\"none\" stroke=\"black\" points=\"638,-27.5 638,-63.5 827,-63.5 827,-27.5 638,-27.5\"/>\n<text text-anchor=\"middle\" x=\"649.5\" y=\"-41.8\" font-family=\"Times,serif\" font-size=\"14.00\">d</text>\n<polyline fill=\"none\" stroke=\"black\" points=\"661,-27.5 661,-63.5 \"/>\n<text text-anchor=\"middle\" x=\"701\" y=\"-41.8\" font-family=\"Times,serif\" font-size=\"14.00\">data 4.0000</text>\n<polyline fill=\"none\" stroke=\"black\" points=\"741,-27.5 741,-63.5 \"/>\n<text text-anchor=\"middle\" x=\"784\" y=\"-41.8\" font-family=\"Times,serif\" font-size=\"14.00\">grad &#45;2.0000</text>\n</g>\n<!-- 140650259002176&#45;&gt;140650259005248* -->\n<g id=\"edge7\" class=\"edge\">\n<title>140650259002176&#45;&gt;140650259005248*</title>\n<path fill=\"none\" stroke=\"black\" d=\"M827.1,-61.75C836.4,-63.37 845.38,-64.93 853.49,-66.33\"/>\n<polygon fill=\"black\" stroke=\"black\" points=\"853.14,-69.83 863.59,-68.09 854.34,-62.93 853.14,-69.83\"/>\n</g>\n<!-- 140650259002176+&#45;&gt;140650259002176 -->\n<g id=\"edge3\" class=\"edge\">\n<title>140650259002176+&#45;&gt;140650259002176</title>\n<path fill=\"none\" stroke=\"black\" d=\"M602.03,-45.5C609.66,-45.5 618.52,-45.5 627.94,-45.5\"/>\n<polygon fill=\"black\" stroke=\"black\" points=\"627.94,-49 637.94,-45.5 627.94,-42 627.94,-49\"/>\n</g>\n<!-- 140649720440192 -->\n<g id=\"node10\" class=\"node\">\n<title>140649720440192</title>\n<polygon fill=\"none\" stroke=\"black\" points=\"2.5,-28.5 2.5,-64.5 187.5,-64.5 187.5,-28.5 2.5,-28.5\"/>\n<text text-anchor=\"middle\" x=\"14\" y=\"-42.8\" font-family=\"Times,serif\" font-size=\"14.00\">a</text>\n<polyline fill=\"none\" stroke=\"black\" points=\"25.5,-28.5 25.5,-64.5 \"/>\n<text text-anchor=\"middle\" x=\"65.5\" y=\"-42.8\" font-family=\"Times,serif\" font-size=\"14.00\">data 2.0000</text>\n<polyline fill=\"none\" stroke=\"black\" points=\"105.5,-28.5 105.5,-64.5 \"/>\n<text text-anchor=\"middle\" x=\"146.5\" y=\"-42.8\" font-family=\"Times,serif\" font-size=\"14.00\">grad 0.0000</text>\n</g>\n<!-- 140649720440192&#45;&gt;140650259003088* -->\n<g id=\"edge8\" class=\"edge\">\n<title>140649720440192&#45;&gt;140650259003088*</title>\n<path fill=\"none\" stroke=\"black\" d=\"M187.65,-62.36C197.94,-64.14 207.91,-65.87 216.81,-67.41\"/>\n<polygon fill=\"black\" stroke=\"black\" points=\"216.26,-70.87 226.71,-69.12 217.45,-63.97 216.26,-70.87\"/>\n</g>\n</g>\n</svg>\n",
      "text/plain": [
       "<graphviz.graphs.Digraph at 0x7feb80bb7790>"
      ]
     },
     "execution_count": 32,
     "metadata": {},
     "output_type": "execute_result"
    }
   ],
   "source": [
    "# so\n",
    "c.grad = -2.0\n",
    "# and by symmetry e will also be -2\n",
    "e.grad = -2.0\n",
    "draw_dot(L)"
   ]
  },
  {
   "cell_type": "code",
   "execution_count": 33,
   "metadata": {},
   "outputs": [
    {
     "name": "stdout",
     "output_type": "stream",
     "text": [
      "-1.9999999999988916\n"
     ]
    }
   ],
   "source": [
    "# We will attempt to verify the claim that d routes to c & e\n",
    "def estimate_gradient_of_c():\n",
    "    h = 0.001\n",
    "\n",
    "    a = Value(2.0, label='a')\n",
    "    b = Value(-3.0, label='b')\n",
    "    c = Value(10.0, label='c')\n",
    "    e = a*b\n",
    "    e.label = 'e'\n",
    "    d = e + c\n",
    "    d.label = 'd'\n",
    "    f = Value(-2.0, label='f')\n",
    "    L = d*f\n",
    "    L.label = \"L\"\n",
    "    L1 = L.data\n",
    "\n",
    "    a = Value(2.0, label='a')\n",
    "    b = Value(-3.0, label='b')\n",
    "    c = Value(10.0, label='c')\n",
    "    # Increment c by h to estimate value\n",
    "    c.data += h\n",
    "    e = a*b\n",
    "    e.label = 'e'\n",
    "    d = e + c\n",
    "    d.label = 'd'\n",
    "    f = Value(-2.0, label='f')\n",
    "    L = d*f\n",
    "    L.label = \"L\"\n",
    "    L2 = L.data\n",
    "\n",
    "    print((L2 - L1) / h)\n",
    "\n",
    "\n",
    "estimate_gradient_of_c()\n"
   ]
  },
  {
   "cell_type": "markdown",
   "metadata": {},
   "source": [
    "Here we can see that when we estimate this it prints out -2 as expected"
   ]
  },
  {
   "cell_type": "markdown",
   "metadata": {},
   "source": [
    "Now we are going to recurse our way backwards, again applying the chain rule\n",
    "\n",
    "We will continue this by applying it back across the whole graph... thus completing the backpropagation"
   ]
  },
  {
   "cell_type": "markdown",
   "metadata": {},
   "source": [
    "#### The derivative of $L$ with respect to $a$\n",
    "\n",
    "what is $\\frac{de}{da}$ ? when $e = a \\times b$\n",
    "\n",
    "we know \n",
    "\n",
    "$${\\displaystyle {\\frac {dL}{da}}={\\frac {dL}{de}}\\cdot {\\frac {de}{da}}}$$\n",
    "\n",
    "Since we already derived a multiplaction earlier we won't re-derive this but we can say that if we want to differentiate \n",
    "$e = a \\times b$ with respect to $a$ then the value is $b$\n",
    "\n",
    "$$\\frac{de}{da} = b$$\n",
    "\n",
    "We also know that $\\frac{dL}{de}$ (the gradient of node $e$) is \n",
    "$$\\frac{dL}{de} = -2.0$$\n",
    "from the previous step\n",
    "\n",
    "So \n",
    "$${\\displaystyle {\\frac {dL}{da}}= -2 \\cdot b}$$\n",
    "\n",
    "So if $b = -3$, then\n",
    "\n",
    "$${\\displaystyle {\\frac {dL}{da}}= -2 \\times -3}$$\n",
    "\n",
    "which means\n",
    "\n",
    "$${\\displaystyle {\\frac {dL}{da}}= 6 }$$\n",
    "\n"
   ]
  },
  {
   "cell_type": "code",
   "execution_count": 34,
   "metadata": {},
   "outputs": [
    {
     "data": {
      "image/svg+xml": "<?xml version=\"1.0\" encoding=\"UTF-8\" standalone=\"no\"?>\n<!DOCTYPE svg PUBLIC \"-//W3C//DTD SVG 1.1//EN\"\n \"http://www.w3.org/Graphics/SVG/1.1/DTD/svg11.dtd\">\n<!-- Generated by graphviz version 2.50.0 (0)\n -->\n<!-- Pages: 1 -->\n<svg width=\"1157pt\" height=\"128pt\"\n viewBox=\"0.00 0.00 1157.00 128.00\" xmlns=\"http://www.w3.org/2000/svg\" xmlns:xlink=\"http://www.w3.org/1999/xlink\">\n<g id=\"graph0\" class=\"graph\" transform=\"scale(1 1) rotate(0) translate(4 124)\">\n<polygon fill=\"white\" stroke=\"transparent\" points=\"-4,4 -4,-124 1153,-124 1153,4 -4,4\"/>\n<!-- 140650259002416 -->\n<g id=\"node1\" class=\"node\">\n<title>140650259002416</title>\n<polygon fill=\"none\" stroke=\"black\" points=\"642.5,-82.5 642.5,-118.5 830.5,-118.5 830.5,-82.5 642.5,-82.5\"/>\n<text text-anchor=\"middle\" x=\"653\" y=\"-96.8\" font-family=\"Times,serif\" font-size=\"14.00\">f</text>\n<polyline fill=\"none\" stroke=\"black\" points=\"663.5,-82.5 663.5,-118.5 \"/>\n<text text-anchor=\"middle\" x=\"706\" y=\"-96.8\" font-family=\"Times,serif\" font-size=\"14.00\">data &#45;2.0000</text>\n<polyline fill=\"none\" stroke=\"black\" points=\"748.5,-82.5 748.5,-118.5 \"/>\n<text text-anchor=\"middle\" x=\"789.5\" y=\"-96.8\" font-family=\"Times,serif\" font-size=\"14.00\">grad 4.0000</text>\n</g>\n<!-- 140650259005248* -->\n<g id=\"node7\" class=\"node\">\n<title>140650259005248*</title>\n<ellipse fill=\"none\" stroke=\"black\" cx=\"894\" cy=\"-72.5\" rx=\"27\" ry=\"18\"/>\n<text text-anchor=\"middle\" x=\"894\" y=\"-68.8\" font-family=\"Times,serif\" font-size=\"14.00\">*</text>\n</g>\n<!-- 140650259002416&#45;&gt;140650259005248* -->\n<g id=\"edge4\" class=\"edge\">\n<title>140650259002416&#45;&gt;140650259005248*</title>\n<path fill=\"none\" stroke=\"black\" d=\"M830.65,-83.73C840.2,-82.01 849.43,-80.35 857.72,-78.85\"/>\n<polygon fill=\"black\" stroke=\"black\" points=\"858.47,-82.27 867.69,-77.06 857.23,-75.39 858.47,-82.27\"/>\n</g>\n<!-- 140649720440480 -->\n<g id=\"node2\" class=\"node\">\n<title>140649720440480</title>\n<polygon fill=\"none\" stroke=\"black\" points=\"0,-83.5 0,-119.5 194,-119.5 194,-83.5 0,-83.5\"/>\n<text text-anchor=\"middle\" x=\"11.5\" y=\"-97.8\" font-family=\"Times,serif\" font-size=\"14.00\">b</text>\n<polyline fill=\"none\" stroke=\"black\" points=\"23,-83.5 23,-119.5 \"/>\n<text text-anchor=\"middle\" x=\"65.5\" y=\"-97.8\" font-family=\"Times,serif\" font-size=\"14.00\">data &#45;3.0000</text>\n<polyline fill=\"none\" stroke=\"black\" points=\"108,-83.5 108,-119.5 \"/>\n<text text-anchor=\"middle\" x=\"151\" y=\"-97.8\" font-family=\"Times,serif\" font-size=\"14.00\">grad &#45;4.0000</text>\n</g>\n<!-- 140650259003088* -->\n<g id=\"node4\" class=\"node\">\n<title>140650259003088*</title>\n<ellipse fill=\"none\" stroke=\"black\" cx=\"257\" cy=\"-73.5\" rx=\"27\" ry=\"18\"/>\n<text text-anchor=\"middle\" x=\"257\" y=\"-69.8\" font-family=\"Times,serif\" font-size=\"14.00\">*</text>\n</g>\n<!-- 140649720440480&#45;&gt;140650259003088* -->\n<g id=\"edge9\" class=\"edge\">\n<title>140649720440480&#45;&gt;140650259003088*</title>\n<path fill=\"none\" stroke=\"black\" d=\"M194.01,-84.49C203.35,-82.83 212.37,-81.23 220.49,-79.79\"/>\n<polygon fill=\"black\" stroke=\"black\" points=\"221.37,-83.19 230.6,-78 220.15,-76.3 221.37,-83.19\"/>\n</g>\n<!-- 140650259003088 -->\n<g id=\"node3\" class=\"node\">\n<title>140650259003088</title>\n<polygon fill=\"none\" stroke=\"black\" points=\"321,-55.5 321,-91.5 515,-91.5 515,-55.5 321,-55.5\"/>\n<text text-anchor=\"middle\" x=\"332.5\" y=\"-69.8\" font-family=\"Times,serif\" font-size=\"14.00\">e</text>\n<polyline fill=\"none\" stroke=\"black\" points=\"344,-55.5 344,-91.5 \"/>\n<text text-anchor=\"middle\" x=\"386.5\" y=\"-69.8\" font-family=\"Times,serif\" font-size=\"14.00\">data &#45;6.0000</text>\n<polyline fill=\"none\" stroke=\"black\" points=\"429,-55.5 429,-91.5 \"/>\n<text text-anchor=\"middle\" x=\"472\" y=\"-69.8\" font-family=\"Times,serif\" font-size=\"14.00\">grad &#45;2.0000</text>\n</g>\n<!-- 140650259002176+ -->\n<g id=\"node9\" class=\"node\">\n<title>140650259002176+</title>\n<ellipse fill=\"none\" stroke=\"black\" cx=\"579\" cy=\"-45.5\" rx=\"27\" ry=\"18\"/>\n<text text-anchor=\"middle\" x=\"579\" y=\"-41.8\" font-family=\"Times,serif\" font-size=\"14.00\">+</text>\n</g>\n<!-- 140650259003088&#45;&gt;140650259002176+ -->\n<g id=\"edge6\" class=\"edge\">\n<title>140650259003088&#45;&gt;140650259002176+</title>\n<path fill=\"none\" stroke=\"black\" d=\"M515.16,-56.57C524.82,-54.87 534.13,-53.23 542.49,-51.75\"/>\n<polygon fill=\"black\" stroke=\"black\" points=\"543.3,-55.17 552.54,-49.98 542.08,-48.27 543.3,-55.17\"/>\n</g>\n<!-- 140650259003088*&#45;&gt;140650259003088 -->\n<g id=\"edge1\" class=\"edge\">\n<title>140650259003088*&#45;&gt;140650259003088</title>\n<path fill=\"none\" stroke=\"black\" d=\"M284.26,-73.5C292.05,-73.5 301.1,-73.5 310.75,-73.5\"/>\n<polygon fill=\"black\" stroke=\"black\" points=\"310.99,-77 320.99,-73.5 310.99,-70 310.99,-77\"/>\n</g>\n<!-- 140649720442112 -->\n<g id=\"node5\" class=\"node\">\n<title>140649720442112</title>\n<polygon fill=\"none\" stroke=\"black\" points=\"320,-0.5 320,-36.5 516,-36.5 516,-0.5 320,-0.5\"/>\n<text text-anchor=\"middle\" x=\"331.5\" y=\"-14.8\" font-family=\"Times,serif\" font-size=\"14.00\">c</text>\n<polyline fill=\"none\" stroke=\"black\" points=\"343,-0.5 343,-36.5 \"/>\n<text text-anchor=\"middle\" x=\"386.5\" y=\"-14.8\" font-family=\"Times,serif\" font-size=\"14.00\">data 10.0000</text>\n<polyline fill=\"none\" stroke=\"black\" points=\"430,-0.5 430,-36.5 \"/>\n<text text-anchor=\"middle\" x=\"473\" y=\"-14.8\" font-family=\"Times,serif\" font-size=\"14.00\">grad &#45;2.0000</text>\n</g>\n<!-- 140649720442112&#45;&gt;140650259002176+ -->\n<g id=\"edge5\" class=\"edge\">\n<title>140649720442112&#45;&gt;140650259002176+</title>\n<path fill=\"none\" stroke=\"black\" d=\"M516.07,-34.98C525.42,-36.57 534.43,-38.1 542.55,-39.48\"/>\n<polygon fill=\"black\" stroke=\"black\" points=\"542.21,-42.97 552.65,-41.2 543.38,-36.07 542.21,-42.97\"/>\n</g>\n<!-- 140650259005248 -->\n<g id=\"node6\" class=\"node\">\n<title>140650259005248</title>\n<polygon fill=\"none\" stroke=\"black\" points=\"957,-54.5 957,-90.5 1149,-90.5 1149,-54.5 957,-54.5\"/>\n<text text-anchor=\"middle\" x=\"969.5\" y=\"-68.8\" font-family=\"Times,serif\" font-size=\"14.00\">L</text>\n<polyline fill=\"none\" stroke=\"black\" points=\"982,-54.5 982,-90.5 \"/>\n<text text-anchor=\"middle\" x=\"1024.5\" y=\"-68.8\" font-family=\"Times,serif\" font-size=\"14.00\">data &#45;8.0000</text>\n<polyline fill=\"none\" stroke=\"black\" points=\"1067,-54.5 1067,-90.5 \"/>\n<text text-anchor=\"middle\" x=\"1108\" y=\"-68.8\" font-family=\"Times,serif\" font-size=\"14.00\">grad 1.0000</text>\n</g>\n<!-- 140650259005248*&#45;&gt;140650259005248 -->\n<g id=\"edge2\" class=\"edge\">\n<title>140650259005248*&#45;&gt;140650259005248</title>\n<path fill=\"none\" stroke=\"black\" d=\"M921.28,-72.5C928.78,-72.5 937.44,-72.5 946.67,-72.5\"/>\n<polygon fill=\"black\" stroke=\"black\" points=\"946.87,-76 956.87,-72.5 946.87,-69 946.87,-76\"/>\n</g>\n<!-- 140650259002176 -->\n<g id=\"node8\" class=\"node\">\n<title>140650259002176</title>\n<polygon fill=\"none\" stroke=\"black\" points=\"642,-27.5 642,-63.5 831,-63.5 831,-27.5 642,-27.5\"/>\n<text text-anchor=\"middle\" x=\"653.5\" y=\"-41.8\" font-family=\"Times,serif\" font-size=\"14.00\">d</text>\n<polyline fill=\"none\" stroke=\"black\" points=\"665,-27.5 665,-63.5 \"/>\n<text text-anchor=\"middle\" x=\"705\" y=\"-41.8\" font-family=\"Times,serif\" font-size=\"14.00\">data 4.0000</text>\n<polyline fill=\"none\" stroke=\"black\" points=\"745,-27.5 745,-63.5 \"/>\n<text text-anchor=\"middle\" x=\"788\" y=\"-41.8\" font-family=\"Times,serif\" font-size=\"14.00\">grad &#45;2.0000</text>\n</g>\n<!-- 140650259002176&#45;&gt;140650259005248* -->\n<g id=\"edge7\" class=\"edge\">\n<title>140650259002176&#45;&gt;140650259005248*</title>\n<path fill=\"none\" stroke=\"black\" d=\"M831.1,-61.75C840.4,-63.37 849.38,-64.93 857.49,-66.33\"/>\n<polygon fill=\"black\" stroke=\"black\" points=\"857.14,-69.83 867.59,-68.09 858.34,-62.93 857.14,-69.83\"/>\n</g>\n<!-- 140650259002176+&#45;&gt;140650259002176 -->\n<g id=\"edge3\" class=\"edge\">\n<title>140650259002176+&#45;&gt;140650259002176</title>\n<path fill=\"none\" stroke=\"black\" d=\"M606.03,-45.5C613.66,-45.5 622.52,-45.5 631.94,-45.5\"/>\n<polygon fill=\"black\" stroke=\"black\" points=\"631.94,-49 641.94,-45.5 631.94,-42 631.94,-49\"/>\n</g>\n<!-- 140649720440192 -->\n<g id=\"node10\" class=\"node\">\n<title>140649720440192</title>\n<polygon fill=\"none\" stroke=\"black\" points=\"4.5,-28.5 4.5,-64.5 189.5,-64.5 189.5,-28.5 4.5,-28.5\"/>\n<text text-anchor=\"middle\" x=\"16\" y=\"-42.8\" font-family=\"Times,serif\" font-size=\"14.00\">a</text>\n<polyline fill=\"none\" stroke=\"black\" points=\"27.5,-28.5 27.5,-64.5 \"/>\n<text text-anchor=\"middle\" x=\"67.5\" y=\"-42.8\" font-family=\"Times,serif\" font-size=\"14.00\">data 2.0000</text>\n<polyline fill=\"none\" stroke=\"black\" points=\"107.5,-28.5 107.5,-64.5 \"/>\n<text text-anchor=\"middle\" x=\"148.5\" y=\"-42.8\" font-family=\"Times,serif\" font-size=\"14.00\">grad 6.0000</text>\n</g>\n<!-- 140649720440192&#45;&gt;140650259003088* -->\n<g id=\"edge8\" class=\"edge\">\n<title>140649720440192&#45;&gt;140650259003088*</title>\n<path fill=\"none\" stroke=\"black\" d=\"M189.91,-62.21C200.76,-64.06 211.28,-65.86 220.61,-67.45\"/>\n<polygon fill=\"black\" stroke=\"black\" points=\"220.16,-70.93 230.6,-69.16 221.34,-64.03 220.16,-70.93\"/>\n</g>\n</g>\n</svg>\n",
      "text/plain": [
       "<graphviz.graphs.Digraph at 0x7febe0c17130>"
      ]
     },
     "execution_count": 34,
     "metadata": {},
     "output_type": "execute_result"
    }
   ],
   "source": [
    "a.grad = -2.0 * -3.0\n",
    "# we can do the same as explained above \n",
    "# for b - we just take the value of a instead \n",
    "# of the value of b as it will be symetrical\n",
    "b.grad = -2.0 * 2.0\n",
    "draw_dot(L)"
   ]
  },
  {
   "cell_type": "markdown",
   "metadata": {},
   "source": [
    "one last time we will estimate this value numerically\n"
   ]
  },
  {
   "cell_type": "code",
   "execution_count": 35,
   "metadata": {},
   "outputs": [
    {
     "name": "stdout",
     "output_type": "stream",
     "text": [
      "6.000000000000227\n",
      "-3.9999999999995595\n"
     ]
    }
   ],
   "source": [
    "# We will attempt to verify the claim that d routes to c & e\n",
    "def estimate_gradient_of_a():\n",
    "    h = 0.001\n",
    "\n",
    "    a = Value(2.0, label='a')\n",
    "    b = Value(-3.0, label='b')\n",
    "    c = Value(10.0, label='c')\n",
    "    e = a*b\n",
    "    e.label = 'e'\n",
    "    d = e + c\n",
    "    d.label = 'd'\n",
    "    f = Value(-2.0, label='f')\n",
    "    L = d*f\n",
    "    L.label = \"L\"\n",
    "    L1 = L.data\n",
    "\n",
    "    a = Value(2.0, label='a')\n",
    "    a.data += h\n",
    "    b = Value(-3.0, label='b')\n",
    "    c = Value(10.0, label='c')\n",
    "    e = a*b\n",
    "    e.label = 'e'\n",
    "    d = e + c\n",
    "    d.label = 'd'\n",
    "    f = Value(-2.0, label='f')\n",
    "    L = d*f\n",
    "    L.label = \"L\"\n",
    "    L2 = L.data\n",
    "\n",
    "    print((L2 - L1) / h)\n",
    "\n",
    "\n",
    "def estimate_gradient_of_b():\n",
    "    h = 0.001\n",
    "\n",
    "    a = Value(2.0, label='a')\n",
    "    b = Value(-3.0, label='b')\n",
    "    c = Value(10.0, label='c')\n",
    "    e = a*b\n",
    "    e.label = 'e'\n",
    "    d = e + c\n",
    "    d.label = 'd'\n",
    "    f = Value(-2.0, label='f')\n",
    "    L = d*f\n",
    "    L.label = \"L\"\n",
    "    L1 = L.data\n",
    "\n",
    "    a = Value(2.0, label='a')\n",
    "    b = Value(-3.0, label='b')\n",
    "    b.data += h\n",
    "    c = Value(10.0, label='c')\n",
    "    e = a*b\n",
    "    e.label = 'e'\n",
    "    d = e + c\n",
    "    d.label = 'd'\n",
    "    f = Value(-2.0, label='f')\n",
    "    L = d*f\n",
    "    L.label = \"L\"\n",
    "    L2 = L.data\n",
    "\n",
    "    print((L2 - L1) / h)\n",
    "\n",
    "\n",
    "estimate_gradient_of_a()\n",
    "estimate_gradient_of_b()\n"
   ]
  },
  {
   "cell_type": "markdown",
   "metadata": {},
   "source": [
    "Now we have completed the manual backpropagation, from L to all the leaf nodes\n",
    "\n",
    "All we did was iterate through each of the nodes, and locally applied the chain rule\n",
    "\n",
    "So we now understand that \n",
    "\n",
    "**Backpropagation is a recursive application of chain rule, backwards through the computation graph**"
   ]
  },
  {
   "cell_type": "markdown",
   "metadata": {},
   "source": [
    "## Backpropagation useful example\n",
    "\n",
    "Below we have a simple mathematical model of a neuron\n",
    "\n",
    "Synapses have weights on them\n",
    "\n",
    "The $w$'s are *weights*\n",
    "\n",
    "The synapse interacts with the input to this neuron multiplicatively\n",
    "\n",
    "There are multiple inputs so there are many $w \\times x$'s flowing into the cell body (hence the sub notation)\n",
    "\n",
    "What flows to the cell body of the neuron is $w_0x_0$\n",
    "\n",
    "The cell body then has a *bias*, this is how 'trigger happy' it is\n",
    "\n",
    "Basically we are taking all the $w \\times x$'s, adding the\n",
    "bias, and then putting it through an *activation function*,\n",
    "which is usually some kind of squashing function, such as\n",
    "`sigmoid` or `tanh` function\n",
    "\n",
    "Finally, what comes out of the nueron, is the activation function applied to the dot product of the weights and the inputs"
   ]
  },
  {
   "cell_type": "markdown",
   "metadata": {},
   "source": [
    "![cs231n neuron](https://cs231n.github.io/assets/nn1/neuron_model.jpeg \"How we model a neuron mathematically\")"
   ]
  },
  {
   "cell_type": "markdown",
   "metadata": {},
   "source": [
    "### An example of an activation function\n",
    "\n",
    "Numpy has `np.tanh()` which we can plot"
   ]
  },
  {
   "cell_type": "code",
   "execution_count": 36,
   "metadata": {},
   "outputs": [
    {
     "data": {
      "image/png": "[encoded data removed]",
      "text/plain": [
       "<Figure size 640x480 with 1 Axes>"
      ]
     },
     "metadata": {},
     "output_type": "display_data"
    }
   ],
   "source": [
    "plt.plot(np.arange(-5,5,0.2), np.tanh(np.arange(-5,5,0.2))); \n",
    "plt.grid();"
   ]
  },
  {
   "cell_type": "markdown",
   "metadata": {},
   "source": [
    "As you go more postive in your input the function will only go\n",
    "up to 1, this is the squashing effect\n",
    "\n",
    "Large values, and small values can be squashed into something that has a specific range that aims to maintain the value relative to the new range\n",
    "\n",
    "Said otherwise, if you pass in very positive inputs you will cap it smoothly, to 1. We also do the same on the negative side for very large numbers to cap it smoothly to -1"
   ]
  },
  {
   "cell_type": "markdown",
   "metadata": {},
   "source": [
    "Lets write one out as an example"
   ]
  },
  {
   "cell_type": "code",
   "execution_count": 37,
   "metadata": {},
   "outputs": [],
   "source": [
    "# inputs x1, x2\n",
    "x1 = Value(2.0, label='x1')\n",
    "x2 = Value(0.0, label='x2')\n",
    "\n",
    "# weights w1, w2\n",
    "w1 = Value(-3.0, label='w1')\n",
    "w2 = Value(1.0, label='w2')\n",
    "\n",
    "# bias of the nueron\n",
    "b = Value(6.7, label='b')\n",
    "\n",
    "# now according to the model above\n",
    "# we need to multiply, x1 with w1\n",
    "# and x2 with w2\n",
    "x1w1 = x1*w1\n",
    "x1w1.label = 'x1*w1'\n",
    "x2w2 = x2*w2\n",
    "x2w2.label = 'x2*w2'\n",
    "\n",
    "# we do this in small steps so we\n",
    "# can maintain pointers to each\n",
    "# in this example\n",
    "x1w1x2w2 = x1w1 + x2w2\n",
    "x1w1x2w2.label = 'x1*w1 + x2*w2'\n",
    "\n",
    "# Finally we need to add the bias\n",
    "# on top of that\n",
    "n = x1w1x2w2 + b\n",
    "n.label = 'n'\n"
   ]
  },
  {
   "cell_type": "markdown",
   "metadata": {},
   "source": [
    "At this point, n now represents\n",
    "the cell body, without the activation function\n",
    "\n",
    "Lets plot the graph\n"
   ]
  },
  {
   "cell_type": "code",
   "execution_count": 54,
   "metadata": {},
   "outputs": [
    {
     "data": {
      "image/svg+xml": "<?xml version=\"1.0\" encoding=\"UTF-8\" standalone=\"no\"?>\n<!DOCTYPE svg PUBLIC \"-//W3C//DTD SVG 1.1//EN\"\n \"http://www.w3.org/Graphics/SVG/1.1/DTD/svg11.dtd\">\n<!-- Generated by graphviz version 2.50.0 (0)\n -->\n<!-- Pages: 1 -->\n<svg width=\"1268pt\" height=\"210pt\"\n viewBox=\"0.00 0.00 1268.00 210.00\" xmlns=\"http://www.w3.org/2000/svg\" xmlns:xlink=\"http://www.w3.org/1999/xlink\">\n<g id=\"graph0\" class=\"graph\" transform=\"scale(1 1) rotate(0) translate(4 206)\">\n<polygon fill=\"white\" stroke=\"transparent\" points=\"-4,4 -4,-206 1264,-206 1264,4 -4,4\"/>\n<!-- 140649454192672 -->\n<g id=\"node1\" class=\"node\">\n<title>140649454192672</title>\n<polygon fill=\"none\" stroke=\"black\" points=\"4.5,-165.5 4.5,-201.5 199.5,-201.5 199.5,-165.5 4.5,-165.5\"/>\n<text text-anchor=\"middle\" x=\"21\" y=\"-179.8\" font-family=\"Times,serif\" font-size=\"14.00\">w2</text>\n<polyline fill=\"none\" stroke=\"black\" points=\"37.5,-165.5 37.5,-201.5 \"/>\n<text text-anchor=\"middle\" x=\"77.5\" y=\"-179.8\" font-family=\"Times,serif\" font-size=\"14.00\">data 1.0000</text>\n<polyline fill=\"none\" stroke=\"black\" points=\"117.5,-165.5 117.5,-201.5 \"/>\n<text text-anchor=\"middle\" x=\"158.5\" y=\"-179.8\" font-family=\"Times,serif\" font-size=\"14.00\">grad 0.2500</text>\n</g>\n<!-- 140649454124480* -->\n<g id=\"node13\" class=\"node\">\n<title>140649454124480*</title>\n<ellipse fill=\"none\" stroke=\"black\" cx=\"267\" cy=\"-128.5\" rx=\"27\" ry=\"18\"/>\n<text text-anchor=\"middle\" x=\"267\" y=\"-124.8\" font-family=\"Times,serif\" font-size=\"14.00\">*</text>\n</g>\n<!-- 140649454192672&#45;&gt;140649454124480* -->\n<g id=\"edge11\" class=\"edge\">\n<title>140649454192672&#45;&gt;140649454124480*</title>\n<path fill=\"none\" stroke=\"black\" d=\"M176.26,-165.43C185.67,-162.67 195.11,-159.67 204,-156.5 214.54,-152.74 225.77,-147.93 235.73,-143.36\"/>\n<polygon fill=\"black\" stroke=\"black\" points=\"237.26,-146.51 244.83,-139.09 234.29,-140.17 237.26,-146.51\"/>\n</g>\n<!-- 140649454192768 -->\n<g id=\"node2\" class=\"node\">\n<title>140649454192768</title>\n<polygon fill=\"none\" stroke=\"black\" points=\"4,-55.5 4,-91.5 200,-91.5 200,-55.5 4,-55.5\"/>\n<text text-anchor=\"middle\" x=\"19\" y=\"-69.8\" font-family=\"Times,serif\" font-size=\"14.00\">x1</text>\n<polyline fill=\"none\" stroke=\"black\" points=\"34,-55.5 34,-91.5 \"/>\n<text text-anchor=\"middle\" x=\"74\" y=\"-69.8\" font-family=\"Times,serif\" font-size=\"14.00\">data 2.0000</text>\n<polyline fill=\"none\" stroke=\"black\" points=\"114,-55.5 114,-91.5 \"/>\n<text text-anchor=\"middle\" x=\"157\" y=\"-69.8\" font-family=\"Times,serif\" font-size=\"14.00\">grad &#45;1.5000</text>\n</g>\n<!-- 140649454191424* -->\n<g id=\"node4\" class=\"node\">\n<title>140649454191424*</title>\n<ellipse fill=\"none\" stroke=\"black\" cx=\"267\" cy=\"-73.5\" rx=\"27\" ry=\"18\"/>\n<text text-anchor=\"middle\" x=\"267\" y=\"-69.8\" font-family=\"Times,serif\" font-size=\"14.00\">*</text>\n</g>\n<!-- 140649454192768&#45;&gt;140649454191424* -->\n<g id=\"edge5\" class=\"edge\">\n<title>140649454192768&#45;&gt;140649454191424*</title>\n<path fill=\"none\" stroke=\"black\" d=\"M200.17,-73.5C210.66,-73.5 220.79,-73.5 229.82,-73.5\"/>\n<polygon fill=\"black\" stroke=\"black\" points=\"229.89,-77 239.89,-73.5 229.89,-70 229.89,-77\"/>\n</g>\n<!-- 140649454191424 -->\n<g id=\"node3\" class=\"node\">\n<title>140649454191424</title>\n<polygon fill=\"none\" stroke=\"black\" points=\"330,-55.5 330,-91.5 550,-91.5 550,-55.5 330,-55.5\"/>\n<text text-anchor=\"middle\" x=\"356.5\" y=\"-69.8\" font-family=\"Times,serif\" font-size=\"14.00\">x1*w1</text>\n<polyline fill=\"none\" stroke=\"black\" points=\"383,-55.5 383,-91.5 \"/>\n<text text-anchor=\"middle\" x=\"425.5\" y=\"-69.8\" font-family=\"Times,serif\" font-size=\"14.00\">data &#45;6.0000</text>\n<polyline fill=\"none\" stroke=\"black\" points=\"468,-55.5 468,-91.5 \"/>\n<text text-anchor=\"middle\" x=\"509\" y=\"-69.8\" font-family=\"Times,serif\" font-size=\"14.00\">grad 0.5000</text>\n</g>\n<!-- 140649454122896+ -->\n<g id=\"node10\" class=\"node\">\n<title>140649454122896+</title>\n<ellipse fill=\"none\" stroke=\"black\" cx=\"613\" cy=\"-100.5\" rx=\"27\" ry=\"18\"/>\n<text text-anchor=\"middle\" x=\"613\" y=\"-96.8\" font-family=\"Times,serif\" font-size=\"14.00\">+</text>\n</g>\n<!-- 140649454191424&#45;&gt;140649454122896+ -->\n<g id=\"edge9\" class=\"edge\">\n<title>140649454191424&#45;&gt;140649454122896+</title>\n<path fill=\"none\" stroke=\"black\" d=\"M550.27,-90.75C559.64,-92.23 568.6,-93.65 576.65,-94.92\"/>\n<polygon fill=\"black\" stroke=\"black\" points=\"576.23,-98.4 586.65,-96.5 577.32,-91.48 576.23,-98.4\"/>\n</g>\n<!-- 140649454191424*&#45;&gt;140649454191424 -->\n<g id=\"edge1\" class=\"edge\">\n<title>140649454191424*&#45;&gt;140649454191424</title>\n<path fill=\"none\" stroke=\"black\" d=\"M294.34,-73.5C301.77,-73.5 310.37,-73.5 319.6,-73.5\"/>\n<polygon fill=\"black\" stroke=\"black\" points=\"319.84,-77 329.84,-73.5 319.84,-70 319.84,-77\"/>\n</g>\n<!-- 140649454193488 -->\n<g id=\"node5\" class=\"node\">\n<title>140649454193488</title>\n<polygon fill=\"none\" stroke=\"black\" points=\"0,-0.5 0,-36.5 204,-36.5 204,-0.5 0,-0.5\"/>\n<text text-anchor=\"middle\" x=\"16.5\" y=\"-14.8\" font-family=\"Times,serif\" font-size=\"14.00\">w1</text>\n<polyline fill=\"none\" stroke=\"black\" points=\"33,-0.5 33,-36.5 \"/>\n<text text-anchor=\"middle\" x=\"75.5\" y=\"-14.8\" font-family=\"Times,serif\" font-size=\"14.00\">data &#45;3.0000</text>\n<polyline fill=\"none\" stroke=\"black\" points=\"118,-0.5 118,-36.5 \"/>\n<text text-anchor=\"middle\" x=\"161\" y=\"-14.8\" font-family=\"Times,serif\" font-size=\"14.00\">grad &#45;0.7500</text>\n</g>\n<!-- 140649454193488&#45;&gt;140649454191424* -->\n<g id=\"edge7\" class=\"edge\">\n<title>140649454193488&#45;&gt;140649454191424*</title>\n<path fill=\"none\" stroke=\"black\" d=\"M172.94,-36.51C183.43,-39.61 194.05,-42.97 204,-46.5 214.29,-50.15 225.29,-54.71 235.12,-59.04\"/>\n<polygon fill=\"black\" stroke=\"black\" points=\"233.94,-62.34 244.49,-63.25 236.8,-55.96 233.94,-62.34\"/>\n</g>\n<!-- 140649454194016 -->\n<g id=\"node6\" class=\"node\">\n<title>140649454194016</title>\n<polygon fill=\"none\" stroke=\"black\" points=\"6,-110.5 6,-146.5 198,-146.5 198,-110.5 6,-110.5\"/>\n<text text-anchor=\"middle\" x=\"21\" y=\"-124.8\" font-family=\"Times,serif\" font-size=\"14.00\">x2</text>\n<polyline fill=\"none\" stroke=\"black\" points=\"36,-110.5 36,-146.5 \"/>\n<text text-anchor=\"middle\" x=\"76\" y=\"-124.8\" font-family=\"Times,serif\" font-size=\"14.00\">data 0.0000</text>\n<polyline fill=\"none\" stroke=\"black\" points=\"116,-110.5 116,-146.5 \"/>\n<text text-anchor=\"middle\" x=\"157\" y=\"-124.8\" font-family=\"Times,serif\" font-size=\"14.00\">grad 0.5000</text>\n</g>\n<!-- 140649454194016&#45;&gt;140649454124480* -->\n<g id=\"edge12\" class=\"edge\">\n<title>140649454194016&#45;&gt;140649454124480*</title>\n<path fill=\"none\" stroke=\"black\" d=\"M198.29,-128.5C209.32,-128.5 220.01,-128.5 229.51,-128.5\"/>\n<polygon fill=\"black\" stroke=\"black\" points=\"229.69,-132 239.69,-128.5 229.69,-125 229.69,-132\"/>\n</g>\n<!-- 140649454121312 -->\n<g id=\"node7\" class=\"node\">\n<title>140649454121312</title>\n<polygon fill=\"none\" stroke=\"black\" points=\"1075,-54.5 1075,-90.5 1260,-90.5 1260,-54.5 1075,-54.5\"/>\n<text text-anchor=\"middle\" x=\"1086.5\" y=\"-68.8\" font-family=\"Times,serif\" font-size=\"14.00\">n</text>\n<polyline fill=\"none\" stroke=\"black\" points=\"1098,-54.5 1098,-90.5 \"/>\n<text text-anchor=\"middle\" x=\"1138\" y=\"-68.8\" font-family=\"Times,serif\" font-size=\"14.00\">data 0.8814</text>\n<polyline fill=\"none\" stroke=\"black\" points=\"1178,-54.5 1178,-90.5 \"/>\n<text text-anchor=\"middle\" x=\"1219\" y=\"-68.8\" font-family=\"Times,serif\" font-size=\"14.00\">grad 0.5000</text>\n</g>\n<!-- 140649454121312+ -->\n<g id=\"node8\" class=\"node\">\n<title>140649454121312+</title>\n<ellipse fill=\"none\" stroke=\"black\" cx=\"1012\" cy=\"-72.5\" rx=\"27\" ry=\"18\"/>\n<text text-anchor=\"middle\" x=\"1012\" y=\"-68.8\" font-family=\"Times,serif\" font-size=\"14.00\">+</text>\n</g>\n<!-- 140649454121312+&#45;&gt;140649454121312 -->\n<g id=\"edge2\" class=\"edge\">\n<title>140649454121312+&#45;&gt;140649454121312</title>\n<path fill=\"none\" stroke=\"black\" d=\"M1039.04,-72.5C1046.58,-72.5 1055.3,-72.5 1064.57,-72.5\"/>\n<polygon fill=\"black\" stroke=\"black\" points=\"1064.81,-76 1074.81,-72.5 1064.81,-69 1064.81,-76\"/>\n</g>\n<!-- 140649454122896 -->\n<g id=\"node9\" class=\"node\">\n<title>140649454122896</title>\n<polygon fill=\"none\" stroke=\"black\" points=\"676,-82.5 676,-118.5 949,-118.5 949,-82.5 676,-82.5\"/>\n<text text-anchor=\"middle\" x=\"729\" y=\"-96.8\" font-family=\"Times,serif\" font-size=\"14.00\">x1*w1 + x2*w2</text>\n<polyline fill=\"none\" stroke=\"black\" points=\"782,-82.5 782,-118.5 \"/>\n<text text-anchor=\"middle\" x=\"824.5\" y=\"-96.8\" font-family=\"Times,serif\" font-size=\"14.00\">data &#45;6.0000</text>\n<polyline fill=\"none\" stroke=\"black\" points=\"867,-82.5 867,-118.5 \"/>\n<text text-anchor=\"middle\" x=\"908\" y=\"-96.8\" font-family=\"Times,serif\" font-size=\"14.00\">grad 0.5000</text>\n</g>\n<!-- 140649454122896&#45;&gt;140649454121312+ -->\n<g id=\"edge8\" class=\"edge\">\n<title>140649454122896&#45;&gt;140649454121312+</title>\n<path fill=\"none\" stroke=\"black\" d=\"M940.53,-82.49C953.09,-80.71 964.99,-79.02 975.3,-77.56\"/>\n<polygon fill=\"black\" stroke=\"black\" points=\"976.03,-80.99 985.44,-76.12 975.05,-74.06 976.03,-80.99\"/>\n</g>\n<!-- 140649454122896+&#45;&gt;140649454122896 -->\n<g id=\"edge3\" class=\"edge\">\n<title>140649454122896+&#45;&gt;140649454122896</title>\n<path fill=\"none\" stroke=\"black\" d=\"M640.23,-100.5C647.7,-100.5 656.41,-100.5 665.87,-100.5\"/>\n<polygon fill=\"black\" stroke=\"black\" points=\"665.98,-104 675.98,-100.5 665.98,-97 665.98,-104\"/>\n</g>\n<!-- 140649454193584 -->\n<g id=\"node11\" class=\"node\">\n<title>140649454193584</title>\n<polygon fill=\"none\" stroke=\"black\" points=\"720,-27.5 720,-63.5 905,-63.5 905,-27.5 720,-27.5\"/>\n<text text-anchor=\"middle\" x=\"731.5\" y=\"-41.8\" font-family=\"Times,serif\" font-size=\"14.00\">b</text>\n<polyline fill=\"none\" stroke=\"black\" points=\"743,-27.5 743,-63.5 \"/>\n<text text-anchor=\"middle\" x=\"783\" y=\"-41.8\" font-family=\"Times,serif\" font-size=\"14.00\">data 6.8814</text>\n<polyline fill=\"none\" stroke=\"black\" points=\"823,-27.5 823,-63.5 \"/>\n<text text-anchor=\"middle\" x=\"864\" y=\"-41.8\" font-family=\"Times,serif\" font-size=\"14.00\">grad 0.5000</text>\n</g>\n<!-- 140649454193584&#45;&gt;140649454121312+ -->\n<g id=\"edge10\" class=\"edge\">\n<title>140649454193584&#45;&gt;140649454121312+</title>\n<path fill=\"none\" stroke=\"black\" d=\"M905.02,-58.01C930,-61.43 955.59,-64.93 975.37,-67.63\"/>\n<polygon fill=\"black\" stroke=\"black\" points=\"975.05,-71.12 985.43,-69.01 976,-64.18 975.05,-71.12\"/>\n</g>\n<!-- 140649454124480 -->\n<g id=\"node12\" class=\"node\">\n<title>140649454124480</title>\n<polygon fill=\"none\" stroke=\"black\" points=\"332.5,-110.5 332.5,-146.5 547.5,-146.5 547.5,-110.5 332.5,-110.5\"/>\n<text text-anchor=\"middle\" x=\"359\" y=\"-124.8\" font-family=\"Times,serif\" font-size=\"14.00\">x2*w2</text>\n<polyline fill=\"none\" stroke=\"black\" points=\"385.5,-110.5 385.5,-146.5 \"/>\n<text text-anchor=\"middle\" x=\"425.5\" y=\"-124.8\" font-family=\"Times,serif\" font-size=\"14.00\">data 0.0000</text>\n<polyline fill=\"none\" stroke=\"black\" points=\"465.5,-110.5 465.5,-146.5 \"/>\n<text text-anchor=\"middle\" x=\"506.5\" y=\"-124.8\" font-family=\"Times,serif\" font-size=\"14.00\">grad 0.5000</text>\n</g>\n<!-- 140649454124480&#45;&gt;140649454122896+ -->\n<g id=\"edge6\" class=\"edge\">\n<title>140649454124480&#45;&gt;140649454122896+</title>\n<path fill=\"none\" stroke=\"black\" d=\"M547.84,-111.01C558.01,-109.34 567.76,-107.74 576.44,-106.32\"/>\n<polygon fill=\"black\" stroke=\"black\" points=\"577.17,-109.75 586.47,-104.68 576.04,-102.84 577.17,-109.75\"/>\n</g>\n<!-- 140649454124480*&#45;&gt;140649454124480 -->\n<g id=\"edge4\" class=\"edge\">\n<title>140649454124480*&#45;&gt;140649454124480</title>\n<path fill=\"none\" stroke=\"black\" d=\"M294.34,-128.5C302.51,-128.5 312.08,-128.5 322.36,-128.5\"/>\n<polygon fill=\"black\" stroke=\"black\" points=\"322.39,-132 332.39,-128.5 322.39,-125 322.39,-132\"/>\n</g>\n</g>\n</svg>\n",
      "text/plain": [
       "<graphviz.graphs.Digraph at 0x7feb80c14610>"
      ]
     },
     "execution_count": 54,
     "metadata": {},
     "output_type": "execute_result"
    }
   ],
   "source": [
    "draw_dot(n)"
   ]
  },
  {
   "cell_type": "markdown",
   "metadata": {},
   "source": [
    "Now we will pass it through `tanh`\n",
    "\n",
    "We will take n and get an output by putting it through tanh\n",
    "\n",
    "However we need to implement another tanh function here because we've only so far implemented plus and times\n",
    "\n",
    "We also need exponentiation and dividing\n",
    "\n",
    "However... instead of implementing the atomic pieces of \n",
    "code we would need to create\n",
    "a tanh function, we can instead\n",
    "choose an arbitary point of abstraction\n",
    "in this case then, we will just directly\n",
    "implement the `tanh` function into\n",
    "our `Value` class, since all we need in this example is the output\n",
    "value of tanh\n"
   ]
  },
  {
   "cell_type": "code",
   "execution_count": 39,
   "metadata": {},
   "outputs": [],
   "source": [
    "class Value:\n",
    "\n",
    "    def __init__(self, data, _children=(), _op='', label=''):\n",
    "        self.data = data\n",
    "        self.grad = 0.0\n",
    "        self._prev = set(_children)\n",
    "        self._op = _op\n",
    "        self.label = label\n",
    "\n",
    "    def __repr__(self) -> str:\n",
    "        return f\"Value(data={self.data})\"\n",
    "\n",
    "    def __add__(self, other) -> str:\n",
    "        out = Value(self.data + other.data, (self, other), \"+\")\n",
    "        return out\n",
    "\n",
    "    def __mul__(self, other) -> str:\n",
    "        out = Value(self.data * other.data, (self, other), \"*\")\n",
    "        return out\n",
    "\n",
    "    def tanh(self):\n",
    "        x = self.data\n",
    "        t = (math.exp(2*x) - 1) / (math.exp(2*x) + 1)\n",
    "        # wrap the value in a tuple, and call the function tanh\n",
    "        out = Value(t, (self,), 'tanh')\n",
    "        return out"
   ]
  },
  {
   "cell_type": "code",
   "execution_count": 40,
   "metadata": {},
   "outputs": [
    {
     "data": {
      "image/svg+xml": "<?xml version=\"1.0\" encoding=\"UTF-8\" standalone=\"no\"?>\n<!DOCTYPE svg PUBLIC \"-//W3C//DTD SVG 1.1//EN\"\n \"http://www.w3.org/Graphics/SVG/1.1/DTD/svg11.dtd\">\n<!-- Generated by graphviz version 2.50.0 (0)\n -->\n<!-- Pages: 1 -->\n<svg width=\"1575pt\" height=\"210pt\"\n viewBox=\"0.00 0.00 1575.00 210.00\" xmlns=\"http://www.w3.org/2000/svg\" xmlns:xlink=\"http://www.w3.org/1999/xlink\">\n<g id=\"graph0\" class=\"graph\" transform=\"scale(1 1) rotate(0) translate(4 206)\">\n<polygon fill=\"white\" stroke=\"transparent\" points=\"-4,4 -4,-206 1571,-206 1571,4 -4,4\"/>\n<!-- 140649454065168 -->\n<g id=\"node1\" class=\"node\">\n<title>140649454065168</title>\n<polygon fill=\"none\" stroke=\"black\" points=\"672,-82.5 672,-118.5 945,-118.5 945,-82.5 672,-82.5\"/>\n<text text-anchor=\"middle\" x=\"725\" y=\"-96.8\" font-family=\"Times,serif\" font-size=\"14.00\">x1*w1 + x2*w2</text>\n<polyline fill=\"none\" stroke=\"black\" points=\"778,-82.5 778,-118.5 \"/>\n<text text-anchor=\"middle\" x=\"820.5\" y=\"-96.8\" font-family=\"Times,serif\" font-size=\"14.00\">data &#45;6.0000</text>\n<polyline fill=\"none\" stroke=\"black\" points=\"863,-82.5 863,-118.5 \"/>\n<text text-anchor=\"middle\" x=\"904\" y=\"-96.8\" font-family=\"Times,serif\" font-size=\"14.00\">grad 0.0000</text>\n</g>\n<!-- 140649454064496+ -->\n<g id=\"node13\" class=\"node\">\n<title>140649454064496+</title>\n<ellipse fill=\"none\" stroke=\"black\" cx=\"1008\" cy=\"-127.5\" rx=\"27\" ry=\"18\"/>\n<text text-anchor=\"middle\" x=\"1008\" y=\"-123.8\" font-family=\"Times,serif\" font-size=\"14.00\">+</text>\n</g>\n<!-- 140649454065168&#45;&gt;140649454064496+ -->\n<g id=\"edge12\" class=\"edge\">\n<title>140649454065168&#45;&gt;140649454064496+</title>\n<path fill=\"none\" stroke=\"black\" d=\"M941.24,-118.51C952.12,-120 962.4,-121.4 971.45,-122.64\"/>\n<polygon fill=\"black\" stroke=\"black\" points=\"971.11,-126.13 981.49,-124.01 972.05,-119.19 971.11,-126.13\"/>\n</g>\n<!-- 140649454065168+ -->\n<g id=\"node2\" class=\"node\">\n<title>140649454065168+</title>\n<ellipse fill=\"none\" stroke=\"black\" cx=\"609\" cy=\"-100.5\" rx=\"27\" ry=\"18\"/>\n<text text-anchor=\"middle\" x=\"609\" y=\"-96.8\" font-family=\"Times,serif\" font-size=\"14.00\">+</text>\n</g>\n<!-- 140649454065168+&#45;&gt;140649454065168 -->\n<g id=\"edge1\" class=\"edge\">\n<title>140649454065168+&#45;&gt;140649454065168</title>\n<path fill=\"none\" stroke=\"black\" d=\"M636.23,-100.5C643.7,-100.5 652.41,-100.5 661.87,-100.5\"/>\n<polygon fill=\"black\" stroke=\"black\" points=\"661.98,-104 671.98,-100.5 661.98,-97 661.98,-104\"/>\n</g>\n<!-- 140649454124576 -->\n<g id=\"node3\" class=\"node\">\n<title>140649454124576</title>\n<polygon fill=\"none\" stroke=\"black\" points=\"716,-137.5 716,-173.5 901,-173.5 901,-137.5 716,-137.5\"/>\n<text text-anchor=\"middle\" x=\"727.5\" y=\"-151.8\" font-family=\"Times,serif\" font-size=\"14.00\">b</text>\n<polyline fill=\"none\" stroke=\"black\" points=\"739,-137.5 739,-173.5 \"/>\n<text text-anchor=\"middle\" x=\"779\" y=\"-151.8\" font-family=\"Times,serif\" font-size=\"14.00\">data 6.8814</text>\n<polyline fill=\"none\" stroke=\"black\" points=\"819,-137.5 819,-173.5 \"/>\n<text text-anchor=\"middle\" x=\"860\" y=\"-151.8\" font-family=\"Times,serif\" font-size=\"14.00\">grad 0.0000</text>\n</g>\n<!-- 140649454124576&#45;&gt;140649454064496+ -->\n<g id=\"edge14\" class=\"edge\">\n<title>140649454124576&#45;&gt;140649454064496+</title>\n<path fill=\"none\" stroke=\"black\" d=\"M901.02,-142.52C926,-138.98 951.59,-135.36 971.37,-132.55\"/>\n<polygon fill=\"black\" stroke=\"black\" points=\"972.03,-135.99 981.43,-131.12 971.04,-129.06 972.03,-135.99\"/>\n</g>\n<!-- 140650526322752 -->\n<g id=\"node4\" class=\"node\">\n<title>140650526322752</title>\n<polygon fill=\"none\" stroke=\"black\" points=\"2.5,-165.5 2.5,-201.5 197.5,-201.5 197.5,-165.5 2.5,-165.5\"/>\n<text text-anchor=\"middle\" x=\"19\" y=\"-179.8\" font-family=\"Times,serif\" font-size=\"14.00\">w2</text>\n<polyline fill=\"none\" stroke=\"black\" points=\"35.5,-165.5 35.5,-201.5 \"/>\n<text text-anchor=\"middle\" x=\"75.5\" y=\"-179.8\" font-family=\"Times,serif\" font-size=\"14.00\">data 1.0000</text>\n<polyline fill=\"none\" stroke=\"black\" points=\"115.5,-165.5 115.5,-201.5 \"/>\n<text text-anchor=\"middle\" x=\"156.5\" y=\"-179.8\" font-family=\"Times,serif\" font-size=\"14.00\">grad 0.0000</text>\n</g>\n<!-- 140649454124240* -->\n<g id=\"node9\" class=\"node\">\n<title>140649454124240*</title>\n<ellipse fill=\"none\" stroke=\"black\" cx=\"263\" cy=\"-128.5\" rx=\"27\" ry=\"18\"/>\n<text text-anchor=\"middle\" x=\"263\" y=\"-124.8\" font-family=\"Times,serif\" font-size=\"14.00\">*</text>\n</g>\n<!-- 140650526322752&#45;&gt;140649454124240* -->\n<g id=\"edge8\" class=\"edge\">\n<title>140650526322752&#45;&gt;140649454124240*</title>\n<path fill=\"none\" stroke=\"black\" d=\"M172.53,-165.44C181.84,-162.67 191.2,-159.67 200,-156.5 210.53,-152.71 221.75,-147.9 231.72,-143.33\"/>\n<polygon fill=\"black\" stroke=\"black\" points=\"233.25,-146.48 240.82,-139.07 230.28,-140.14 233.25,-146.48\"/>\n</g>\n<!-- 140649720439376 -->\n<g id=\"node5\" class=\"node\">\n<title>140649720439376</title>\n<polygon fill=\"none\" stroke=\"black\" points=\"4,-55.5 4,-91.5 196,-91.5 196,-55.5 4,-55.5\"/>\n<text text-anchor=\"middle\" x=\"19\" y=\"-69.8\" font-family=\"Times,serif\" font-size=\"14.00\">x1</text>\n<polyline fill=\"none\" stroke=\"black\" points=\"34,-55.5 34,-91.5 \"/>\n<text text-anchor=\"middle\" x=\"74\" y=\"-69.8\" font-family=\"Times,serif\" font-size=\"14.00\">data 2.0000</text>\n<polyline fill=\"none\" stroke=\"black\" points=\"114,-55.5 114,-91.5 \"/>\n<text text-anchor=\"middle\" x=\"155\" y=\"-69.8\" font-family=\"Times,serif\" font-size=\"14.00\">grad 0.0000</text>\n</g>\n<!-- 140649454123472* -->\n<g id=\"node15\" class=\"node\">\n<title>140649454123472*</title>\n<ellipse fill=\"none\" stroke=\"black\" cx=\"263\" cy=\"-73.5\" rx=\"27\" ry=\"18\"/>\n<text text-anchor=\"middle\" x=\"263\" y=\"-69.8\" font-family=\"Times,serif\" font-size=\"14.00\">*</text>\n</g>\n<!-- 140649720439376&#45;&gt;140649454123472* -->\n<g id=\"edge9\" class=\"edge\">\n<title>140649720439376&#45;&gt;140649454123472*</title>\n<path fill=\"none\" stroke=\"black\" d=\"M196.05,-73.5C206.52,-73.5 216.65,-73.5 225.71,-73.5\"/>\n<polygon fill=\"black\" stroke=\"black\" points=\"225.79,-77 235.79,-73.5 225.79,-70 225.79,-77\"/>\n</g>\n<!-- 140649454064304 -->\n<g id=\"node6\" class=\"node\">\n<title>140649454064304</title>\n<polygon fill=\"none\" stroke=\"black\" points=\"1382,-109.5 1382,-145.5 1567,-145.5 1567,-109.5 1382,-109.5\"/>\n<text text-anchor=\"middle\" x=\"1393.5\" y=\"-123.8\" font-family=\"Times,serif\" font-size=\"14.00\">o</text>\n<polyline fill=\"none\" stroke=\"black\" points=\"1405,-109.5 1405,-145.5 \"/>\n<text text-anchor=\"middle\" x=\"1445\" y=\"-123.8\" font-family=\"Times,serif\" font-size=\"14.00\">data 0.7071</text>\n<polyline fill=\"none\" stroke=\"black\" points=\"1485,-109.5 1485,-145.5 \"/>\n<text text-anchor=\"middle\" x=\"1526\" y=\"-123.8\" font-family=\"Times,serif\" font-size=\"14.00\">grad 0.0000</text>\n</g>\n<!-- 140649454064304tanh -->\n<g id=\"node7\" class=\"node\">\n<title>140649454064304tanh</title>\n<ellipse fill=\"none\" stroke=\"black\" cx=\"1319\" cy=\"-127.5\" rx=\"27\" ry=\"18\"/>\n<text text-anchor=\"middle\" x=\"1319\" y=\"-123.8\" font-family=\"Times,serif\" font-size=\"14.00\">tanh</text>\n</g>\n<!-- 140649454064304tanh&#45;&gt;140649454064304 -->\n<g id=\"edge2\" class=\"edge\">\n<title>140649454064304tanh&#45;&gt;140649454064304</title>\n<path fill=\"none\" stroke=\"black\" d=\"M1346.04,-127.5C1353.58,-127.5 1362.3,-127.5 1371.57,-127.5\"/>\n<polygon fill=\"black\" stroke=\"black\" points=\"1371.81,-131 1381.81,-127.5 1371.81,-124 1371.81,-131\"/>\n</g>\n<!-- 140649454124240 -->\n<g id=\"node8\" class=\"node\">\n<title>140649454124240</title>\n<polygon fill=\"none\" stroke=\"black\" points=\"328.5,-110.5 328.5,-146.5 543.5,-146.5 543.5,-110.5 328.5,-110.5\"/>\n<text text-anchor=\"middle\" x=\"355\" y=\"-124.8\" font-family=\"Times,serif\" font-size=\"14.00\">x2*w2</text>\n<polyline fill=\"none\" stroke=\"black\" points=\"381.5,-110.5 381.5,-146.5 \"/>\n<text text-anchor=\"middle\" x=\"421.5\" y=\"-124.8\" font-family=\"Times,serif\" font-size=\"14.00\">data 0.0000</text>\n<polyline fill=\"none\" stroke=\"black\" points=\"461.5,-110.5 461.5,-146.5 \"/>\n<text text-anchor=\"middle\" x=\"502.5\" y=\"-124.8\" font-family=\"Times,serif\" font-size=\"14.00\">grad 0.0000</text>\n</g>\n<!-- 140649454124240&#45;&gt;140649454065168+ -->\n<g id=\"edge7\" class=\"edge\">\n<title>140649454124240&#45;&gt;140649454065168+</title>\n<path fill=\"none\" stroke=\"black\" d=\"M543.84,-111.01C554.01,-109.34 563.76,-107.74 572.44,-106.32\"/>\n<polygon fill=\"black\" stroke=\"black\" points=\"573.17,-109.75 582.47,-104.68 572.04,-102.84 573.17,-109.75\"/>\n</g>\n<!-- 140649454124240*&#45;&gt;140649454124240 -->\n<g id=\"edge3\" class=\"edge\">\n<title>140649454124240*&#45;&gt;140649454124240</title>\n<path fill=\"none\" stroke=\"black\" d=\"M290.34,-128.5C298.51,-128.5 308.08,-128.5 318.36,-128.5\"/>\n<polygon fill=\"black\" stroke=\"black\" points=\"318.39,-132 328.39,-128.5 318.39,-125 318.39,-132\"/>\n</g>\n<!-- 140650526325968 -->\n<g id=\"node10\" class=\"node\">\n<title>140650526325968</title>\n<polygon fill=\"none\" stroke=\"black\" points=\"0,-0.5 0,-36.5 200,-36.5 200,-0.5 0,-0.5\"/>\n<text text-anchor=\"middle\" x=\"16.5\" y=\"-14.8\" font-family=\"Times,serif\" font-size=\"14.00\">w1</text>\n<polyline fill=\"none\" stroke=\"black\" points=\"33,-0.5 33,-36.5 \"/>\n<text text-anchor=\"middle\" x=\"75.5\" y=\"-14.8\" font-family=\"Times,serif\" font-size=\"14.00\">data &#45;3.0000</text>\n<polyline fill=\"none\" stroke=\"black\" points=\"118,-0.5 118,-36.5 \"/>\n<text text-anchor=\"middle\" x=\"159\" y=\"-14.8\" font-family=\"Times,serif\" font-size=\"14.00\">grad 0.0000</text>\n</g>\n<!-- 140650526325968&#45;&gt;140649454123472* -->\n<g id=\"edge13\" class=\"edge\">\n<title>140650526325968&#45;&gt;140649454123472*</title>\n<path fill=\"none\" stroke=\"black\" d=\"M169.28,-36.5C179.65,-39.61 190.16,-42.98 200,-46.5 210.28,-50.17 221.28,-54.74 231.11,-59.07\"/>\n<polygon fill=\"black\" stroke=\"black\" points=\"229.93,-62.37 240.48,-63.27 232.79,-55.99 229.93,-62.37\"/>\n</g>\n<!-- 140649720440576 -->\n<g id=\"node11\" class=\"node\">\n<title>140649720440576</title>\n<polygon fill=\"none\" stroke=\"black\" points=\"4,-110.5 4,-146.5 196,-146.5 196,-110.5 4,-110.5\"/>\n<text text-anchor=\"middle\" x=\"19\" y=\"-124.8\" font-family=\"Times,serif\" font-size=\"14.00\">x2</text>\n<polyline fill=\"none\" stroke=\"black\" points=\"34,-110.5 34,-146.5 \"/>\n<text text-anchor=\"middle\" x=\"74\" y=\"-124.8\" font-family=\"Times,serif\" font-size=\"14.00\">data 0.0000</text>\n<polyline fill=\"none\" stroke=\"black\" points=\"114,-110.5 114,-146.5 \"/>\n<text text-anchor=\"middle\" x=\"155\" y=\"-124.8\" font-family=\"Times,serif\" font-size=\"14.00\">grad 0.0000</text>\n</g>\n<!-- 140649720440576&#45;&gt;140649454124240* -->\n<g id=\"edge6\" class=\"edge\">\n<title>140649720440576&#45;&gt;140649454124240*</title>\n<path fill=\"none\" stroke=\"black\" d=\"M196.05,-128.5C206.52,-128.5 216.65,-128.5 225.71,-128.5\"/>\n<polygon fill=\"black\" stroke=\"black\" points=\"225.79,-132 235.79,-128.5 225.79,-125 225.79,-132\"/>\n</g>\n<!-- 140649454064496 -->\n<g id=\"node12\" class=\"node\">\n<title>140649454064496</title>\n<polygon fill=\"none\" stroke=\"black\" points=\"1071,-109.5 1071,-145.5 1256,-145.5 1256,-109.5 1071,-109.5\"/>\n<text text-anchor=\"middle\" x=\"1082.5\" y=\"-123.8\" font-family=\"Times,serif\" font-size=\"14.00\">n</text>\n<polyline fill=\"none\" stroke=\"black\" points=\"1094,-109.5 1094,-145.5 \"/>\n<text text-anchor=\"middle\" x=\"1134\" y=\"-123.8\" font-family=\"Times,serif\" font-size=\"14.00\">data 0.8814</text>\n<polyline fill=\"none\" stroke=\"black\" points=\"1174,-109.5 1174,-145.5 \"/>\n<text text-anchor=\"middle\" x=\"1215\" y=\"-123.8\" font-family=\"Times,serif\" font-size=\"14.00\">grad 0.0000</text>\n</g>\n<!-- 140649454064496&#45;&gt;140649454064304tanh -->\n<g id=\"edge10\" class=\"edge\">\n<title>140649454064496&#45;&gt;140649454064304tanh</title>\n<path fill=\"none\" stroke=\"black\" d=\"M1256.01,-127.5C1265.01,-127.5 1273.74,-127.5 1281.66,-127.5\"/>\n<polygon fill=\"black\" stroke=\"black\" points=\"1281.91,-131 1291.91,-127.5 1281.91,-124 1281.91,-131\"/>\n</g>\n<!-- 140649454064496+&#45;&gt;140649454064496 -->\n<g id=\"edge4\" class=\"edge\">\n<title>140649454064496+&#45;&gt;140649454064496</title>\n<path fill=\"none\" stroke=\"black\" d=\"M1035.04,-127.5C1042.58,-127.5 1051.3,-127.5 1060.57,-127.5\"/>\n<polygon fill=\"black\" stroke=\"black\" points=\"1060.81,-131 1070.81,-127.5 1060.81,-124 1060.81,-131\"/>\n</g>\n<!-- 140649454123472 -->\n<g id=\"node14\" class=\"node\">\n<title>140649454123472</title>\n<polygon fill=\"none\" stroke=\"black\" points=\"326,-55.5 326,-91.5 546,-91.5 546,-55.5 326,-55.5\"/>\n<text text-anchor=\"middle\" x=\"352.5\" y=\"-69.8\" font-family=\"Times,serif\" font-size=\"14.00\">x1*w1</text>\n<polyline fill=\"none\" stroke=\"black\" points=\"379,-55.5 379,-91.5 \"/>\n<text text-anchor=\"middle\" x=\"421.5\" y=\"-69.8\" font-family=\"Times,serif\" font-size=\"14.00\">data &#45;6.0000</text>\n<polyline fill=\"none\" stroke=\"black\" points=\"464,-55.5 464,-91.5 \"/>\n<text text-anchor=\"middle\" x=\"505\" y=\"-69.8\" font-family=\"Times,serif\" font-size=\"14.00\">grad 0.0000</text>\n</g>\n<!-- 140649454123472&#45;&gt;140649454065168+ -->\n<g id=\"edge11\" class=\"edge\">\n<title>140649454123472&#45;&gt;140649454065168+</title>\n<path fill=\"none\" stroke=\"black\" d=\"M546.27,-90.75C555.64,-92.23 564.6,-93.65 572.65,-94.92\"/>\n<polygon fill=\"black\" stroke=\"black\" points=\"572.23,-98.4 582.65,-96.5 573.32,-91.48 572.23,-98.4\"/>\n</g>\n<!-- 140649454123472*&#45;&gt;140649454123472 -->\n<g id=\"edge5\" class=\"edge\">\n<title>140649454123472*&#45;&gt;140649454123472</title>\n<path fill=\"none\" stroke=\"black\" d=\"M290.34,-73.5C297.77,-73.5 306.37,-73.5 315.6,-73.5\"/>\n<polygon fill=\"black\" stroke=\"black\" points=\"315.84,-77 325.84,-73.5 315.84,-70 315.84,-77\"/>\n</g>\n</g>\n</svg>\n",
      "text/plain": [
       "<graphviz.graphs.Digraph at 0x7feb80bf5250>"
      ]
     },
     "execution_count": 40,
     "metadata": {},
     "output_type": "execute_result"
    }
   ],
   "source": [
    "# inputs x1, x2\n",
    "x1 = Value(2.0, label='x1')\n",
    "x2 = Value(0.0, label='x2')\n",
    "\n",
    "# weights w1, w2\n",
    "w1 = Value(-3.0, label='w1')\n",
    "w2 = Value(1.0, label='w2')\n",
    "\n",
    "# bias of the nueron\n",
    "b = Value(6.8813735870195432, label='b')\n",
    "\n",
    "# now according to the model above\n",
    "# we need to multiply, x1 with w1\n",
    "# and x2 with w2\n",
    "x1w1 = x1*w1\n",
    "x1w1.label = 'x1*w1'\n",
    "x2w2 = x2*w2\n",
    "x2w2.label = 'x2*w2'\n",
    "\n",
    "# we do this in small steps so we\n",
    "# can maintain pointers to each\n",
    "# in this example\n",
    "x1w1x2w2 = x1w1 + x2w2\n",
    "x1w1x2w2.label = 'x1*w1 + x2*w2'\n",
    "\n",
    "# Finally we need to add the bias\n",
    "# on top of that\n",
    "n = x1w1x2w2 + b\n",
    "n.label = 'n'\n",
    "\n",
    "# now we can add our tanh\n",
    "o = n.tanh()\n",
    "o.label='o'\n",
    "draw_dot(o)\n"
   ]
  },
  {
   "cell_type": "markdown",
   "metadata": {},
   "source": [
    "Now with this we will do backpropagation, to fill in all these gradients\n",
    "\n",
    "What is the derivative $o$, with respect to all the inputs here\n",
    "\n",
    "In a typical neural network setting, what we\n",
    "care about the most, is the derivative of these neurons on the weights specifically,\n",
    "because those are the weights we will be\n",
    "changing as part of the optimisation\n",
    "\n",
    "Eventually we will introudce a loss function\n",
    "that measures the accuary of the nueral net,\n",
    "and we're backpropagating with respect to that accuracy in order to try and increase the accuracy"
   ]
  },
  {
   "cell_type": "code",
   "execution_count": 41,
   "metadata": {},
   "outputs": [],
   "source": [
    "# The gradient in the first case,\n",
    "# o in respect to o, is always 1\n",
    "o.grad = 1.0\n"
   ]
  },
  {
   "cell_type": "markdown",
   "metadata": {},
   "source": [
    "next we will backpropagate through tanh\n",
    "\n",
    "To do that we need to know the derivative\n",
    "of tanh\n",
    "\n",
    "we can find that the derivative of tanh easily online, for example [here](https://en.wikipedia.org/wiki/Hyperbolic_functions#Derivatives)\n",
    "\n",
    "We will use that the differential of tanh is, with respect to $o$:\n",
    "\n",
    "$$ \\frac{d}{dx}\\tanh x = 1 - \\tanh^2 x$$"
   ]
  },
  {
   "cell_type": "code",
   "execution_count": 56,
   "metadata": {},
   "outputs": [],
   "source": [
    "# o = tanh(n)\n",
    "#do/dn = 1 - tanh(n)**2\n",
    "# we already have tanh(n), that is just o\n",
    "1 - o.data**2 # 0.4999999 (0.5)\n",
    "n.grad = 0.5"
   ]
  },
  {
   "cell_type": "markdown",
   "metadata": {},
   "source": [
    "Given the next two operations preceeding this node use a plus we know the derivative is the\n",
    "same as it is copied over "
   ]
  },
  {
   "cell_type": "code",
   "execution_count": 57,
   "metadata": {},
   "outputs": [],
   "source": [
    "x1w1x2w2.grad = 0.5\n",
    "b.grad = 0.5\n",
    "x1w1.grad = 0.5\n",
    "x2w2.grad = 0.5"
   ]
  },
  {
   "cell_type": "markdown",
   "metadata": {},
   "source": [
    "Next backpropagating to $x2$ & $w2$\n",
    "\n",
    "They are times nodes, so locally, applying chain rule will be the product of the gradient of the node it's multiplied by and the gradient of $x2w2$"
   ]
  },
  {
   "cell_type": "code",
   "execution_count": 59,
   "metadata": {},
   "outputs": [
    {
     "name": "stdout",
     "output_type": "stream",
     "text": [
      "0.5\n",
      "0.0\n"
     ]
    }
   ],
   "source": [
    "x2.grad = w2.data * x2w2.grad\n",
    "w2.grad = x2.data * x2w2.grad\n",
    "\n",
    "print(w2.data * x2w2.grad)\n",
    "print(x2.data * x2w2.grad)\n"
   ]
  },
  {
   "cell_type": "markdown",
   "metadata": {},
   "source": [
    "What is interesting here is that because the input x2 was 0, the gradient will be 0.\n",
    "\n",
    "Derivative always tells us the impact of a change on the final output\n",
    "\n",
    "Intuitively if we wiggle $w2$ then what will be the final change of this multiplication - nothing.\n",
    "Which makes sense as we are going to change something that is multiplied by 0"
   ]
  },
  {
   "cell_type": "code",
   "execution_count": 60,
   "metadata": {},
   "outputs": [
    {
     "name": "stdout",
     "output_type": "stream",
     "text": [
      "-1.5\n",
      "1.0\n"
     ]
    }
   ],
   "source": [
    "x1.grad = w1.data * x1w1.grad # -1.5\n",
    "w1.grad = x1.data * x1w1.grad # 1\n",
    "\n",
    "print(w1.data * x1w1.grad)\n",
    "print(x1.data * x1w1.grad)\n"
   ]
  },
  {
   "cell_type": "code",
   "execution_count": 61,
   "metadata": {},
   "outputs": [
    {
     "data": {
      "image/svg+xml": "<?xml version=\"1.0\" encoding=\"UTF-8\" standalone=\"no\"?>\n<!DOCTYPE svg PUBLIC \"-//W3C//DTD SVG 1.1//EN\"\n \"http://www.w3.org/Graphics/SVG/1.1/DTD/svg11.dtd\">\n<!-- Generated by graphviz version 2.50.0 (0)\n -->\n<!-- Pages: 1 -->\n<svg width=\"1575pt\" height=\"210pt\"\n viewBox=\"0.00 0.00 1575.00 210.00\" xmlns=\"http://www.w3.org/2000/svg\" xmlns:xlink=\"http://www.w3.org/1999/xlink\">\n<g id=\"graph0\" class=\"graph\" transform=\"scale(1 1) rotate(0) translate(4 206)\">\n<polygon fill=\"white\" stroke=\"transparent\" points=\"-4,4 -4,-206 1571,-206 1571,4 -4,4\"/>\n<!-- 140649454192672 -->\n<g id=\"node1\" class=\"node\">\n<title>140649454192672</title>\n<polygon fill=\"none\" stroke=\"black\" points=\"2.5,-165.5 2.5,-201.5 197.5,-201.5 197.5,-165.5 2.5,-165.5\"/>\n<text text-anchor=\"middle\" x=\"19\" y=\"-179.8\" font-family=\"Times,serif\" font-size=\"14.00\">w2</text>\n<polyline fill=\"none\" stroke=\"black\" points=\"35.5,-165.5 35.5,-201.5 \"/>\n<text text-anchor=\"middle\" x=\"75.5\" y=\"-179.8\" font-family=\"Times,serif\" font-size=\"14.00\">data 1.0000</text>\n<polyline fill=\"none\" stroke=\"black\" points=\"115.5,-165.5 115.5,-201.5 \"/>\n<text text-anchor=\"middle\" x=\"156.5\" y=\"-179.8\" font-family=\"Times,serif\" font-size=\"14.00\">grad 0.0000</text>\n</g>\n<!-- 140649454124480* -->\n<g id=\"node15\" class=\"node\">\n<title>140649454124480*</title>\n<ellipse fill=\"none\" stroke=\"black\" cx=\"263\" cy=\"-128.5\" rx=\"27\" ry=\"18\"/>\n<text text-anchor=\"middle\" x=\"263\" y=\"-124.8\" font-family=\"Times,serif\" font-size=\"14.00\">*</text>\n</g>\n<!-- 140649454192672&#45;&gt;140649454124480* -->\n<g id=\"edge13\" class=\"edge\">\n<title>140649454192672&#45;&gt;140649454124480*</title>\n<path fill=\"none\" stroke=\"black\" d=\"M172.53,-165.44C181.84,-162.67 191.2,-159.67 200,-156.5 210.53,-152.71 221.75,-147.9 231.72,-143.33\"/>\n<polygon fill=\"black\" stroke=\"black\" points=\"233.25,-146.48 240.82,-139.07 230.28,-140.14 233.25,-146.48\"/>\n</g>\n<!-- 140649454123088 -->\n<g id=\"node2\" class=\"node\">\n<title>140649454123088</title>\n<polygon fill=\"none\" stroke=\"black\" points=\"1382,-54.5 1382,-90.5 1567,-90.5 1567,-54.5 1382,-54.5\"/>\n<text text-anchor=\"middle\" x=\"1393.5\" y=\"-68.8\" font-family=\"Times,serif\" font-size=\"14.00\">o</text>\n<polyline fill=\"none\" stroke=\"black\" points=\"1405,-54.5 1405,-90.5 \"/>\n<text text-anchor=\"middle\" x=\"1445\" y=\"-68.8\" font-family=\"Times,serif\" font-size=\"14.00\">data 0.7071</text>\n<polyline fill=\"none\" stroke=\"black\" points=\"1485,-54.5 1485,-90.5 \"/>\n<text text-anchor=\"middle\" x=\"1526\" y=\"-68.8\" font-family=\"Times,serif\" font-size=\"14.00\">grad 1.0000</text>\n</g>\n<!-- 140649454123088tanh -->\n<g id=\"node3\" class=\"node\">\n<title>140649454123088tanh</title>\n<ellipse fill=\"none\" stroke=\"black\" cx=\"1319\" cy=\"-72.5\" rx=\"27\" ry=\"18\"/>\n<text text-anchor=\"middle\" x=\"1319\" y=\"-68.8\" font-family=\"Times,serif\" font-size=\"14.00\">tanh</text>\n</g>\n<!-- 140649454123088tanh&#45;&gt;140649454123088 -->\n<g id=\"edge1\" class=\"edge\">\n<title>140649454123088tanh&#45;&gt;140649454123088</title>\n<path fill=\"none\" stroke=\"black\" d=\"M1346.04,-72.5C1353.58,-72.5 1362.3,-72.5 1371.57,-72.5\"/>\n<polygon fill=\"black\" stroke=\"black\" points=\"1371.81,-76 1381.81,-72.5 1371.81,-69 1371.81,-76\"/>\n</g>\n<!-- 140649454192768 -->\n<g id=\"node4\" class=\"node\">\n<title>140649454192768</title>\n<polygon fill=\"none\" stroke=\"black\" points=\"2,-55.5 2,-91.5 198,-91.5 198,-55.5 2,-55.5\"/>\n<text text-anchor=\"middle\" x=\"17\" y=\"-69.8\" font-family=\"Times,serif\" font-size=\"14.00\">x1</text>\n<polyline fill=\"none\" stroke=\"black\" points=\"32,-55.5 32,-91.5 \"/>\n<text text-anchor=\"middle\" x=\"72\" y=\"-69.8\" font-family=\"Times,serif\" font-size=\"14.00\">data 2.0000</text>\n<polyline fill=\"none\" stroke=\"black\" points=\"112,-55.5 112,-91.5 \"/>\n<text text-anchor=\"middle\" x=\"155\" y=\"-69.8\" font-family=\"Times,serif\" font-size=\"14.00\">grad &#45;1.5000</text>\n</g>\n<!-- 140649454191424* -->\n<g id=\"node6\" class=\"node\">\n<title>140649454191424*</title>\n<ellipse fill=\"none\" stroke=\"black\" cx=\"263\" cy=\"-73.5\" rx=\"27\" ry=\"18\"/>\n<text text-anchor=\"middle\" x=\"263\" y=\"-69.8\" font-family=\"Times,serif\" font-size=\"14.00\">*</text>\n</g>\n<!-- 140649454192768&#45;&gt;140649454191424* -->\n<g id=\"edge6\" class=\"edge\">\n<title>140649454192768&#45;&gt;140649454191424*</title>\n<path fill=\"none\" stroke=\"black\" d=\"M198.37,-73.5C208.05,-73.5 217.4,-73.5 225.8,-73.5\"/>\n<polygon fill=\"black\" stroke=\"black\" points=\"225.91,-77 235.91,-73.5 225.91,-70 225.91,-77\"/>\n</g>\n<!-- 140649454191424 -->\n<g id=\"node5\" class=\"node\">\n<title>140649454191424</title>\n<polygon fill=\"none\" stroke=\"black\" points=\"326,-55.5 326,-91.5 546,-91.5 546,-55.5 326,-55.5\"/>\n<text text-anchor=\"middle\" x=\"352.5\" y=\"-69.8\" font-family=\"Times,serif\" font-size=\"14.00\">x1*w1</text>\n<polyline fill=\"none\" stroke=\"black\" points=\"379,-55.5 379,-91.5 \"/>\n<text text-anchor=\"middle\" x=\"421.5\" y=\"-69.8\" font-family=\"Times,serif\" font-size=\"14.00\">data &#45;6.0000</text>\n<polyline fill=\"none\" stroke=\"black\" points=\"464,-55.5 464,-91.5 \"/>\n<text text-anchor=\"middle\" x=\"505\" y=\"-69.8\" font-family=\"Times,serif\" font-size=\"14.00\">grad 0.5000</text>\n</g>\n<!-- 140649454122896+ -->\n<g id=\"node12\" class=\"node\">\n<title>140649454122896+</title>\n<ellipse fill=\"none\" stroke=\"black\" cx=\"609\" cy=\"-100.5\" rx=\"27\" ry=\"18\"/>\n<text text-anchor=\"middle\" x=\"609\" y=\"-96.8\" font-family=\"Times,serif\" font-size=\"14.00\">+</text>\n</g>\n<!-- 140649454191424&#45;&gt;140649454122896+ -->\n<g id=\"edge11\" class=\"edge\">\n<title>140649454191424&#45;&gt;140649454122896+</title>\n<path fill=\"none\" stroke=\"black\" d=\"M546.27,-90.75C555.64,-92.23 564.6,-93.65 572.65,-94.92\"/>\n<polygon fill=\"black\" stroke=\"black\" points=\"572.23,-98.4 582.65,-96.5 573.32,-91.48 572.23,-98.4\"/>\n</g>\n<!-- 140649454191424*&#45;&gt;140649454191424 -->\n<g id=\"edge2\" class=\"edge\">\n<title>140649454191424*&#45;&gt;140649454191424</title>\n<path fill=\"none\" stroke=\"black\" d=\"M290.34,-73.5C297.77,-73.5 306.37,-73.5 315.6,-73.5\"/>\n<polygon fill=\"black\" stroke=\"black\" points=\"315.84,-77 325.84,-73.5 315.84,-70 315.84,-77\"/>\n</g>\n<!-- 140649454193488 -->\n<g id=\"node7\" class=\"node\">\n<title>140649454193488</title>\n<polygon fill=\"none\" stroke=\"black\" points=\"0,-0.5 0,-36.5 200,-36.5 200,-0.5 0,-0.5\"/>\n<text text-anchor=\"middle\" x=\"16.5\" y=\"-14.8\" font-family=\"Times,serif\" font-size=\"14.00\">w1</text>\n<polyline fill=\"none\" stroke=\"black\" points=\"33,-0.5 33,-36.5 \"/>\n<text text-anchor=\"middle\" x=\"75.5\" y=\"-14.8\" font-family=\"Times,serif\" font-size=\"14.00\">data &#45;3.0000</text>\n<polyline fill=\"none\" stroke=\"black\" points=\"118,-0.5 118,-36.5 \"/>\n<text text-anchor=\"middle\" x=\"159\" y=\"-14.8\" font-family=\"Times,serif\" font-size=\"14.00\">grad 1.0000</text>\n</g>\n<!-- 140649454193488&#45;&gt;140649454191424* -->\n<g id=\"edge8\" class=\"edge\">\n<title>140649454193488&#45;&gt;140649454191424*</title>\n<path fill=\"none\" stroke=\"black\" d=\"M169.28,-36.5C179.65,-39.61 190.16,-42.98 200,-46.5 210.28,-50.17 221.28,-54.74 231.11,-59.07\"/>\n<polygon fill=\"black\" stroke=\"black\" points=\"229.93,-62.37 240.48,-63.27 232.79,-55.99 229.93,-62.37\"/>\n</g>\n<!-- 140649454121312 -->\n<g id=\"node8\" class=\"node\">\n<title>140649454121312</title>\n<polygon fill=\"none\" stroke=\"black\" points=\"1071,-54.5 1071,-90.5 1256,-90.5 1256,-54.5 1071,-54.5\"/>\n<text text-anchor=\"middle\" x=\"1082.5\" y=\"-68.8\" font-family=\"Times,serif\" font-size=\"14.00\">n</text>\n<polyline fill=\"none\" stroke=\"black\" points=\"1094,-54.5 1094,-90.5 \"/>\n<text text-anchor=\"middle\" x=\"1134\" y=\"-68.8\" font-family=\"Times,serif\" font-size=\"14.00\">data 0.8814</text>\n<polyline fill=\"none\" stroke=\"black\" points=\"1174,-54.5 1174,-90.5 \"/>\n<text text-anchor=\"middle\" x=\"1215\" y=\"-68.8\" font-family=\"Times,serif\" font-size=\"14.00\">grad 0.5000</text>\n</g>\n<!-- 140649454121312&#45;&gt;140649454123088tanh -->\n<g id=\"edge10\" class=\"edge\">\n<title>140649454121312&#45;&gt;140649454123088tanh</title>\n<path fill=\"none\" stroke=\"black\" d=\"M1256.01,-72.5C1265.01,-72.5 1273.74,-72.5 1281.66,-72.5\"/>\n<polygon fill=\"black\" stroke=\"black\" points=\"1281.91,-76 1291.91,-72.5 1281.91,-69 1281.91,-76\"/>\n</g>\n<!-- 140649454121312+ -->\n<g id=\"node9\" class=\"node\">\n<title>140649454121312+</title>\n<ellipse fill=\"none\" stroke=\"black\" cx=\"1008\" cy=\"-72.5\" rx=\"27\" ry=\"18\"/>\n<text text-anchor=\"middle\" x=\"1008\" y=\"-68.8\" font-family=\"Times,serif\" font-size=\"14.00\">+</text>\n</g>\n<!-- 140649454121312+&#45;&gt;140649454121312 -->\n<g id=\"edge3\" class=\"edge\">\n<title>140649454121312+&#45;&gt;140649454121312</title>\n<path fill=\"none\" stroke=\"black\" d=\"M1035.04,-72.5C1042.58,-72.5 1051.3,-72.5 1060.57,-72.5\"/>\n<polygon fill=\"black\" stroke=\"black\" points=\"1060.81,-76 1070.81,-72.5 1060.81,-69 1060.81,-76\"/>\n</g>\n<!-- 140649454194016 -->\n<g id=\"node10\" class=\"node\">\n<title>140649454194016</title>\n<polygon fill=\"none\" stroke=\"black\" points=\"4,-110.5 4,-146.5 196,-146.5 196,-110.5 4,-110.5\"/>\n<text text-anchor=\"middle\" x=\"19\" y=\"-124.8\" font-family=\"Times,serif\" font-size=\"14.00\">x2</text>\n<polyline fill=\"none\" stroke=\"black\" points=\"34,-110.5 34,-146.5 \"/>\n<text text-anchor=\"middle\" x=\"74\" y=\"-124.8\" font-family=\"Times,serif\" font-size=\"14.00\">data 0.0000</text>\n<polyline fill=\"none\" stroke=\"black\" points=\"114,-110.5 114,-146.5 \"/>\n<text text-anchor=\"middle\" x=\"155\" y=\"-124.8\" font-family=\"Times,serif\" font-size=\"14.00\">grad 0.5000</text>\n</g>\n<!-- 140649454194016&#45;&gt;140649454124480* -->\n<g id=\"edge14\" class=\"edge\">\n<title>140649454194016&#45;&gt;140649454124480*</title>\n<path fill=\"none\" stroke=\"black\" d=\"M196.05,-128.5C206.52,-128.5 216.65,-128.5 225.71,-128.5\"/>\n<polygon fill=\"black\" stroke=\"black\" points=\"225.79,-132 235.79,-128.5 225.79,-125 225.79,-132\"/>\n</g>\n<!-- 140649454122896 -->\n<g id=\"node11\" class=\"node\">\n<title>140649454122896</title>\n<polygon fill=\"none\" stroke=\"black\" points=\"672,-82.5 672,-118.5 945,-118.5 945,-82.5 672,-82.5\"/>\n<text text-anchor=\"middle\" x=\"725\" y=\"-96.8\" font-family=\"Times,serif\" font-size=\"14.00\">x1*w1 + x2*w2</text>\n<polyline fill=\"none\" stroke=\"black\" points=\"778,-82.5 778,-118.5 \"/>\n<text text-anchor=\"middle\" x=\"820.5\" y=\"-96.8\" font-family=\"Times,serif\" font-size=\"14.00\">data &#45;6.0000</text>\n<polyline fill=\"none\" stroke=\"black\" points=\"863,-82.5 863,-118.5 \"/>\n<text text-anchor=\"middle\" x=\"904\" y=\"-96.8\" font-family=\"Times,serif\" font-size=\"14.00\">grad 0.5000</text>\n</g>\n<!-- 140649454122896&#45;&gt;140649454121312+ -->\n<g id=\"edge9\" class=\"edge\">\n<title>140649454122896&#45;&gt;140649454121312+</title>\n<path fill=\"none\" stroke=\"black\" d=\"M936.53,-82.49C949.09,-80.71 960.99,-79.02 971.3,-77.56\"/>\n<polygon fill=\"black\" stroke=\"black\" points=\"972.03,-80.99 981.44,-76.12 971.05,-74.06 972.03,-80.99\"/>\n</g>\n<!-- 140649454122896+&#45;&gt;140649454122896 -->\n<g id=\"edge4\" class=\"edge\">\n<title>140649454122896+&#45;&gt;140649454122896</title>\n<path fill=\"none\" stroke=\"black\" d=\"M636.23,-100.5C643.7,-100.5 652.41,-100.5 661.87,-100.5\"/>\n<polygon fill=\"black\" stroke=\"black\" points=\"661.98,-104 671.98,-100.5 661.98,-97 661.98,-104\"/>\n</g>\n<!-- 140649454193584 -->\n<g id=\"node13\" class=\"node\">\n<title>140649454193584</title>\n<polygon fill=\"none\" stroke=\"black\" points=\"716,-27.5 716,-63.5 901,-63.5 901,-27.5 716,-27.5\"/>\n<text text-anchor=\"middle\" x=\"727.5\" y=\"-41.8\" font-family=\"Times,serif\" font-size=\"14.00\">b</text>\n<polyline fill=\"none\" stroke=\"black\" points=\"739,-27.5 739,-63.5 \"/>\n<text text-anchor=\"middle\" x=\"779\" y=\"-41.8\" font-family=\"Times,serif\" font-size=\"14.00\">data 6.8814</text>\n<polyline fill=\"none\" stroke=\"black\" points=\"819,-27.5 819,-63.5 \"/>\n<text text-anchor=\"middle\" x=\"860\" y=\"-41.8\" font-family=\"Times,serif\" font-size=\"14.00\">grad 0.5000</text>\n</g>\n<!-- 140649454193584&#45;&gt;140649454121312+ -->\n<g id=\"edge12\" class=\"edge\">\n<title>140649454193584&#45;&gt;140649454121312+</title>\n<path fill=\"none\" stroke=\"black\" d=\"M901.02,-58.01C926,-61.43 951.59,-64.93 971.37,-67.63\"/>\n<polygon fill=\"black\" stroke=\"black\" points=\"971.05,-71.12 981.43,-69.01 972,-64.18 971.05,-71.12\"/>\n</g>\n<!-- 140649454124480 -->\n<g id=\"node14\" class=\"node\">\n<title>140649454124480</title>\n<polygon fill=\"none\" stroke=\"black\" points=\"328.5,-110.5 328.5,-146.5 543.5,-146.5 543.5,-110.5 328.5,-110.5\"/>\n<text text-anchor=\"middle\" x=\"355\" y=\"-124.8\" font-family=\"Times,serif\" font-size=\"14.00\">x2*w2</text>\n<polyline fill=\"none\" stroke=\"black\" points=\"381.5,-110.5 381.5,-146.5 \"/>\n<text text-anchor=\"middle\" x=\"421.5\" y=\"-124.8\" font-family=\"Times,serif\" font-size=\"14.00\">data 0.0000</text>\n<polyline fill=\"none\" stroke=\"black\" points=\"461.5,-110.5 461.5,-146.5 \"/>\n<text text-anchor=\"middle\" x=\"502.5\" y=\"-124.8\" font-family=\"Times,serif\" font-size=\"14.00\">grad 0.5000</text>\n</g>\n<!-- 140649454124480&#45;&gt;140649454122896+ -->\n<g id=\"edge7\" class=\"edge\">\n<title>140649454124480&#45;&gt;140649454122896+</title>\n<path fill=\"none\" stroke=\"black\" d=\"M543.84,-111.01C554.01,-109.34 563.76,-107.74 572.44,-106.32\"/>\n<polygon fill=\"black\" stroke=\"black\" points=\"573.17,-109.75 582.47,-104.68 572.04,-102.84 573.17,-109.75\"/>\n</g>\n<!-- 140649454124480*&#45;&gt;140649454124480 -->\n<g id=\"edge5\" class=\"edge\">\n<title>140649454124480*&#45;&gt;140649454124480</title>\n<path fill=\"none\" stroke=\"black\" d=\"M290.34,-128.5C298.51,-128.5 308.08,-128.5 318.36,-128.5\"/>\n<polygon fill=\"black\" stroke=\"black\" points=\"318.39,-132 328.39,-128.5 318.39,-125 318.39,-132\"/>\n</g>\n</g>\n</svg>\n",
      "text/plain": [
       "<graphviz.graphs.Digraph at 0x7feb80c039a0>"
      ]
     },
     "execution_count": 61,
     "metadata": {},
     "output_type": "execute_result"
    }
   ],
   "source": [
    "draw_dot(o)"
   ]
  },
  {
   "cell_type": "markdown",
   "metadata": {},
   "source": [
    "## Onto Automatic backpropagation\n",
    "Doing backpropagation manually all \n",
    "the time is obviously as \n",
    "ridiculous as it is tedious, so we\n",
    "will now implement a more automated\n",
    "way of performing this backpropagation\n",
    "\n",
    "**we will add a function that will do \n",
    "that bit of chain rule we have been doing\n",
    "manually up until this point**\n",
    "\n",
    "To do this we will go back to the Value object, \n",
    "and we will now store a backwards property\n",
    "\n",
    "We will set it to an empty function by default\n",
    "this will be used in cases such as leaf nodes\n",
    "where no backpropagation is to be done"
   ]
  },
  {
   "cell_type": "code",
   "execution_count": 47,
   "metadata": {},
   "outputs": [],
   "source": [
    "class Value:\n",
    "\n",
    "    def __init__(self, data, _children=(), _op='', label=''):\n",
    "        self.data = data\n",
    "        self.grad = 0.0\n",
    "        self._prev = set(_children)\n",
    "        self._op = _op\n",
    "        self.label = label\n",
    "        self._backward = lambda: None\n",
    "\n",
    "    def __repr__(self) -> str:\n",
    "        return f\"Value(data={self.data})\"\n",
    "\n",
    "    def __add__(self, other) -> str:\n",
    "        out = Value(self.data + other.data, (self, other), \"+\")\n",
    "        # this will be the function that propagates\n",
    "        # the gradient\n",
    "\n",
    "        def _backward():\n",
    "            # chain rule of derivative of additon and out gradient\n",
    "            self.grad = 1.0 * out.grad\n",
    "            other.grad = 1.0 * out.grad\n",
    "\n",
    "        out._backward = _backward\n",
    "        return out\n",
    "\n",
    "    def __mul__(self, other) -> str:\n",
    "        out = Value(self.data * other.data, (self, other), \"*\")\n",
    "\n",
    "        def _backward():\n",
    "            # chain rule of derivative of additon and out gradient\n",
    "            self.grad = other.data * out.grad\n",
    "            other.grad = self.grad * out.grad\n",
    "\n",
    "        out._backward = _backward\n",
    "        return out\n",
    "\n",
    "    def tanh(self):\n",
    "        x = self.data\n",
    "        t = (math.exp(2*x) - 1) / (math.exp(2*x) + 1)\n",
    "        # wrap the value in a tuple, and call the function tanh\n",
    "        out = Value(t, (self,), 'tanh')\n",
    "\n",
    "        def _backward():\n",
    "            # chain rule of derivative of additon and out gradient\n",
    "            self.grad = (1 - t**2) * out.grad\n",
    "\n",
    "        out._backward = _backward\n",
    "        return out\n"
   ]
  },
  {
   "cell_type": "markdown",
   "metadata": {},
   "source": [
    "So we have redefined our `Value` class\n",
    "Now if we redefine our expression, we can\n",
    "use our `backward()` method to perform our\n",
    "backpropagation"
   ]
  },
  {
   "cell_type": "code",
   "execution_count": 48,
   "metadata": {},
   "outputs": [
    {
     "data": {
      "image/svg+xml": "<?xml version=\"1.0\" encoding=\"UTF-8\" standalone=\"no\"?>\n<!DOCTYPE svg PUBLIC \"-//W3C//DTD SVG 1.1//EN\"\n \"http://www.w3.org/Graphics/SVG/1.1/DTD/svg11.dtd\">\n<!-- Generated by graphviz version 2.50.0 (0)\n -->\n<!-- Pages: 1 -->\n<svg width=\"1575pt\" height=\"210pt\"\n viewBox=\"0.00 0.00 1575.00 210.00\" xmlns=\"http://www.w3.org/2000/svg\" xmlns:xlink=\"http://www.w3.org/1999/xlink\">\n<g id=\"graph0\" class=\"graph\" transform=\"scale(1 1) rotate(0) translate(4 206)\">\n<polygon fill=\"white\" stroke=\"transparent\" points=\"-4,4 -4,-206 1571,-206 1571,4 -4,4\"/>\n<!-- 140649454192672 -->\n<g id=\"node1\" class=\"node\">\n<title>140649454192672</title>\n<polygon fill=\"none\" stroke=\"black\" points=\"2.5,-165.5 2.5,-201.5 197.5,-201.5 197.5,-165.5 2.5,-165.5\"/>\n<text text-anchor=\"middle\" x=\"19\" y=\"-179.8\" font-family=\"Times,serif\" font-size=\"14.00\">w2</text>\n<polyline fill=\"none\" stroke=\"black\" points=\"35.5,-165.5 35.5,-201.5 \"/>\n<text text-anchor=\"middle\" x=\"75.5\" y=\"-179.8\" font-family=\"Times,serif\" font-size=\"14.00\">data 1.0000</text>\n<polyline fill=\"none\" stroke=\"black\" points=\"115.5,-165.5 115.5,-201.5 \"/>\n<text text-anchor=\"middle\" x=\"156.5\" y=\"-179.8\" font-family=\"Times,serif\" font-size=\"14.00\">grad 0.0000</text>\n</g>\n<!-- 140649454124480* -->\n<g id=\"node15\" class=\"node\">\n<title>140649454124480*</title>\n<ellipse fill=\"none\" stroke=\"black\" cx=\"263\" cy=\"-128.5\" rx=\"27\" ry=\"18\"/>\n<text text-anchor=\"middle\" x=\"263\" y=\"-124.8\" font-family=\"Times,serif\" font-size=\"14.00\">*</text>\n</g>\n<!-- 140649454192672&#45;&gt;140649454124480* -->\n<g id=\"edge13\" class=\"edge\">\n<title>140649454192672&#45;&gt;140649454124480*</title>\n<path fill=\"none\" stroke=\"black\" d=\"M172.53,-165.44C181.84,-162.67 191.2,-159.67 200,-156.5 210.53,-152.71 221.75,-147.9 231.72,-143.33\"/>\n<polygon fill=\"black\" stroke=\"black\" points=\"233.25,-146.48 240.82,-139.07 230.28,-140.14 233.25,-146.48\"/>\n</g>\n<!-- 140649454123088 -->\n<g id=\"node2\" class=\"node\">\n<title>140649454123088</title>\n<polygon fill=\"none\" stroke=\"black\" points=\"1382,-54.5 1382,-90.5 1567,-90.5 1567,-54.5 1382,-54.5\"/>\n<text text-anchor=\"middle\" x=\"1393.5\" y=\"-68.8\" font-family=\"Times,serif\" font-size=\"14.00\">o</text>\n<polyline fill=\"none\" stroke=\"black\" points=\"1405,-54.5 1405,-90.5 \"/>\n<text text-anchor=\"middle\" x=\"1445\" y=\"-68.8\" font-family=\"Times,serif\" font-size=\"14.00\">data 0.7071</text>\n<polyline fill=\"none\" stroke=\"black\" points=\"1485,-54.5 1485,-90.5 \"/>\n<text text-anchor=\"middle\" x=\"1526\" y=\"-68.8\" font-family=\"Times,serif\" font-size=\"14.00\">grad 0.0000</text>\n</g>\n<!-- 140649454123088tanh -->\n<g id=\"node3\" class=\"node\">\n<title>140649454123088tanh</title>\n<ellipse fill=\"none\" stroke=\"black\" cx=\"1319\" cy=\"-72.5\" rx=\"27\" ry=\"18\"/>\n<text text-anchor=\"middle\" x=\"1319\" y=\"-68.8\" font-family=\"Times,serif\" font-size=\"14.00\">tanh</text>\n</g>\n<!-- 140649454123088tanh&#45;&gt;140649454123088 -->\n<g id=\"edge1\" class=\"edge\">\n<title>140649454123088tanh&#45;&gt;140649454123088</title>\n<path fill=\"none\" stroke=\"black\" d=\"M1346.04,-72.5C1353.58,-72.5 1362.3,-72.5 1371.57,-72.5\"/>\n<polygon fill=\"black\" stroke=\"black\" points=\"1371.81,-76 1381.81,-72.5 1371.81,-69 1371.81,-76\"/>\n</g>\n<!-- 140649454192768 -->\n<g id=\"node4\" class=\"node\">\n<title>140649454192768</title>\n<polygon fill=\"none\" stroke=\"black\" points=\"4,-55.5 4,-91.5 196,-91.5 196,-55.5 4,-55.5\"/>\n<text text-anchor=\"middle\" x=\"19\" y=\"-69.8\" font-family=\"Times,serif\" font-size=\"14.00\">x1</text>\n<polyline fill=\"none\" stroke=\"black\" points=\"34,-55.5 34,-91.5 \"/>\n<text text-anchor=\"middle\" x=\"74\" y=\"-69.8\" font-family=\"Times,serif\" font-size=\"14.00\">data 2.0000</text>\n<polyline fill=\"none\" stroke=\"black\" points=\"114,-55.5 114,-91.5 \"/>\n<text text-anchor=\"middle\" x=\"155\" y=\"-69.8\" font-family=\"Times,serif\" font-size=\"14.00\">grad 0.0000</text>\n</g>\n<!-- 140649454191424* -->\n<g id=\"node6\" class=\"node\">\n<title>140649454191424*</title>\n<ellipse fill=\"none\" stroke=\"black\" cx=\"263\" cy=\"-73.5\" rx=\"27\" ry=\"18\"/>\n<text text-anchor=\"middle\" x=\"263\" y=\"-69.8\" font-family=\"Times,serif\" font-size=\"14.00\">*</text>\n</g>\n<!-- 140649454192768&#45;&gt;140649454191424* -->\n<g id=\"edge6\" class=\"edge\">\n<title>140649454192768&#45;&gt;140649454191424*</title>\n<path fill=\"none\" stroke=\"black\" d=\"M196.05,-73.5C206.52,-73.5 216.65,-73.5 225.71,-73.5\"/>\n<polygon fill=\"black\" stroke=\"black\" points=\"225.79,-77 235.79,-73.5 225.79,-70 225.79,-77\"/>\n</g>\n<!-- 140649454191424 -->\n<g id=\"node5\" class=\"node\">\n<title>140649454191424</title>\n<polygon fill=\"none\" stroke=\"black\" points=\"326,-55.5 326,-91.5 546,-91.5 546,-55.5 326,-55.5\"/>\n<text text-anchor=\"middle\" x=\"352.5\" y=\"-69.8\" font-family=\"Times,serif\" font-size=\"14.00\">x1*w1</text>\n<polyline fill=\"none\" stroke=\"black\" points=\"379,-55.5 379,-91.5 \"/>\n<text text-anchor=\"middle\" x=\"421.5\" y=\"-69.8\" font-family=\"Times,serif\" font-size=\"14.00\">data &#45;6.0000</text>\n<polyline fill=\"none\" stroke=\"black\" points=\"464,-55.5 464,-91.5 \"/>\n<text text-anchor=\"middle\" x=\"505\" y=\"-69.8\" font-family=\"Times,serif\" font-size=\"14.00\">grad 0.0000</text>\n</g>\n<!-- 140649454122896+ -->\n<g id=\"node12\" class=\"node\">\n<title>140649454122896+</title>\n<ellipse fill=\"none\" stroke=\"black\" cx=\"609\" cy=\"-100.5\" rx=\"27\" ry=\"18\"/>\n<text text-anchor=\"middle\" x=\"609\" y=\"-96.8\" font-family=\"Times,serif\" font-size=\"14.00\">+</text>\n</g>\n<!-- 140649454191424&#45;&gt;140649454122896+ -->\n<g id=\"edge11\" class=\"edge\">\n<title>140649454191424&#45;&gt;140649454122896+</title>\n<path fill=\"none\" stroke=\"black\" d=\"M546.27,-90.75C555.64,-92.23 564.6,-93.65 572.65,-94.92\"/>\n<polygon fill=\"black\" stroke=\"black\" points=\"572.23,-98.4 582.65,-96.5 573.32,-91.48 572.23,-98.4\"/>\n</g>\n<!-- 140649454191424*&#45;&gt;140649454191424 -->\n<g id=\"edge2\" class=\"edge\">\n<title>140649454191424*&#45;&gt;140649454191424</title>\n<path fill=\"none\" stroke=\"black\" d=\"M290.34,-73.5C297.77,-73.5 306.37,-73.5 315.6,-73.5\"/>\n<polygon fill=\"black\" stroke=\"black\" points=\"315.84,-77 325.84,-73.5 315.84,-70 315.84,-77\"/>\n</g>\n<!-- 140649454193488 -->\n<g id=\"node7\" class=\"node\">\n<title>140649454193488</title>\n<polygon fill=\"none\" stroke=\"black\" points=\"0,-0.5 0,-36.5 200,-36.5 200,-0.5 0,-0.5\"/>\n<text text-anchor=\"middle\" x=\"16.5\" y=\"-14.8\" font-family=\"Times,serif\" font-size=\"14.00\">w1</text>\n<polyline fill=\"none\" stroke=\"black\" points=\"33,-0.5 33,-36.5 \"/>\n<text text-anchor=\"middle\" x=\"75.5\" y=\"-14.8\" font-family=\"Times,serif\" font-size=\"14.00\">data &#45;3.0000</text>\n<polyline fill=\"none\" stroke=\"black\" points=\"118,-0.5 118,-36.5 \"/>\n<text text-anchor=\"middle\" x=\"159\" y=\"-14.8\" font-family=\"Times,serif\" font-size=\"14.00\">grad 0.0000</text>\n</g>\n<!-- 140649454193488&#45;&gt;140649454191424* -->\n<g id=\"edge8\" class=\"edge\">\n<title>140649454193488&#45;&gt;140649454191424*</title>\n<path fill=\"none\" stroke=\"black\" d=\"M169.28,-36.5C179.65,-39.61 190.16,-42.98 200,-46.5 210.28,-50.17 221.28,-54.74 231.11,-59.07\"/>\n<polygon fill=\"black\" stroke=\"black\" points=\"229.93,-62.37 240.48,-63.27 232.79,-55.99 229.93,-62.37\"/>\n</g>\n<!-- 140649454121312 -->\n<g id=\"node8\" class=\"node\">\n<title>140649454121312</title>\n<polygon fill=\"none\" stroke=\"black\" points=\"1071,-54.5 1071,-90.5 1256,-90.5 1256,-54.5 1071,-54.5\"/>\n<text text-anchor=\"middle\" x=\"1082.5\" y=\"-68.8\" font-family=\"Times,serif\" font-size=\"14.00\">n</text>\n<polyline fill=\"none\" stroke=\"black\" points=\"1094,-54.5 1094,-90.5 \"/>\n<text text-anchor=\"middle\" x=\"1134\" y=\"-68.8\" font-family=\"Times,serif\" font-size=\"14.00\">data 0.8814</text>\n<polyline fill=\"none\" stroke=\"black\" points=\"1174,-54.5 1174,-90.5 \"/>\n<text text-anchor=\"middle\" x=\"1215\" y=\"-68.8\" font-family=\"Times,serif\" font-size=\"14.00\">grad 0.0000</text>\n</g>\n<!-- 140649454121312&#45;&gt;140649454123088tanh -->\n<g id=\"edge10\" class=\"edge\">\n<title>140649454121312&#45;&gt;140649454123088tanh</title>\n<path fill=\"none\" stroke=\"black\" d=\"M1256.01,-72.5C1265.01,-72.5 1273.74,-72.5 1281.66,-72.5\"/>\n<polygon fill=\"black\" stroke=\"black\" points=\"1281.91,-76 1291.91,-72.5 1281.91,-69 1281.91,-76\"/>\n</g>\n<!-- 140649454121312+ -->\n<g id=\"node9\" class=\"node\">\n<title>140649454121312+</title>\n<ellipse fill=\"none\" stroke=\"black\" cx=\"1008\" cy=\"-72.5\" rx=\"27\" ry=\"18\"/>\n<text text-anchor=\"middle\" x=\"1008\" y=\"-68.8\" font-family=\"Times,serif\" font-size=\"14.00\">+</text>\n</g>\n<!-- 140649454121312+&#45;&gt;140649454121312 -->\n<g id=\"edge3\" class=\"edge\">\n<title>140649454121312+&#45;&gt;140649454121312</title>\n<path fill=\"none\" stroke=\"black\" d=\"M1035.04,-72.5C1042.58,-72.5 1051.3,-72.5 1060.57,-72.5\"/>\n<polygon fill=\"black\" stroke=\"black\" points=\"1060.81,-76 1070.81,-72.5 1060.81,-69 1060.81,-76\"/>\n</g>\n<!-- 140649454194016 -->\n<g id=\"node10\" class=\"node\">\n<title>140649454194016</title>\n<polygon fill=\"none\" stroke=\"black\" points=\"4,-110.5 4,-146.5 196,-146.5 196,-110.5 4,-110.5\"/>\n<text text-anchor=\"middle\" x=\"19\" y=\"-124.8\" font-family=\"Times,serif\" font-size=\"14.00\">x2</text>\n<polyline fill=\"none\" stroke=\"black\" points=\"34,-110.5 34,-146.5 \"/>\n<text text-anchor=\"middle\" x=\"74\" y=\"-124.8\" font-family=\"Times,serif\" font-size=\"14.00\">data 0.0000</text>\n<polyline fill=\"none\" stroke=\"black\" points=\"114,-110.5 114,-146.5 \"/>\n<text text-anchor=\"middle\" x=\"155\" y=\"-124.8\" font-family=\"Times,serif\" font-size=\"14.00\">grad 0.0000</text>\n</g>\n<!-- 140649454194016&#45;&gt;140649454124480* -->\n<g id=\"edge14\" class=\"edge\">\n<title>140649454194016&#45;&gt;140649454124480*</title>\n<path fill=\"none\" stroke=\"black\" d=\"M196.05,-128.5C206.52,-128.5 216.65,-128.5 225.71,-128.5\"/>\n<polygon fill=\"black\" stroke=\"black\" points=\"225.79,-132 235.79,-128.5 225.79,-125 225.79,-132\"/>\n</g>\n<!-- 140649454122896 -->\n<g id=\"node11\" class=\"node\">\n<title>140649454122896</title>\n<polygon fill=\"none\" stroke=\"black\" points=\"672,-82.5 672,-118.5 945,-118.5 945,-82.5 672,-82.5\"/>\n<text text-anchor=\"middle\" x=\"725\" y=\"-96.8\" font-family=\"Times,serif\" font-size=\"14.00\">x1*w1 + x2*w2</text>\n<polyline fill=\"none\" stroke=\"black\" points=\"778,-82.5 778,-118.5 \"/>\n<text text-anchor=\"middle\" x=\"820.5\" y=\"-96.8\" font-family=\"Times,serif\" font-size=\"14.00\">data &#45;6.0000</text>\n<polyline fill=\"none\" stroke=\"black\" points=\"863,-82.5 863,-118.5 \"/>\n<text text-anchor=\"middle\" x=\"904\" y=\"-96.8\" font-family=\"Times,serif\" font-size=\"14.00\">grad 0.0000</text>\n</g>\n<!-- 140649454122896&#45;&gt;140649454121312+ -->\n<g id=\"edge9\" class=\"edge\">\n<title>140649454122896&#45;&gt;140649454121312+</title>\n<path fill=\"none\" stroke=\"black\" d=\"M936.53,-82.49C949.09,-80.71 960.99,-79.02 971.3,-77.56\"/>\n<polygon fill=\"black\" stroke=\"black\" points=\"972.03,-80.99 981.44,-76.12 971.05,-74.06 972.03,-80.99\"/>\n</g>\n<!-- 140649454122896+&#45;&gt;140649454122896 -->\n<g id=\"edge4\" class=\"edge\">\n<title>140649454122896+&#45;&gt;140649454122896</title>\n<path fill=\"none\" stroke=\"black\" d=\"M636.23,-100.5C643.7,-100.5 652.41,-100.5 661.87,-100.5\"/>\n<polygon fill=\"black\" stroke=\"black\" points=\"661.98,-104 671.98,-100.5 661.98,-97 661.98,-104\"/>\n</g>\n<!-- 140649454193584 -->\n<g id=\"node13\" class=\"node\">\n<title>140649454193584</title>\n<polygon fill=\"none\" stroke=\"black\" points=\"716,-27.5 716,-63.5 901,-63.5 901,-27.5 716,-27.5\"/>\n<text text-anchor=\"middle\" x=\"727.5\" y=\"-41.8\" font-family=\"Times,serif\" font-size=\"14.00\">b</text>\n<polyline fill=\"none\" stroke=\"black\" points=\"739,-27.5 739,-63.5 \"/>\n<text text-anchor=\"middle\" x=\"779\" y=\"-41.8\" font-family=\"Times,serif\" font-size=\"14.00\">data 6.8814</text>\n<polyline fill=\"none\" stroke=\"black\" points=\"819,-27.5 819,-63.5 \"/>\n<text text-anchor=\"middle\" x=\"860\" y=\"-41.8\" font-family=\"Times,serif\" font-size=\"14.00\">grad 0.0000</text>\n</g>\n<!-- 140649454193584&#45;&gt;140649454121312+ -->\n<g id=\"edge12\" class=\"edge\">\n<title>140649454193584&#45;&gt;140649454121312+</title>\n<path fill=\"none\" stroke=\"black\" d=\"M901.02,-58.01C926,-61.43 951.59,-64.93 971.37,-67.63\"/>\n<polygon fill=\"black\" stroke=\"black\" points=\"971.05,-71.12 981.43,-69.01 972,-64.18 971.05,-71.12\"/>\n</g>\n<!-- 140649454124480 -->\n<g id=\"node14\" class=\"node\">\n<title>140649454124480</title>\n<polygon fill=\"none\" stroke=\"black\" points=\"328.5,-110.5 328.5,-146.5 543.5,-146.5 543.5,-110.5 328.5,-110.5\"/>\n<text text-anchor=\"middle\" x=\"355\" y=\"-124.8\" font-family=\"Times,serif\" font-size=\"14.00\">x2*w2</text>\n<polyline fill=\"none\" stroke=\"black\" points=\"381.5,-110.5 381.5,-146.5 \"/>\n<text text-anchor=\"middle\" x=\"421.5\" y=\"-124.8\" font-family=\"Times,serif\" font-size=\"14.00\">data 0.0000</text>\n<polyline fill=\"none\" stroke=\"black\" points=\"461.5,-110.5 461.5,-146.5 \"/>\n<text text-anchor=\"middle\" x=\"502.5\" y=\"-124.8\" font-family=\"Times,serif\" font-size=\"14.00\">grad 0.0000</text>\n</g>\n<!-- 140649454124480&#45;&gt;140649454122896+ -->\n<g id=\"edge7\" class=\"edge\">\n<title>140649454124480&#45;&gt;140649454122896+</title>\n<path fill=\"none\" stroke=\"black\" d=\"M543.84,-111.01C554.01,-109.34 563.76,-107.74 572.44,-106.32\"/>\n<polygon fill=\"black\" stroke=\"black\" points=\"573.17,-109.75 582.47,-104.68 572.04,-102.84 573.17,-109.75\"/>\n</g>\n<!-- 140649454124480*&#45;&gt;140649454124480 -->\n<g id=\"edge5\" class=\"edge\">\n<title>140649454124480*&#45;&gt;140649454124480</title>\n<path fill=\"none\" stroke=\"black\" d=\"M290.34,-128.5C298.51,-128.5 308.08,-128.5 318.36,-128.5\"/>\n<polygon fill=\"black\" stroke=\"black\" points=\"318.39,-132 328.39,-128.5 318.39,-125 318.39,-132\"/>\n</g>\n</g>\n</svg>\n",
      "text/plain": [
       "<graphviz.graphs.Digraph at 0x7feb80bd84f0>"
      ]
     },
     "execution_count": 48,
     "metadata": {},
     "output_type": "execute_result"
    }
   ],
   "source": [
    "# inputs x1, x2\n",
    "x1 = Value(2.0, label='x1')\n",
    "x2 = Value(0.0, label='x2')\n",
    "\n",
    "# weights w1, w2\n",
    "w1 = Value(-3.0, label='w1')\n",
    "w2 = Value(1.0, label='w2')\n",
    "\n",
    "# bias of the nueron\n",
    "b = Value(6.8813735870195432, label='b')\n",
    "\n",
    "# now according to the model above\n",
    "# we need to multiply, x1 with w1\n",
    "# and x2 with w2\n",
    "x1w1 = x1*w1\n",
    "x1w1.label = 'x1*w1'\n",
    "x2w2 = x2*w2\n",
    "x2w2.label = 'x2*w2'\n",
    "\n",
    "# we do this in small steps so we\n",
    "# can maintain pointers to each\n",
    "# in this example\n",
    "x1w1x2w2 = x1w1 + x2w2\n",
    "x1w1x2w2.label = 'x1*w1 + x2*w2'\n",
    "\n",
    "# Finally we need to add the bias\n",
    "# on top of that\n",
    "n = x1w1x2w2 + b\n",
    "n.label = 'n'\n",
    "\n",
    "# now we can add our tanh\n",
    "o = n.tanh()\n",
    "o.label = 'o'\n",
    "draw_dot(o)\n"
   ]
  },
  {
   "cell_type": "code",
   "execution_count": 49,
   "metadata": {},
   "outputs": [
    {
     "data": {
      "image/svg+xml": "<?xml version=\"1.0\" encoding=\"UTF-8\" standalone=\"no\"?>\n<!DOCTYPE svg PUBLIC \"-//W3C//DTD SVG 1.1//EN\"\n \"http://www.w3.org/Graphics/SVG/1.1/DTD/svg11.dtd\">\n<!-- Generated by graphviz version 2.50.0 (0)\n -->\n<!-- Pages: 1 -->\n<svg width=\"1575pt\" height=\"210pt\"\n viewBox=\"0.00 0.00 1575.00 210.00\" xmlns=\"http://www.w3.org/2000/svg\" xmlns:xlink=\"http://www.w3.org/1999/xlink\">\n<g id=\"graph0\" class=\"graph\" transform=\"scale(1 1) rotate(0) translate(4 206)\">\n<polygon fill=\"white\" stroke=\"transparent\" points=\"-4,4 -4,-206 1571,-206 1571,4 -4,4\"/>\n<!-- 140649454192672 -->\n<g id=\"node1\" class=\"node\">\n<title>140649454192672</title>\n<polygon fill=\"none\" stroke=\"black\" points=\"2.5,-165.5 2.5,-201.5 197.5,-201.5 197.5,-165.5 2.5,-165.5\"/>\n<text text-anchor=\"middle\" x=\"19\" y=\"-179.8\" font-family=\"Times,serif\" font-size=\"14.00\">w2</text>\n<polyline fill=\"none\" stroke=\"black\" points=\"35.5,-165.5 35.5,-201.5 \"/>\n<text text-anchor=\"middle\" x=\"75.5\" y=\"-179.8\" font-family=\"Times,serif\" font-size=\"14.00\">data 1.0000</text>\n<polyline fill=\"none\" stroke=\"black\" points=\"115.5,-165.5 115.5,-201.5 \"/>\n<text text-anchor=\"middle\" x=\"156.5\" y=\"-179.8\" font-family=\"Times,serif\" font-size=\"14.00\">grad 0.0000</text>\n</g>\n<!-- 140649454124480* -->\n<g id=\"node15\" class=\"node\">\n<title>140649454124480*</title>\n<ellipse fill=\"none\" stroke=\"black\" cx=\"263\" cy=\"-128.5\" rx=\"27\" ry=\"18\"/>\n<text text-anchor=\"middle\" x=\"263\" y=\"-124.8\" font-family=\"Times,serif\" font-size=\"14.00\">*</text>\n</g>\n<!-- 140649454192672&#45;&gt;140649454124480* -->\n<g id=\"edge13\" class=\"edge\">\n<title>140649454192672&#45;&gt;140649454124480*</title>\n<path fill=\"none\" stroke=\"black\" d=\"M172.53,-165.44C181.84,-162.67 191.2,-159.67 200,-156.5 210.53,-152.71 221.75,-147.9 231.72,-143.33\"/>\n<polygon fill=\"black\" stroke=\"black\" points=\"233.25,-146.48 240.82,-139.07 230.28,-140.14 233.25,-146.48\"/>\n</g>\n<!-- 140649454123088 -->\n<g id=\"node2\" class=\"node\">\n<title>140649454123088</title>\n<polygon fill=\"none\" stroke=\"black\" points=\"1382,-54.5 1382,-90.5 1567,-90.5 1567,-54.5 1382,-54.5\"/>\n<text text-anchor=\"middle\" x=\"1393.5\" y=\"-68.8\" font-family=\"Times,serif\" font-size=\"14.00\">o</text>\n<polyline fill=\"none\" stroke=\"black\" points=\"1405,-54.5 1405,-90.5 \"/>\n<text text-anchor=\"middle\" x=\"1445\" y=\"-68.8\" font-family=\"Times,serif\" font-size=\"14.00\">data 0.7071</text>\n<polyline fill=\"none\" stroke=\"black\" points=\"1485,-54.5 1485,-90.5 \"/>\n<text text-anchor=\"middle\" x=\"1526\" y=\"-68.8\" font-family=\"Times,serif\" font-size=\"14.00\">grad 1.0000</text>\n</g>\n<!-- 140649454123088tanh -->\n<g id=\"node3\" class=\"node\">\n<title>140649454123088tanh</title>\n<ellipse fill=\"none\" stroke=\"black\" cx=\"1319\" cy=\"-72.5\" rx=\"27\" ry=\"18\"/>\n<text text-anchor=\"middle\" x=\"1319\" y=\"-68.8\" font-family=\"Times,serif\" font-size=\"14.00\">tanh</text>\n</g>\n<!-- 140649454123088tanh&#45;&gt;140649454123088 -->\n<g id=\"edge1\" class=\"edge\">\n<title>140649454123088tanh&#45;&gt;140649454123088</title>\n<path fill=\"none\" stroke=\"black\" d=\"M1346.04,-72.5C1353.58,-72.5 1362.3,-72.5 1371.57,-72.5\"/>\n<polygon fill=\"black\" stroke=\"black\" points=\"1371.81,-76 1381.81,-72.5 1371.81,-69 1371.81,-76\"/>\n</g>\n<!-- 140649454192768 -->\n<g id=\"node4\" class=\"node\">\n<title>140649454192768</title>\n<polygon fill=\"none\" stroke=\"black\" points=\"4,-55.5 4,-91.5 196,-91.5 196,-55.5 4,-55.5\"/>\n<text text-anchor=\"middle\" x=\"19\" y=\"-69.8\" font-family=\"Times,serif\" font-size=\"14.00\">x1</text>\n<polyline fill=\"none\" stroke=\"black\" points=\"34,-55.5 34,-91.5 \"/>\n<text text-anchor=\"middle\" x=\"74\" y=\"-69.8\" font-family=\"Times,serif\" font-size=\"14.00\">data 2.0000</text>\n<polyline fill=\"none\" stroke=\"black\" points=\"114,-55.5 114,-91.5 \"/>\n<text text-anchor=\"middle\" x=\"155\" y=\"-69.8\" font-family=\"Times,serif\" font-size=\"14.00\">grad 0.0000</text>\n</g>\n<!-- 140649454191424* -->\n<g id=\"node6\" class=\"node\">\n<title>140649454191424*</title>\n<ellipse fill=\"none\" stroke=\"black\" cx=\"263\" cy=\"-73.5\" rx=\"27\" ry=\"18\"/>\n<text text-anchor=\"middle\" x=\"263\" y=\"-69.8\" font-family=\"Times,serif\" font-size=\"14.00\">*</text>\n</g>\n<!-- 140649454192768&#45;&gt;140649454191424* -->\n<g id=\"edge6\" class=\"edge\">\n<title>140649454192768&#45;&gt;140649454191424*</title>\n<path fill=\"none\" stroke=\"black\" d=\"M196.05,-73.5C206.52,-73.5 216.65,-73.5 225.71,-73.5\"/>\n<polygon fill=\"black\" stroke=\"black\" points=\"225.79,-77 235.79,-73.5 225.79,-70 225.79,-77\"/>\n</g>\n<!-- 140649454191424 -->\n<g id=\"node5\" class=\"node\">\n<title>140649454191424</title>\n<polygon fill=\"none\" stroke=\"black\" points=\"326,-55.5 326,-91.5 546,-91.5 546,-55.5 326,-55.5\"/>\n<text text-anchor=\"middle\" x=\"352.5\" y=\"-69.8\" font-family=\"Times,serif\" font-size=\"14.00\">x1*w1</text>\n<polyline fill=\"none\" stroke=\"black\" points=\"379,-55.5 379,-91.5 \"/>\n<text text-anchor=\"middle\" x=\"421.5\" y=\"-69.8\" font-family=\"Times,serif\" font-size=\"14.00\">data &#45;6.0000</text>\n<polyline fill=\"none\" stroke=\"black\" points=\"464,-55.5 464,-91.5 \"/>\n<text text-anchor=\"middle\" x=\"505\" y=\"-69.8\" font-family=\"Times,serif\" font-size=\"14.00\">grad 0.0000</text>\n</g>\n<!-- 140649454122896+ -->\n<g id=\"node12\" class=\"node\">\n<title>140649454122896+</title>\n<ellipse fill=\"none\" stroke=\"black\" cx=\"609\" cy=\"-100.5\" rx=\"27\" ry=\"18\"/>\n<text text-anchor=\"middle\" x=\"609\" y=\"-96.8\" font-family=\"Times,serif\" font-size=\"14.00\">+</text>\n</g>\n<!-- 140649454191424&#45;&gt;140649454122896+ -->\n<g id=\"edge11\" class=\"edge\">\n<title>140649454191424&#45;&gt;140649454122896+</title>\n<path fill=\"none\" stroke=\"black\" d=\"M546.27,-90.75C555.64,-92.23 564.6,-93.65 572.65,-94.92\"/>\n<polygon fill=\"black\" stroke=\"black\" points=\"572.23,-98.4 582.65,-96.5 573.32,-91.48 572.23,-98.4\"/>\n</g>\n<!-- 140649454191424*&#45;&gt;140649454191424 -->\n<g id=\"edge2\" class=\"edge\">\n<title>140649454191424*&#45;&gt;140649454191424</title>\n<path fill=\"none\" stroke=\"black\" d=\"M290.34,-73.5C297.77,-73.5 306.37,-73.5 315.6,-73.5\"/>\n<polygon fill=\"black\" stroke=\"black\" points=\"315.84,-77 325.84,-73.5 315.84,-70 315.84,-77\"/>\n</g>\n<!-- 140649454193488 -->\n<g id=\"node7\" class=\"node\">\n<title>140649454193488</title>\n<polygon fill=\"none\" stroke=\"black\" points=\"0,-0.5 0,-36.5 200,-36.5 200,-0.5 0,-0.5\"/>\n<text text-anchor=\"middle\" x=\"16.5\" y=\"-14.8\" font-family=\"Times,serif\" font-size=\"14.00\">w1</text>\n<polyline fill=\"none\" stroke=\"black\" points=\"33,-0.5 33,-36.5 \"/>\n<text text-anchor=\"middle\" x=\"75.5\" y=\"-14.8\" font-family=\"Times,serif\" font-size=\"14.00\">data &#45;3.0000</text>\n<polyline fill=\"none\" stroke=\"black\" points=\"118,-0.5 118,-36.5 \"/>\n<text text-anchor=\"middle\" x=\"159\" y=\"-14.8\" font-family=\"Times,serif\" font-size=\"14.00\">grad 0.0000</text>\n</g>\n<!-- 140649454193488&#45;&gt;140649454191424* -->\n<g id=\"edge8\" class=\"edge\">\n<title>140649454193488&#45;&gt;140649454191424*</title>\n<path fill=\"none\" stroke=\"black\" d=\"M169.28,-36.5C179.65,-39.61 190.16,-42.98 200,-46.5 210.28,-50.17 221.28,-54.74 231.11,-59.07\"/>\n<polygon fill=\"black\" stroke=\"black\" points=\"229.93,-62.37 240.48,-63.27 232.79,-55.99 229.93,-62.37\"/>\n</g>\n<!-- 140649454121312 -->\n<g id=\"node8\" class=\"node\">\n<title>140649454121312</title>\n<polygon fill=\"none\" stroke=\"black\" points=\"1071,-54.5 1071,-90.5 1256,-90.5 1256,-54.5 1071,-54.5\"/>\n<text text-anchor=\"middle\" x=\"1082.5\" y=\"-68.8\" font-family=\"Times,serif\" font-size=\"14.00\">n</text>\n<polyline fill=\"none\" stroke=\"black\" points=\"1094,-54.5 1094,-90.5 \"/>\n<text text-anchor=\"middle\" x=\"1134\" y=\"-68.8\" font-family=\"Times,serif\" font-size=\"14.00\">data 0.8814</text>\n<polyline fill=\"none\" stroke=\"black\" points=\"1174,-54.5 1174,-90.5 \"/>\n<text text-anchor=\"middle\" x=\"1215\" y=\"-68.8\" font-family=\"Times,serif\" font-size=\"14.00\">grad 0.5000</text>\n</g>\n<!-- 140649454121312&#45;&gt;140649454123088tanh -->\n<g id=\"edge10\" class=\"edge\">\n<title>140649454121312&#45;&gt;140649454123088tanh</title>\n<path fill=\"none\" stroke=\"black\" d=\"M1256.01,-72.5C1265.01,-72.5 1273.74,-72.5 1281.66,-72.5\"/>\n<polygon fill=\"black\" stroke=\"black\" points=\"1281.91,-76 1291.91,-72.5 1281.91,-69 1281.91,-76\"/>\n</g>\n<!-- 140649454121312+ -->\n<g id=\"node9\" class=\"node\">\n<title>140649454121312+</title>\n<ellipse fill=\"none\" stroke=\"black\" cx=\"1008\" cy=\"-72.5\" rx=\"27\" ry=\"18\"/>\n<text text-anchor=\"middle\" x=\"1008\" y=\"-68.8\" font-family=\"Times,serif\" font-size=\"14.00\">+</text>\n</g>\n<!-- 140649454121312+&#45;&gt;140649454121312 -->\n<g id=\"edge3\" class=\"edge\">\n<title>140649454121312+&#45;&gt;140649454121312</title>\n<path fill=\"none\" stroke=\"black\" d=\"M1035.04,-72.5C1042.58,-72.5 1051.3,-72.5 1060.57,-72.5\"/>\n<polygon fill=\"black\" stroke=\"black\" points=\"1060.81,-76 1070.81,-72.5 1060.81,-69 1060.81,-76\"/>\n</g>\n<!-- 140649454194016 -->\n<g id=\"node10\" class=\"node\">\n<title>140649454194016</title>\n<polygon fill=\"none\" stroke=\"black\" points=\"4,-110.5 4,-146.5 196,-146.5 196,-110.5 4,-110.5\"/>\n<text text-anchor=\"middle\" x=\"19\" y=\"-124.8\" font-family=\"Times,serif\" font-size=\"14.00\">x2</text>\n<polyline fill=\"none\" stroke=\"black\" points=\"34,-110.5 34,-146.5 \"/>\n<text text-anchor=\"middle\" x=\"74\" y=\"-124.8\" font-family=\"Times,serif\" font-size=\"14.00\">data 0.0000</text>\n<polyline fill=\"none\" stroke=\"black\" points=\"114,-110.5 114,-146.5 \"/>\n<text text-anchor=\"middle\" x=\"155\" y=\"-124.8\" font-family=\"Times,serif\" font-size=\"14.00\">grad 0.0000</text>\n</g>\n<!-- 140649454194016&#45;&gt;140649454124480* -->\n<g id=\"edge14\" class=\"edge\">\n<title>140649454194016&#45;&gt;140649454124480*</title>\n<path fill=\"none\" stroke=\"black\" d=\"M196.05,-128.5C206.52,-128.5 216.65,-128.5 225.71,-128.5\"/>\n<polygon fill=\"black\" stroke=\"black\" points=\"225.79,-132 235.79,-128.5 225.79,-125 225.79,-132\"/>\n</g>\n<!-- 140649454122896 -->\n<g id=\"node11\" class=\"node\">\n<title>140649454122896</title>\n<polygon fill=\"none\" stroke=\"black\" points=\"672,-82.5 672,-118.5 945,-118.5 945,-82.5 672,-82.5\"/>\n<text text-anchor=\"middle\" x=\"725\" y=\"-96.8\" font-family=\"Times,serif\" font-size=\"14.00\">x1*w1 + x2*w2</text>\n<polyline fill=\"none\" stroke=\"black\" points=\"778,-82.5 778,-118.5 \"/>\n<text text-anchor=\"middle\" x=\"820.5\" y=\"-96.8\" font-family=\"Times,serif\" font-size=\"14.00\">data &#45;6.0000</text>\n<polyline fill=\"none\" stroke=\"black\" points=\"863,-82.5 863,-118.5 \"/>\n<text text-anchor=\"middle\" x=\"904\" y=\"-96.8\" font-family=\"Times,serif\" font-size=\"14.00\">grad 0.0000</text>\n</g>\n<!-- 140649454122896&#45;&gt;140649454121312+ -->\n<g id=\"edge9\" class=\"edge\">\n<title>140649454122896&#45;&gt;140649454121312+</title>\n<path fill=\"none\" stroke=\"black\" d=\"M936.53,-82.49C949.09,-80.71 960.99,-79.02 971.3,-77.56\"/>\n<polygon fill=\"black\" stroke=\"black\" points=\"972.03,-80.99 981.44,-76.12 971.05,-74.06 972.03,-80.99\"/>\n</g>\n<!-- 140649454122896+&#45;&gt;140649454122896 -->\n<g id=\"edge4\" class=\"edge\">\n<title>140649454122896+&#45;&gt;140649454122896</title>\n<path fill=\"none\" stroke=\"black\" d=\"M636.23,-100.5C643.7,-100.5 652.41,-100.5 661.87,-100.5\"/>\n<polygon fill=\"black\" stroke=\"black\" points=\"661.98,-104 671.98,-100.5 661.98,-97 661.98,-104\"/>\n</g>\n<!-- 140649454193584 -->\n<g id=\"node13\" class=\"node\">\n<title>140649454193584</title>\n<polygon fill=\"none\" stroke=\"black\" points=\"716,-27.5 716,-63.5 901,-63.5 901,-27.5 716,-27.5\"/>\n<text text-anchor=\"middle\" x=\"727.5\" y=\"-41.8\" font-family=\"Times,serif\" font-size=\"14.00\">b</text>\n<polyline fill=\"none\" stroke=\"black\" points=\"739,-27.5 739,-63.5 \"/>\n<text text-anchor=\"middle\" x=\"779\" y=\"-41.8\" font-family=\"Times,serif\" font-size=\"14.00\">data 6.8814</text>\n<polyline fill=\"none\" stroke=\"black\" points=\"819,-27.5 819,-63.5 \"/>\n<text text-anchor=\"middle\" x=\"860\" y=\"-41.8\" font-family=\"Times,serif\" font-size=\"14.00\">grad 0.0000</text>\n</g>\n<!-- 140649454193584&#45;&gt;140649454121312+ -->\n<g id=\"edge12\" class=\"edge\">\n<title>140649454193584&#45;&gt;140649454121312+</title>\n<path fill=\"none\" stroke=\"black\" d=\"M901.02,-58.01C926,-61.43 951.59,-64.93 971.37,-67.63\"/>\n<polygon fill=\"black\" stroke=\"black\" points=\"971.05,-71.12 981.43,-69.01 972,-64.18 971.05,-71.12\"/>\n</g>\n<!-- 140649454124480 -->\n<g id=\"node14\" class=\"node\">\n<title>140649454124480</title>\n<polygon fill=\"none\" stroke=\"black\" points=\"328.5,-110.5 328.5,-146.5 543.5,-146.5 543.5,-110.5 328.5,-110.5\"/>\n<text text-anchor=\"middle\" x=\"355\" y=\"-124.8\" font-family=\"Times,serif\" font-size=\"14.00\">x2*w2</text>\n<polyline fill=\"none\" stroke=\"black\" points=\"381.5,-110.5 381.5,-146.5 \"/>\n<text text-anchor=\"middle\" x=\"421.5\" y=\"-124.8\" font-family=\"Times,serif\" font-size=\"14.00\">data 0.0000</text>\n<polyline fill=\"none\" stroke=\"black\" points=\"461.5,-110.5 461.5,-146.5 \"/>\n<text text-anchor=\"middle\" x=\"502.5\" y=\"-124.8\" font-family=\"Times,serif\" font-size=\"14.00\">grad 0.0000</text>\n</g>\n<!-- 140649454124480&#45;&gt;140649454122896+ -->\n<g id=\"edge7\" class=\"edge\">\n<title>140649454124480&#45;&gt;140649454122896+</title>\n<path fill=\"none\" stroke=\"black\" d=\"M543.84,-111.01C554.01,-109.34 563.76,-107.74 572.44,-106.32\"/>\n<polygon fill=\"black\" stroke=\"black\" points=\"573.17,-109.75 582.47,-104.68 572.04,-102.84 573.17,-109.75\"/>\n</g>\n<!-- 140649454124480*&#45;&gt;140649454124480 -->\n<g id=\"edge5\" class=\"edge\">\n<title>140649454124480*&#45;&gt;140649454124480</title>\n<path fill=\"none\" stroke=\"black\" d=\"M290.34,-128.5C298.51,-128.5 308.08,-128.5 318.36,-128.5\"/>\n<polygon fill=\"black\" stroke=\"black\" points=\"318.39,-132 328.39,-128.5 318.39,-125 318.39,-132\"/>\n</g>\n</g>\n</svg>\n",
      "text/plain": [
       "<graphviz.graphs.Digraph at 0x7feb80c149a0>"
      ]
     },
     "execution_count": 49,
     "metadata": {},
     "output_type": "execute_result"
    }
   ],
   "source": [
    "# we must set o.grad to 1.0 \n",
    "# to initialize our gradients\n",
    "# to propagate our gradients backwards\n",
    "o.grad = 1.0\n",
    "o._backward()\n",
    "draw_dot(o)"
   ]
  },
  {
   "cell_type": "markdown",
   "metadata": {},
   "source": [
    "We can see our backward function worked! Woop woop!"
   ]
  },
  {
   "cell_type": "code",
   "execution_count": 50,
   "metadata": {},
   "outputs": [
    {
     "data": {
      "image/svg+xml": "<?xml version=\"1.0\" encoding=\"UTF-8\" standalone=\"no\"?>\n<!DOCTYPE svg PUBLIC \"-//W3C//DTD SVG 1.1//EN\"\n \"http://www.w3.org/Graphics/SVG/1.1/DTD/svg11.dtd\">\n<!-- Generated by graphviz version 2.50.0 (0)\n -->\n<!-- Pages: 1 -->\n<svg width=\"1579pt\" height=\"210pt\"\n viewBox=\"0.00 0.00 1579.00 210.00\" xmlns=\"http://www.w3.org/2000/svg\" xmlns:xlink=\"http://www.w3.org/1999/xlink\">\n<g id=\"graph0\" class=\"graph\" transform=\"scale(1 1) rotate(0) translate(4 206)\">\n<polygon fill=\"white\" stroke=\"transparent\" points=\"-4,4 -4,-206 1575,-206 1575,4 -4,4\"/>\n<!-- 140649454192672 -->\n<g id=\"node1\" class=\"node\">\n<title>140649454192672</title>\n<polygon fill=\"none\" stroke=\"black\" points=\"4.5,-165.5 4.5,-201.5 199.5,-201.5 199.5,-165.5 4.5,-165.5\"/>\n<text text-anchor=\"middle\" x=\"21\" y=\"-179.8\" font-family=\"Times,serif\" font-size=\"14.00\">w2</text>\n<polyline fill=\"none\" stroke=\"black\" points=\"37.5,-165.5 37.5,-201.5 \"/>\n<text text-anchor=\"middle\" x=\"77.5\" y=\"-179.8\" font-family=\"Times,serif\" font-size=\"14.00\">data 1.0000</text>\n<polyline fill=\"none\" stroke=\"black\" points=\"117.5,-165.5 117.5,-201.5 \"/>\n<text text-anchor=\"middle\" x=\"158.5\" y=\"-179.8\" font-family=\"Times,serif\" font-size=\"14.00\">grad 0.2500</text>\n</g>\n<!-- 140649454124480* -->\n<g id=\"node15\" class=\"node\">\n<title>140649454124480*</title>\n<ellipse fill=\"none\" stroke=\"black\" cx=\"267\" cy=\"-128.5\" rx=\"27\" ry=\"18\"/>\n<text text-anchor=\"middle\" x=\"267\" y=\"-124.8\" font-family=\"Times,serif\" font-size=\"14.00\">*</text>\n</g>\n<!-- 140649454192672&#45;&gt;140649454124480* -->\n<g id=\"edge13\" class=\"edge\">\n<title>140649454192672&#45;&gt;140649454124480*</title>\n<path fill=\"none\" stroke=\"black\" d=\"M176.26,-165.43C185.67,-162.67 195.11,-159.67 204,-156.5 214.54,-152.74 225.77,-147.93 235.73,-143.36\"/>\n<polygon fill=\"black\" stroke=\"black\" points=\"237.26,-146.51 244.83,-139.09 234.29,-140.17 237.26,-146.51\"/>\n</g>\n<!-- 140649454123088 -->\n<g id=\"node2\" class=\"node\">\n<title>140649454123088</title>\n<polygon fill=\"none\" stroke=\"black\" points=\"1386,-54.5 1386,-90.5 1571,-90.5 1571,-54.5 1386,-54.5\"/>\n<text text-anchor=\"middle\" x=\"1397.5\" y=\"-68.8\" font-family=\"Times,serif\" font-size=\"14.00\">o</text>\n<polyline fill=\"none\" stroke=\"black\" points=\"1409,-54.5 1409,-90.5 \"/>\n<text text-anchor=\"middle\" x=\"1449\" y=\"-68.8\" font-family=\"Times,serif\" font-size=\"14.00\">data 0.7071</text>\n<polyline fill=\"none\" stroke=\"black\" points=\"1489,-54.5 1489,-90.5 \"/>\n<text text-anchor=\"middle\" x=\"1530\" y=\"-68.8\" font-family=\"Times,serif\" font-size=\"14.00\">grad 1.0000</text>\n</g>\n<!-- 140649454123088tanh -->\n<g id=\"node3\" class=\"node\">\n<title>140649454123088tanh</title>\n<ellipse fill=\"none\" stroke=\"black\" cx=\"1323\" cy=\"-72.5\" rx=\"27\" ry=\"18\"/>\n<text text-anchor=\"middle\" x=\"1323\" y=\"-68.8\" font-family=\"Times,serif\" font-size=\"14.00\">tanh</text>\n</g>\n<!-- 140649454123088tanh&#45;&gt;140649454123088 -->\n<g id=\"edge1\" class=\"edge\">\n<title>140649454123088tanh&#45;&gt;140649454123088</title>\n<path fill=\"none\" stroke=\"black\" d=\"M1350.04,-72.5C1357.58,-72.5 1366.3,-72.5 1375.57,-72.5\"/>\n<polygon fill=\"black\" stroke=\"black\" points=\"1375.81,-76 1385.81,-72.5 1375.81,-69 1375.81,-76\"/>\n</g>\n<!-- 140649454192768 -->\n<g id=\"node4\" class=\"node\">\n<title>140649454192768</title>\n<polygon fill=\"none\" stroke=\"black\" points=\"4,-55.5 4,-91.5 200,-91.5 200,-55.5 4,-55.5\"/>\n<text text-anchor=\"middle\" x=\"19\" y=\"-69.8\" font-family=\"Times,serif\" font-size=\"14.00\">x1</text>\n<polyline fill=\"none\" stroke=\"black\" points=\"34,-55.5 34,-91.5 \"/>\n<text text-anchor=\"middle\" x=\"74\" y=\"-69.8\" font-family=\"Times,serif\" font-size=\"14.00\">data 2.0000</text>\n<polyline fill=\"none\" stroke=\"black\" points=\"114,-55.5 114,-91.5 \"/>\n<text text-anchor=\"middle\" x=\"157\" y=\"-69.8\" font-family=\"Times,serif\" font-size=\"14.00\">grad &#45;1.5000</text>\n</g>\n<!-- 140649454191424* -->\n<g id=\"node6\" class=\"node\">\n<title>140649454191424*</title>\n<ellipse fill=\"none\" stroke=\"black\" cx=\"267\" cy=\"-73.5\" rx=\"27\" ry=\"18\"/>\n<text text-anchor=\"middle\" x=\"267\" y=\"-69.8\" font-family=\"Times,serif\" font-size=\"14.00\">*</text>\n</g>\n<!-- 140649454192768&#45;&gt;140649454191424* -->\n<g id=\"edge6\" class=\"edge\">\n<title>140649454192768&#45;&gt;140649454191424*</title>\n<path fill=\"none\" stroke=\"black\" d=\"M200.17,-73.5C210.66,-73.5 220.79,-73.5 229.82,-73.5\"/>\n<polygon fill=\"black\" stroke=\"black\" points=\"229.89,-77 239.89,-73.5 229.89,-70 229.89,-77\"/>\n</g>\n<!-- 140649454191424 -->\n<g id=\"node5\" class=\"node\">\n<title>140649454191424</title>\n<polygon fill=\"none\" stroke=\"black\" points=\"330,-55.5 330,-91.5 550,-91.5 550,-55.5 330,-55.5\"/>\n<text text-anchor=\"middle\" x=\"356.5\" y=\"-69.8\" font-family=\"Times,serif\" font-size=\"14.00\">x1*w1</text>\n<polyline fill=\"none\" stroke=\"black\" points=\"383,-55.5 383,-91.5 \"/>\n<text text-anchor=\"middle\" x=\"425.5\" y=\"-69.8\" font-family=\"Times,serif\" font-size=\"14.00\">data &#45;6.0000</text>\n<polyline fill=\"none\" stroke=\"black\" points=\"468,-55.5 468,-91.5 \"/>\n<text text-anchor=\"middle\" x=\"509\" y=\"-69.8\" font-family=\"Times,serif\" font-size=\"14.00\">grad 0.5000</text>\n</g>\n<!-- 140649454122896+ -->\n<g id=\"node12\" class=\"node\">\n<title>140649454122896+</title>\n<ellipse fill=\"none\" stroke=\"black\" cx=\"613\" cy=\"-100.5\" rx=\"27\" ry=\"18\"/>\n<text text-anchor=\"middle\" x=\"613\" y=\"-96.8\" font-family=\"Times,serif\" font-size=\"14.00\">+</text>\n</g>\n<!-- 140649454191424&#45;&gt;140649454122896+ -->\n<g id=\"edge11\" class=\"edge\">\n<title>140649454191424&#45;&gt;140649454122896+</title>\n<path fill=\"none\" stroke=\"black\" d=\"M550.27,-90.75C559.64,-92.23 568.6,-93.65 576.65,-94.92\"/>\n<polygon fill=\"black\" stroke=\"black\" points=\"576.23,-98.4 586.65,-96.5 577.32,-91.48 576.23,-98.4\"/>\n</g>\n<!-- 140649454191424*&#45;&gt;140649454191424 -->\n<g id=\"edge2\" class=\"edge\">\n<title>140649454191424*&#45;&gt;140649454191424</title>\n<path fill=\"none\" stroke=\"black\" d=\"M294.34,-73.5C301.77,-73.5 310.37,-73.5 319.6,-73.5\"/>\n<polygon fill=\"black\" stroke=\"black\" points=\"319.84,-77 329.84,-73.5 319.84,-70 319.84,-77\"/>\n</g>\n<!-- 140649454193488 -->\n<g id=\"node7\" class=\"node\">\n<title>140649454193488</title>\n<polygon fill=\"none\" stroke=\"black\" points=\"0,-0.5 0,-36.5 204,-36.5 204,-0.5 0,-0.5\"/>\n<text text-anchor=\"middle\" x=\"16.5\" y=\"-14.8\" font-family=\"Times,serif\" font-size=\"14.00\">w1</text>\n<polyline fill=\"none\" stroke=\"black\" points=\"33,-0.5 33,-36.5 \"/>\n<text text-anchor=\"middle\" x=\"75.5\" y=\"-14.8\" font-family=\"Times,serif\" font-size=\"14.00\">data &#45;3.0000</text>\n<polyline fill=\"none\" stroke=\"black\" points=\"118,-0.5 118,-36.5 \"/>\n<text text-anchor=\"middle\" x=\"161\" y=\"-14.8\" font-family=\"Times,serif\" font-size=\"14.00\">grad &#45;0.7500</text>\n</g>\n<!-- 140649454193488&#45;&gt;140649454191424* -->\n<g id=\"edge8\" class=\"edge\">\n<title>140649454193488&#45;&gt;140649454191424*</title>\n<path fill=\"none\" stroke=\"black\" d=\"M172.94,-36.51C183.43,-39.61 194.05,-42.97 204,-46.5 214.29,-50.15 225.29,-54.71 235.12,-59.04\"/>\n<polygon fill=\"black\" stroke=\"black\" points=\"233.94,-62.34 244.49,-63.25 236.8,-55.96 233.94,-62.34\"/>\n</g>\n<!-- 140649454121312 -->\n<g id=\"node8\" class=\"node\">\n<title>140649454121312</title>\n<polygon fill=\"none\" stroke=\"black\" points=\"1075,-54.5 1075,-90.5 1260,-90.5 1260,-54.5 1075,-54.5\"/>\n<text text-anchor=\"middle\" x=\"1086.5\" y=\"-68.8\" font-family=\"Times,serif\" font-size=\"14.00\">n</text>\n<polyline fill=\"none\" stroke=\"black\" points=\"1098,-54.5 1098,-90.5 \"/>\n<text text-anchor=\"middle\" x=\"1138\" y=\"-68.8\" font-family=\"Times,serif\" font-size=\"14.00\">data 0.8814</text>\n<polyline fill=\"none\" stroke=\"black\" points=\"1178,-54.5 1178,-90.5 \"/>\n<text text-anchor=\"middle\" x=\"1219\" y=\"-68.8\" font-family=\"Times,serif\" font-size=\"14.00\">grad 0.5000</text>\n</g>\n<!-- 140649454121312&#45;&gt;140649454123088tanh -->\n<g id=\"edge10\" class=\"edge\">\n<title>140649454121312&#45;&gt;140649454123088tanh</title>\n<path fill=\"none\" stroke=\"black\" d=\"M1260.01,-72.5C1269.01,-72.5 1277.74,-72.5 1285.66,-72.5\"/>\n<polygon fill=\"black\" stroke=\"black\" points=\"1285.91,-76 1295.91,-72.5 1285.91,-69 1285.91,-76\"/>\n</g>\n<!-- 140649454121312+ -->\n<g id=\"node9\" class=\"node\">\n<title>140649454121312+</title>\n<ellipse fill=\"none\" stroke=\"black\" cx=\"1012\" cy=\"-72.5\" rx=\"27\" ry=\"18\"/>\n<text text-anchor=\"middle\" x=\"1012\" y=\"-68.8\" font-family=\"Times,serif\" font-size=\"14.00\">+</text>\n</g>\n<!-- 140649454121312+&#45;&gt;140649454121312 -->\n<g id=\"edge3\" class=\"edge\">\n<title>140649454121312+&#45;&gt;140649454121312</title>\n<path fill=\"none\" stroke=\"black\" d=\"M1039.04,-72.5C1046.58,-72.5 1055.3,-72.5 1064.57,-72.5\"/>\n<polygon fill=\"black\" stroke=\"black\" points=\"1064.81,-76 1074.81,-72.5 1064.81,-69 1064.81,-76\"/>\n</g>\n<!-- 140649454194016 -->\n<g id=\"node10\" class=\"node\">\n<title>140649454194016</title>\n<polygon fill=\"none\" stroke=\"black\" points=\"6,-110.5 6,-146.5 198,-146.5 198,-110.5 6,-110.5\"/>\n<text text-anchor=\"middle\" x=\"21\" y=\"-124.8\" font-family=\"Times,serif\" font-size=\"14.00\">x2</text>\n<polyline fill=\"none\" stroke=\"black\" points=\"36,-110.5 36,-146.5 \"/>\n<text text-anchor=\"middle\" x=\"76\" y=\"-124.8\" font-family=\"Times,serif\" font-size=\"14.00\">data 0.0000</text>\n<polyline fill=\"none\" stroke=\"black\" points=\"116,-110.5 116,-146.5 \"/>\n<text text-anchor=\"middle\" x=\"157\" y=\"-124.8\" font-family=\"Times,serif\" font-size=\"14.00\">grad 0.5000</text>\n</g>\n<!-- 140649454194016&#45;&gt;140649454124480* -->\n<g id=\"edge14\" class=\"edge\">\n<title>140649454194016&#45;&gt;140649454124480*</title>\n<path fill=\"none\" stroke=\"black\" d=\"M198.29,-128.5C209.32,-128.5 220.01,-128.5 229.51,-128.5\"/>\n<polygon fill=\"black\" stroke=\"black\" points=\"229.69,-132 239.69,-128.5 229.69,-125 229.69,-132\"/>\n</g>\n<!-- 140649454122896 -->\n<g id=\"node11\" class=\"node\">\n<title>140649454122896</title>\n<polygon fill=\"none\" stroke=\"black\" points=\"676,-82.5 676,-118.5 949,-118.5 949,-82.5 676,-82.5\"/>\n<text text-anchor=\"middle\" x=\"729\" y=\"-96.8\" font-family=\"Times,serif\" font-size=\"14.00\">x1*w1 + x2*w2</text>\n<polyline fill=\"none\" stroke=\"black\" points=\"782,-82.5 782,-118.5 \"/>\n<text text-anchor=\"middle\" x=\"824.5\" y=\"-96.8\" font-family=\"Times,serif\" font-size=\"14.00\">data &#45;6.0000</text>\n<polyline fill=\"none\" stroke=\"black\" points=\"867,-82.5 867,-118.5 \"/>\n<text text-anchor=\"middle\" x=\"908\" y=\"-96.8\" font-family=\"Times,serif\" font-size=\"14.00\">grad 0.5000</text>\n</g>\n<!-- 140649454122896&#45;&gt;140649454121312+ -->\n<g id=\"edge9\" class=\"edge\">\n<title>140649454122896&#45;&gt;140649454121312+</title>\n<path fill=\"none\" stroke=\"black\" d=\"M940.53,-82.49C953.09,-80.71 964.99,-79.02 975.3,-77.56\"/>\n<polygon fill=\"black\" stroke=\"black\" points=\"976.03,-80.99 985.44,-76.12 975.05,-74.06 976.03,-80.99\"/>\n</g>\n<!-- 140649454122896+&#45;&gt;140649454122896 -->\n<g id=\"edge4\" class=\"edge\">\n<title>140649454122896+&#45;&gt;140649454122896</title>\n<path fill=\"none\" stroke=\"black\" d=\"M640.23,-100.5C647.7,-100.5 656.41,-100.5 665.87,-100.5\"/>\n<polygon fill=\"black\" stroke=\"black\" points=\"665.98,-104 675.98,-100.5 665.98,-97 665.98,-104\"/>\n</g>\n<!-- 140649454193584 -->\n<g id=\"node13\" class=\"node\">\n<title>140649454193584</title>\n<polygon fill=\"none\" stroke=\"black\" points=\"720,-27.5 720,-63.5 905,-63.5 905,-27.5 720,-27.5\"/>\n<text text-anchor=\"middle\" x=\"731.5\" y=\"-41.8\" font-family=\"Times,serif\" font-size=\"14.00\">b</text>\n<polyline fill=\"none\" stroke=\"black\" points=\"743,-27.5 743,-63.5 \"/>\n<text text-anchor=\"middle\" x=\"783\" y=\"-41.8\" font-family=\"Times,serif\" font-size=\"14.00\">data 6.8814</text>\n<polyline fill=\"none\" stroke=\"black\" points=\"823,-27.5 823,-63.5 \"/>\n<text text-anchor=\"middle\" x=\"864\" y=\"-41.8\" font-family=\"Times,serif\" font-size=\"14.00\">grad 0.5000</text>\n</g>\n<!-- 140649454193584&#45;&gt;140649454121312+ -->\n<g id=\"edge12\" class=\"edge\">\n<title>140649454193584&#45;&gt;140649454121312+</title>\n<path fill=\"none\" stroke=\"black\" d=\"M905.02,-58.01C930,-61.43 955.59,-64.93 975.37,-67.63\"/>\n<polygon fill=\"black\" stroke=\"black\" points=\"975.05,-71.12 985.43,-69.01 976,-64.18 975.05,-71.12\"/>\n</g>\n<!-- 140649454124480 -->\n<g id=\"node14\" class=\"node\">\n<title>140649454124480</title>\n<polygon fill=\"none\" stroke=\"black\" points=\"332.5,-110.5 332.5,-146.5 547.5,-146.5 547.5,-110.5 332.5,-110.5\"/>\n<text text-anchor=\"middle\" x=\"359\" y=\"-124.8\" font-family=\"Times,serif\" font-size=\"14.00\">x2*w2</text>\n<polyline fill=\"none\" stroke=\"black\" points=\"385.5,-110.5 385.5,-146.5 \"/>\n<text text-anchor=\"middle\" x=\"425.5\" y=\"-124.8\" font-family=\"Times,serif\" font-size=\"14.00\">data 0.0000</text>\n<polyline fill=\"none\" stroke=\"black\" points=\"465.5,-110.5 465.5,-146.5 \"/>\n<text text-anchor=\"middle\" x=\"506.5\" y=\"-124.8\" font-family=\"Times,serif\" font-size=\"14.00\">grad 0.5000</text>\n</g>\n<!-- 140649454124480&#45;&gt;140649454122896+ -->\n<g id=\"edge7\" class=\"edge\">\n<title>140649454124480&#45;&gt;140649454122896+</title>\n<path fill=\"none\" stroke=\"black\" d=\"M547.84,-111.01C558.01,-109.34 567.76,-107.74 576.44,-106.32\"/>\n<polygon fill=\"black\" stroke=\"black\" points=\"577.17,-109.75 586.47,-104.68 576.04,-102.84 577.17,-109.75\"/>\n</g>\n<!-- 140649454124480*&#45;&gt;140649454124480 -->\n<g id=\"edge5\" class=\"edge\">\n<title>140649454124480*&#45;&gt;140649454124480</title>\n<path fill=\"none\" stroke=\"black\" d=\"M294.34,-128.5C302.51,-128.5 312.08,-128.5 322.36,-128.5\"/>\n<polygon fill=\"black\" stroke=\"black\" points=\"322.39,-132 332.39,-128.5 322.39,-125 322.39,-132\"/>\n</g>\n</g>\n</svg>\n",
      "text/plain": [
       "<graphviz.graphs.Digraph at 0x7feb80bf5760>"
      ]
     },
     "execution_count": 50,
     "metadata": {},
     "output_type": "execute_result"
    }
   ],
   "source": [
    "o.grad = 1.0\n",
    "o._backward()\n",
    "n._backward()\n",
    "# this is a leaf node so will do nothing\n",
    "b._backward()\n",
    "x1w1x2w2._backward()\n",
    "x2w2._backward()\n",
    "x1w1._backward()\n",
    "draw_dot(o)"
   ]
  },
  {
   "cell_type": "markdown",
   "metadata": {},
   "source": [
    "Okay now we can see the only thing\n",
    "left to do is to prevent ourselves\n",
    "having to call backwards manually\n",
    "on each node"
   ]
  },
  {
   "cell_type": "markdown",
   "metadata": {},
   "source": [
    "To go backwardds through the\n",
    "expression means we never want to\n",
    "call `._backward()` on any one\n",
    "node before we have called it on the expressions preceeding it\n",
    "\n",
    "This ordering of graphs can be \n",
    "achieved with something called\n",
    "**topological sort**"
   ]
  },
  {
   "cell_type": "markdown",
   "metadata": {},
   "source": [
    "### Topological sort"
   ]
  },
  {
   "cell_type": "markdown",
   "metadata": {},
   "source": [
    "Here is a description"
   ]
  },
  {
   "cell_type": "markdown",
   "metadata": {},
   "source": [
    "The code required to build out topological sort is like the following"
   ]
  },
  {
   "cell_type": "code",
   "execution_count": 51,
   "metadata": {},
   "outputs": [
    {
     "data": {
      "text/plain": [
       "[Value(data=1.0),\n",
       " Value(data=0.0),\n",
       " Value(data=0.0),\n",
       " Value(data=2.0),\n",
       " Value(data=-3.0),\n",
       " Value(data=-6.0),\n",
       " Value(data=-6.0),\n",
       " Value(data=6.881373587019543),\n",
       " Value(data=0.8813735870195432),\n",
       " Value(data=0.7071067811865476)]"
      ]
     },
     "execution_count": 51,
     "metadata": {},
     "output_type": "execute_result"
    }
   ],
   "source": [
    "topo = []\n",
    "visited = set()\n",
    "\n",
    "\n",
    "def build_topo(v):\n",
    "    if v not in visited:\n",
    "        visited.add(v)\n",
    "        for child in v._prev:\n",
    "            build_topo(child)\n",
    "        topo.append(v)\n",
    "\n",
    "\n",
    "build_topo(o)\n",
    "topo\n"
   ]
  },
  {
   "cell_type": "markdown",
   "metadata": {},
   "source": [
    "This builds our graph into a list sorted topilogicaly\n",
    "\n",
    "Finally we need to put it all together"
   ]
  },
  {
   "cell_type": "code",
   "execution_count": 52,
   "metadata": {},
   "outputs": [
    {
     "data": {
      "image/svg+xml": "<?xml version=\"1.0\" encoding=\"UTF-8\" standalone=\"no\"?>\n<!DOCTYPE svg PUBLIC \"-//W3C//DTD SVG 1.1//EN\"\n \"http://www.w3.org/Graphics/SVG/1.1/DTD/svg11.dtd\">\n<!-- Generated by graphviz version 2.50.0 (0)\n -->\n<!-- Pages: 1 -->\n<svg width=\"1579pt\" height=\"210pt\"\n viewBox=\"0.00 0.00 1579.00 210.00\" xmlns=\"http://www.w3.org/2000/svg\" xmlns:xlink=\"http://www.w3.org/1999/xlink\">\n<g id=\"graph0\" class=\"graph\" transform=\"scale(1 1) rotate(0) translate(4 206)\">\n<polygon fill=\"white\" stroke=\"transparent\" points=\"-4,4 -4,-206 1575,-206 1575,4 -4,4\"/>\n<!-- 140649454192672 -->\n<g id=\"node1\" class=\"node\">\n<title>140649454192672</title>\n<polygon fill=\"none\" stroke=\"black\" points=\"4.5,-165.5 4.5,-201.5 199.5,-201.5 199.5,-165.5 4.5,-165.5\"/>\n<text text-anchor=\"middle\" x=\"21\" y=\"-179.8\" font-family=\"Times,serif\" font-size=\"14.00\">w2</text>\n<polyline fill=\"none\" stroke=\"black\" points=\"37.5,-165.5 37.5,-201.5 \"/>\n<text text-anchor=\"middle\" x=\"77.5\" y=\"-179.8\" font-family=\"Times,serif\" font-size=\"14.00\">data 1.0000</text>\n<polyline fill=\"none\" stroke=\"black\" points=\"117.5,-165.5 117.5,-201.5 \"/>\n<text text-anchor=\"middle\" x=\"158.5\" y=\"-179.8\" font-family=\"Times,serif\" font-size=\"14.00\">grad 0.2500</text>\n</g>\n<!-- 140649454124480* -->\n<g id=\"node15\" class=\"node\">\n<title>140649454124480*</title>\n<ellipse fill=\"none\" stroke=\"black\" cx=\"267\" cy=\"-128.5\" rx=\"27\" ry=\"18\"/>\n<text text-anchor=\"middle\" x=\"267\" y=\"-124.8\" font-family=\"Times,serif\" font-size=\"14.00\">*</text>\n</g>\n<!-- 140649454192672&#45;&gt;140649454124480* -->\n<g id=\"edge13\" class=\"edge\">\n<title>140649454192672&#45;&gt;140649454124480*</title>\n<path fill=\"none\" stroke=\"black\" d=\"M176.26,-165.43C185.67,-162.67 195.11,-159.67 204,-156.5 214.54,-152.74 225.77,-147.93 235.73,-143.36\"/>\n<polygon fill=\"black\" stroke=\"black\" points=\"237.26,-146.51 244.83,-139.09 234.29,-140.17 237.26,-146.51\"/>\n</g>\n<!-- 140649454123088 -->\n<g id=\"node2\" class=\"node\">\n<title>140649454123088</title>\n<polygon fill=\"none\" stroke=\"black\" points=\"1386,-54.5 1386,-90.5 1571,-90.5 1571,-54.5 1386,-54.5\"/>\n<text text-anchor=\"middle\" x=\"1397.5\" y=\"-68.8\" font-family=\"Times,serif\" font-size=\"14.00\">o</text>\n<polyline fill=\"none\" stroke=\"black\" points=\"1409,-54.5 1409,-90.5 \"/>\n<text text-anchor=\"middle\" x=\"1449\" y=\"-68.8\" font-family=\"Times,serif\" font-size=\"14.00\">data 0.7071</text>\n<polyline fill=\"none\" stroke=\"black\" points=\"1489,-54.5 1489,-90.5 \"/>\n<text text-anchor=\"middle\" x=\"1530\" y=\"-68.8\" font-family=\"Times,serif\" font-size=\"14.00\">grad 1.0000</text>\n</g>\n<!-- 140649454123088tanh -->\n<g id=\"node3\" class=\"node\">\n<title>140649454123088tanh</title>\n<ellipse fill=\"none\" stroke=\"black\" cx=\"1323\" cy=\"-72.5\" rx=\"27\" ry=\"18\"/>\n<text text-anchor=\"middle\" x=\"1323\" y=\"-68.8\" font-family=\"Times,serif\" font-size=\"14.00\">tanh</text>\n</g>\n<!-- 140649454123088tanh&#45;&gt;140649454123088 -->\n<g id=\"edge1\" class=\"edge\">\n<title>140649454123088tanh&#45;&gt;140649454123088</title>\n<path fill=\"none\" stroke=\"black\" d=\"M1350.04,-72.5C1357.58,-72.5 1366.3,-72.5 1375.57,-72.5\"/>\n<polygon fill=\"black\" stroke=\"black\" points=\"1375.81,-76 1385.81,-72.5 1375.81,-69 1375.81,-76\"/>\n</g>\n<!-- 140649454192768 -->\n<g id=\"node4\" class=\"node\">\n<title>140649454192768</title>\n<polygon fill=\"none\" stroke=\"black\" points=\"4,-55.5 4,-91.5 200,-91.5 200,-55.5 4,-55.5\"/>\n<text text-anchor=\"middle\" x=\"19\" y=\"-69.8\" font-family=\"Times,serif\" font-size=\"14.00\">x1</text>\n<polyline fill=\"none\" stroke=\"black\" points=\"34,-55.5 34,-91.5 \"/>\n<text text-anchor=\"middle\" x=\"74\" y=\"-69.8\" font-family=\"Times,serif\" font-size=\"14.00\">data 2.0000</text>\n<polyline fill=\"none\" stroke=\"black\" points=\"114,-55.5 114,-91.5 \"/>\n<text text-anchor=\"middle\" x=\"157\" y=\"-69.8\" font-family=\"Times,serif\" font-size=\"14.00\">grad &#45;1.5000</text>\n</g>\n<!-- 140649454191424* -->\n<g id=\"node6\" class=\"node\">\n<title>140649454191424*</title>\n<ellipse fill=\"none\" stroke=\"black\" cx=\"267\" cy=\"-73.5\" rx=\"27\" ry=\"18\"/>\n<text text-anchor=\"middle\" x=\"267\" y=\"-69.8\" font-family=\"Times,serif\" font-size=\"14.00\">*</text>\n</g>\n<!-- 140649454192768&#45;&gt;140649454191424* -->\n<g id=\"edge6\" class=\"edge\">\n<title>140649454192768&#45;&gt;140649454191424*</title>\n<path fill=\"none\" stroke=\"black\" d=\"M200.17,-73.5C210.66,-73.5 220.79,-73.5 229.82,-73.5\"/>\n<polygon fill=\"black\" stroke=\"black\" points=\"229.89,-77 239.89,-73.5 229.89,-70 229.89,-77\"/>\n</g>\n<!-- 140649454191424 -->\n<g id=\"node5\" class=\"node\">\n<title>140649454191424</title>\n<polygon fill=\"none\" stroke=\"black\" points=\"330,-55.5 330,-91.5 550,-91.5 550,-55.5 330,-55.5\"/>\n<text text-anchor=\"middle\" x=\"356.5\" y=\"-69.8\" font-family=\"Times,serif\" font-size=\"14.00\">x1*w1</text>\n<polyline fill=\"none\" stroke=\"black\" points=\"383,-55.5 383,-91.5 \"/>\n<text text-anchor=\"middle\" x=\"425.5\" y=\"-69.8\" font-family=\"Times,serif\" font-size=\"14.00\">data &#45;6.0000</text>\n<polyline fill=\"none\" stroke=\"black\" points=\"468,-55.5 468,-91.5 \"/>\n<text text-anchor=\"middle\" x=\"509\" y=\"-69.8\" font-family=\"Times,serif\" font-size=\"14.00\">grad 0.5000</text>\n</g>\n<!-- 140649454122896+ -->\n<g id=\"node12\" class=\"node\">\n<title>140649454122896+</title>\n<ellipse fill=\"none\" stroke=\"black\" cx=\"613\" cy=\"-100.5\" rx=\"27\" ry=\"18\"/>\n<text text-anchor=\"middle\" x=\"613\" y=\"-96.8\" font-family=\"Times,serif\" font-size=\"14.00\">+</text>\n</g>\n<!-- 140649454191424&#45;&gt;140649454122896+ -->\n<g id=\"edge11\" class=\"edge\">\n<title>140649454191424&#45;&gt;140649454122896+</title>\n<path fill=\"none\" stroke=\"black\" d=\"M550.27,-90.75C559.64,-92.23 568.6,-93.65 576.65,-94.92\"/>\n<polygon fill=\"black\" stroke=\"black\" points=\"576.23,-98.4 586.65,-96.5 577.32,-91.48 576.23,-98.4\"/>\n</g>\n<!-- 140649454191424*&#45;&gt;140649454191424 -->\n<g id=\"edge2\" class=\"edge\">\n<title>140649454191424*&#45;&gt;140649454191424</title>\n<path fill=\"none\" stroke=\"black\" d=\"M294.34,-73.5C301.77,-73.5 310.37,-73.5 319.6,-73.5\"/>\n<polygon fill=\"black\" stroke=\"black\" points=\"319.84,-77 329.84,-73.5 319.84,-70 319.84,-77\"/>\n</g>\n<!-- 140649454193488 -->\n<g id=\"node7\" class=\"node\">\n<title>140649454193488</title>\n<polygon fill=\"none\" stroke=\"black\" points=\"0,-0.5 0,-36.5 204,-36.5 204,-0.5 0,-0.5\"/>\n<text text-anchor=\"middle\" x=\"16.5\" y=\"-14.8\" font-family=\"Times,serif\" font-size=\"14.00\">w1</text>\n<polyline fill=\"none\" stroke=\"black\" points=\"33,-0.5 33,-36.5 \"/>\n<text text-anchor=\"middle\" x=\"75.5\" y=\"-14.8\" font-family=\"Times,serif\" font-size=\"14.00\">data &#45;3.0000</text>\n<polyline fill=\"none\" stroke=\"black\" points=\"118,-0.5 118,-36.5 \"/>\n<text text-anchor=\"middle\" x=\"161\" y=\"-14.8\" font-family=\"Times,serif\" font-size=\"14.00\">grad &#45;0.7500</text>\n</g>\n<!-- 140649454193488&#45;&gt;140649454191424* -->\n<g id=\"edge8\" class=\"edge\">\n<title>140649454193488&#45;&gt;140649454191424*</title>\n<path fill=\"none\" stroke=\"black\" d=\"M172.94,-36.51C183.43,-39.61 194.05,-42.97 204,-46.5 214.29,-50.15 225.29,-54.71 235.12,-59.04\"/>\n<polygon fill=\"black\" stroke=\"black\" points=\"233.94,-62.34 244.49,-63.25 236.8,-55.96 233.94,-62.34\"/>\n</g>\n<!-- 140649454121312 -->\n<g id=\"node8\" class=\"node\">\n<title>140649454121312</title>\n<polygon fill=\"none\" stroke=\"black\" points=\"1075,-54.5 1075,-90.5 1260,-90.5 1260,-54.5 1075,-54.5\"/>\n<text text-anchor=\"middle\" x=\"1086.5\" y=\"-68.8\" font-family=\"Times,serif\" font-size=\"14.00\">n</text>\n<polyline fill=\"none\" stroke=\"black\" points=\"1098,-54.5 1098,-90.5 \"/>\n<text text-anchor=\"middle\" x=\"1138\" y=\"-68.8\" font-family=\"Times,serif\" font-size=\"14.00\">data 0.8814</text>\n<polyline fill=\"none\" stroke=\"black\" points=\"1178,-54.5 1178,-90.5 \"/>\n<text text-anchor=\"middle\" x=\"1219\" y=\"-68.8\" font-family=\"Times,serif\" font-size=\"14.00\">grad 0.5000</text>\n</g>\n<!-- 140649454121312&#45;&gt;140649454123088tanh -->\n<g id=\"edge10\" class=\"edge\">\n<title>140649454121312&#45;&gt;140649454123088tanh</title>\n<path fill=\"none\" stroke=\"black\" d=\"M1260.01,-72.5C1269.01,-72.5 1277.74,-72.5 1285.66,-72.5\"/>\n<polygon fill=\"black\" stroke=\"black\" points=\"1285.91,-76 1295.91,-72.5 1285.91,-69 1285.91,-76\"/>\n</g>\n<!-- 140649454121312+ -->\n<g id=\"node9\" class=\"node\">\n<title>140649454121312+</title>\n<ellipse fill=\"none\" stroke=\"black\" cx=\"1012\" cy=\"-72.5\" rx=\"27\" ry=\"18\"/>\n<text text-anchor=\"middle\" x=\"1012\" y=\"-68.8\" font-family=\"Times,serif\" font-size=\"14.00\">+</text>\n</g>\n<!-- 140649454121312+&#45;&gt;140649454121312 -->\n<g id=\"edge3\" class=\"edge\">\n<title>140649454121312+&#45;&gt;140649454121312</title>\n<path fill=\"none\" stroke=\"black\" d=\"M1039.04,-72.5C1046.58,-72.5 1055.3,-72.5 1064.57,-72.5\"/>\n<polygon fill=\"black\" stroke=\"black\" points=\"1064.81,-76 1074.81,-72.5 1064.81,-69 1064.81,-76\"/>\n</g>\n<!-- 140649454194016 -->\n<g id=\"node10\" class=\"node\">\n<title>140649454194016</title>\n<polygon fill=\"none\" stroke=\"black\" points=\"6,-110.5 6,-146.5 198,-146.5 198,-110.5 6,-110.5\"/>\n<text text-anchor=\"middle\" x=\"21\" y=\"-124.8\" font-family=\"Times,serif\" font-size=\"14.00\">x2</text>\n<polyline fill=\"none\" stroke=\"black\" points=\"36,-110.5 36,-146.5 \"/>\n<text text-anchor=\"middle\" x=\"76\" y=\"-124.8\" font-family=\"Times,serif\" font-size=\"14.00\">data 0.0000</text>\n<polyline fill=\"none\" stroke=\"black\" points=\"116,-110.5 116,-146.5 \"/>\n<text text-anchor=\"middle\" x=\"157\" y=\"-124.8\" font-family=\"Times,serif\" font-size=\"14.00\">grad 0.5000</text>\n</g>\n<!-- 140649454194016&#45;&gt;140649454124480* -->\n<g id=\"edge14\" class=\"edge\">\n<title>140649454194016&#45;&gt;140649454124480*</title>\n<path fill=\"none\" stroke=\"black\" d=\"M198.29,-128.5C209.32,-128.5 220.01,-128.5 229.51,-128.5\"/>\n<polygon fill=\"black\" stroke=\"black\" points=\"229.69,-132 239.69,-128.5 229.69,-125 229.69,-132\"/>\n</g>\n<!-- 140649454122896 -->\n<g id=\"node11\" class=\"node\">\n<title>140649454122896</title>\n<polygon fill=\"none\" stroke=\"black\" points=\"676,-82.5 676,-118.5 949,-118.5 949,-82.5 676,-82.5\"/>\n<text text-anchor=\"middle\" x=\"729\" y=\"-96.8\" font-family=\"Times,serif\" font-size=\"14.00\">x1*w1 + x2*w2</text>\n<polyline fill=\"none\" stroke=\"black\" points=\"782,-82.5 782,-118.5 \"/>\n<text text-anchor=\"middle\" x=\"824.5\" y=\"-96.8\" font-family=\"Times,serif\" font-size=\"14.00\">data &#45;6.0000</text>\n<polyline fill=\"none\" stroke=\"black\" points=\"867,-82.5 867,-118.5 \"/>\n<text text-anchor=\"middle\" x=\"908\" y=\"-96.8\" font-family=\"Times,serif\" font-size=\"14.00\">grad 0.5000</text>\n</g>\n<!-- 140649454122896&#45;&gt;140649454121312+ -->\n<g id=\"edge9\" class=\"edge\">\n<title>140649454122896&#45;&gt;140649454121312+</title>\n<path fill=\"none\" stroke=\"black\" d=\"M940.53,-82.49C953.09,-80.71 964.99,-79.02 975.3,-77.56\"/>\n<polygon fill=\"black\" stroke=\"black\" points=\"976.03,-80.99 985.44,-76.12 975.05,-74.06 976.03,-80.99\"/>\n</g>\n<!-- 140649454122896+&#45;&gt;140649454122896 -->\n<g id=\"edge4\" class=\"edge\">\n<title>140649454122896+&#45;&gt;140649454122896</title>\n<path fill=\"none\" stroke=\"black\" d=\"M640.23,-100.5C647.7,-100.5 656.41,-100.5 665.87,-100.5\"/>\n<polygon fill=\"black\" stroke=\"black\" points=\"665.98,-104 675.98,-100.5 665.98,-97 665.98,-104\"/>\n</g>\n<!-- 140649454193584 -->\n<g id=\"node13\" class=\"node\">\n<title>140649454193584</title>\n<polygon fill=\"none\" stroke=\"black\" points=\"720,-27.5 720,-63.5 905,-63.5 905,-27.5 720,-27.5\"/>\n<text text-anchor=\"middle\" x=\"731.5\" y=\"-41.8\" font-family=\"Times,serif\" font-size=\"14.00\">b</text>\n<polyline fill=\"none\" stroke=\"black\" points=\"743,-27.5 743,-63.5 \"/>\n<text text-anchor=\"middle\" x=\"783\" y=\"-41.8\" font-family=\"Times,serif\" font-size=\"14.00\">data 6.8814</text>\n<polyline fill=\"none\" stroke=\"black\" points=\"823,-27.5 823,-63.5 \"/>\n<text text-anchor=\"middle\" x=\"864\" y=\"-41.8\" font-family=\"Times,serif\" font-size=\"14.00\">grad 0.5000</text>\n</g>\n<!-- 140649454193584&#45;&gt;140649454121312+ -->\n<g id=\"edge12\" class=\"edge\">\n<title>140649454193584&#45;&gt;140649454121312+</title>\n<path fill=\"none\" stroke=\"black\" d=\"M905.02,-58.01C930,-61.43 955.59,-64.93 975.37,-67.63\"/>\n<polygon fill=\"black\" stroke=\"black\" points=\"975.05,-71.12 985.43,-69.01 976,-64.18 975.05,-71.12\"/>\n</g>\n<!-- 140649454124480 -->\n<g id=\"node14\" class=\"node\">\n<title>140649454124480</title>\n<polygon fill=\"none\" stroke=\"black\" points=\"332.5,-110.5 332.5,-146.5 547.5,-146.5 547.5,-110.5 332.5,-110.5\"/>\n<text text-anchor=\"middle\" x=\"359\" y=\"-124.8\" font-family=\"Times,serif\" font-size=\"14.00\">x2*w2</text>\n<polyline fill=\"none\" stroke=\"black\" points=\"385.5,-110.5 385.5,-146.5 \"/>\n<text text-anchor=\"middle\" x=\"425.5\" y=\"-124.8\" font-family=\"Times,serif\" font-size=\"14.00\">data 0.0000</text>\n<polyline fill=\"none\" stroke=\"black\" points=\"465.5,-110.5 465.5,-146.5 \"/>\n<text text-anchor=\"middle\" x=\"506.5\" y=\"-124.8\" font-family=\"Times,serif\" font-size=\"14.00\">grad 0.5000</text>\n</g>\n<!-- 140649454124480&#45;&gt;140649454122896+ -->\n<g id=\"edge7\" class=\"edge\">\n<title>140649454124480&#45;&gt;140649454122896+</title>\n<path fill=\"none\" stroke=\"black\" d=\"M547.84,-111.01C558.01,-109.34 567.76,-107.74 576.44,-106.32\"/>\n<polygon fill=\"black\" stroke=\"black\" points=\"577.17,-109.75 586.47,-104.68 576.04,-102.84 577.17,-109.75\"/>\n</g>\n<!-- 140649454124480*&#45;&gt;140649454124480 -->\n<g id=\"edge5\" class=\"edge\">\n<title>140649454124480*&#45;&gt;140649454124480</title>\n<path fill=\"none\" stroke=\"black\" d=\"M294.34,-128.5C302.51,-128.5 312.08,-128.5 322.36,-128.5\"/>\n<polygon fill=\"black\" stroke=\"black\" points=\"322.39,-132 332.39,-128.5 322.39,-125 322.39,-132\"/>\n</g>\n</g>\n</svg>\n",
      "text/plain": [
       "<graphviz.graphs.Digraph at 0x7feb80bf5ac0>"
      ]
     },
     "execution_count": 52,
     "metadata": {},
     "output_type": "execute_result"
    }
   ],
   "source": [
    "# set the base case\n",
    "o.grad = 1.0\n",
    "\n",
    "# then build the topological order \n",
    "topo = []\n",
    "visited = set()\n",
    "def build_topo(v):\n",
    "    if v not in visited:\n",
    "        visited.add(v)\n",
    "        for child in v._prev:\n",
    "            build_topo(child)\n",
    "        topo.append(v)\n",
    "\n",
    "\n",
    "build_topo(o)\n",
    "topo\n",
    "\n",
    "# we need to then go through the list in reversed \n",
    "# order and run our backpropagation\n",
    "for node in reversed(topo):\n",
    "    node._backward()\n",
    "\n",
    "# now we can draw the result \n",
    "draw_dot(o)"
   ]
  },
  {
   "cell_type": "code",
   "execution_count": null,
   "metadata": {},
   "outputs": [],
   "source": []
  }
 ],
 "metadata": {
  "kernelspec": {
   "display_name": "Python 3.9.13 ('DataScience')",
   "language": "python",
   "name": "python3"
  },
  "language_info": {
   "codemirror_mode": {
    "name": "ipython",
    "version": 3
   },
   "file_extension": ".py",
   "mimetype": "text/x-python",
   "name": "python",
   "nbconvert_exporter": "python",
   "pygments_lexer": "ipython3",
   "version": "3.9.13"
  },
  "orig_nbformat": 4,
  "vscode": {
   "interpreter": {
    "hash": "2c6c7fa3a239eef9c067874352a44de63d1c98833efde66e5319eb509ae6764f"
   }
  }
 },
 "nbformat": 4,
 "nbformat_minor": 2
}
