{
 "cells": [
  {
   "cell_type": "markdown",
   "metadata": {},
   "source": [
    "## Analysing zones"
   ]
  },
  {
   "cell_type": "markdown",
   "metadata": {},
   "source": [
    "There is a lot of methodology in finding a price action zone:\n",
    "Finding a zone:\n",
    "- Rally, base rally (RBR), Drop base rally (DBR), DBD, RBD\n",
    "\n",
    "Once an inital RBR has been found, a zone may or may not be identified by seeing how the top and bottom of the RBR interact with candle bodies and wicks\n",
    "\n",
    "Doing this in a data sense might be more difficult \n",
    "\n",
    "These have some characteristics about them, the question is how best to train a model to identify this in an efficient manner\n"
   ]
  },
  {
   "cell_type": "markdown",
   "metadata": {},
   "source": []
  }
 ],
 "metadata": {
  "kernelspec": {
   "display_name": "Python 3",
   "language": "python",
   "name": "python3"
  },
  "language_info": {
   "name": "python",
   "version": "3.10.6 (v3.10.6:9c7b4bd164, Aug  1 2022, 17:13:48) [Clang 13.0.0 (clang-1300.0.29.30)]"
  },
  "orig_nbformat": 4,
  "vscode": {
   "interpreter": {
    "hash": "aee8b7b246df8f9039afb4144a1f6fd8d2ca17a180786b69acc140d282b71a49"
   }
  }
 },
 "nbformat": 4,
 "nbformat_minor": 2
}
